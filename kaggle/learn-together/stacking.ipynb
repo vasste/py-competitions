{
 "cells": [
  {
   "cell_type": "code",
   "execution_count": 1,
   "metadata": {},
   "outputs": [],
   "source": [
    "import numpy as np # linear algebra\n",
    "import pandas as pd # data processing, CSV file I/O (e.g. pd.read_csv)\n",
    "\n",
    "from sklearn.ensemble import RandomForestClassifier, AdaBoostClassifier, GradientBoostingClassifier\n",
    "import xgboost as xgb\n",
    "from sklearn.model_selection import cross_val_score\n",
    "from sklearn.pipeline import make_pipeline\n",
    "\n",
    "from mlxtend.classifier import StackingCVClassifier\n",
    "from mlxtend.feature_selection import ColumnSelector\n",
    "from sklearn.model_selection import train_test_split\n",
    "from sklearn.tree import DecisionTreeClassifier\n",
    "import lightgbm as lgb\n",
    "import random"
   ]
  },
  {
   "cell_type": "code",
   "execution_count": 2,
   "metadata": {},
   "outputs": [],
   "source": [
    "RANDOM_SEED = 41\n",
    "cpus = 3\n",
    "random.seed(RANDOM_SEED)\n",
    "np.random.seed(RANDOM_SEED)\n",
    "hdth = 'Horizontal_Distance_To_Hydrology'\n",
    "vdth = 'Vertical_Distance_To_Hydrology'\n",
    "hdtr = 'Horizontal_Distance_To_Roadways'"
   ]
  },
  {
   "cell_type": "code",
   "execution_count": 3,
   "metadata": {},
   "outputs": [],
   "source": [
    "# extremely stony\n",
    "extremely_stony = ['Soil_Type' + str(i) for i in [1,24,25,27,28,29,30,31,34,36,37,38,39]]\n",
    "# rubbly\n",
    "rubbly = ['Soil_Type' + str(i) for i in [3,4,5,10,11,13]]\n",
    "# very stony\n",
    "very_stony = ['Soil_Type' + str(i) for i in [2,9,18,26]]\n",
    "# stony\n",
    "stony = ['Soil_Type' + str(i) for i in [6,12]]\n",
    "lack_info_cols = ['Soil_Type' + str(i) for i in [7,15,14,17,33,32]]\n",
    "wla = ['Wilderness_Area' + str(i) for i in [1,2,3,4]]\n",
    "SHADES = ['Hillshade_9am', 'Hillshade_Noon', 'Hillshade_3pm']"
   ]
  },
  {
   "cell_type": "code",
   "execution_count": 4,
   "metadata": {},
   "outputs": [],
   "source": [
    "def features(X):\n",
    "    X['HHV'] = np.sqrt(X[vdth]**2 + X[hdth]**2)\n",
    "    X['HR'] = X[hdth] - X['Horizontal_Distance_To_Roadways']\n",
    "    X['HF'] = X[hdth] - X['Horizontal_Distance_To_Fire_Points']\n",
    "    X['RP'] = X['Horizontal_Distance_To_Roadways'] - X['Horizontal_Distance_To_Fire_Points']\n",
    "    X['Hillshade_3pm'] = np.where(X['Hillshade_3pm'] > 0, X['Hillshade_3pm'], X['Hillshade_Noon'] - X['Hillshade_9am'])\n",
    "    X['shade_noon_diff'] = X['Hillshade_9am'] - X['Hillshade_Noon']\n",
    "    X['shade_3pm_diff'] = X['Hillshade_Noon'] - X['Hillshade_3pm']\n",
    "    X['shade_all_diff'] = X['Hillshade_3pm'] - X['Hillshade_9am']\n",
    "    X['shade_sum'] = X[SHADES].sum(axis=1)\n",
    "    X['shade_mean'] = X[SHADES].mean(axis=1)\n",
    "    X['extremely_stony'] = X[extremely_stony].sum(axis=1)\n",
    "    X['rubbly'] = X[rubbly].sum(axis=1)\n",
    "    X['very_stony'] = X[very_stony].sum(axis=1)\n",
    "    X['stony'] = X[stony].sum(axis=1)  "
   ]
  },
  {
   "cell_type": "code",
   "execution_count": 5,
   "metadata": {},
   "outputs": [],
   "source": [
    "train = pd.read_csv('train.csv')\n",
    "test = pd.read_csv('test.csv')\n",
    "\n",
    "features(train)\n",
    "features(test)\n",
    "\n",
    "X = train.copy().drop(['Cover_Type', 'Id'] + lack_info_cols, axis=1)\n",
    "y = train.copy()['Cover_Type']\n",
    "X_test = test.copy().drop(['Id'] + lack_info_cols, axis=1)"
   ]
  },
  {
   "cell_type": "code",
   "execution_count": 6,
   "metadata": {},
   "outputs": [],
   "source": [
    "xgb_cl = xgb.XGBClassifier(learning_rate = 0.775, n_estimators = 268, \n",
    "                           n_jobs = cpus, random_state = RANDOM_SEED)\n",
    "gb_cl = GradientBoostingClassifier(learning_rate = 0.1, max_depth = 10, \n",
    "                                   random_state = RANDOM_SEED, \n",
    "                                   n_estimators = 193)\n",
    "ab_cl = AdaBoostClassifier(n_estimators=200,\n",
    "                            base_estimator=DecisionTreeClassifier(\n",
    "                                min_samples_leaf=2,\n",
    "                                random_state=RANDOM_SEED),\n",
    "                            random_state=RANDOM_SEED)\n",
    "rf_cl = RandomForestClassifier(n_estimators = 719,\n",
    "                               n_jobs = cpus,\n",
    "                               max_features = 0.3,\n",
    "                               max_depth = 464,\n",
    "                               min_samples_split = 2,\n",
    "                               min_samples_leaf = 1,\n",
    "                               bootstrap = False,\n",
    "                               random_state=RANDOM_SEED)\n",
    "\n",
    "pipe_gb = make_pipeline(ColumnSelector(cols=range(0, X.shape[1])), gb_cl)\n",
    "pipe_xgb = make_pipeline(ColumnSelector(cols=range(0, X.shape[1])), xgb_cl)\n",
    "pipe_ab = make_pipeline(ColumnSelector(cols=range(0, X.shape[1])), ab_cl)\n",
    "pipe_rf = make_pipeline(ColumnSelector(cols=range(0, X.shape[1])), rf_cl)\n",
    "\n",
    "clf = StackingCVClassifier(classifiers=[pipe_xgb, pipe_xgb, pipe_ab],\n",
    "                            meta_classifier=rf_cl,\n",
    "#                             use_probas=True,\n",
    "                           cv=5,\n",
    "                            use_features_in_secondary=True,\n",
    "                            n_jobs = cpus,                            \n",
    "                            random_state=RANDOM_SEED)"
   ]
  },
  {
   "cell_type": "code",
   "execution_count": 7,
   "metadata": {},
   "outputs": [],
   "source": [
    "clf.fit(X, y)\n",
    "pred = clf.predict(X_test)\n",
    "sub_pd = pd.DataFrame(pred, columns=['Cover_Type'])\n",
    "sub_pd['Id'] = test['Id']\n",
    "sub_pd.to_csv('submission.csv', index=False)"
   ]
  }
 ],
 "metadata": {
  "kernelspec": {
   "display_name": "Python 3",
   "language": "python",
   "name": "python3"
  },
  "language_info": {
   "codemirror_mode": {
    "name": "ipython",
    "version": 3
   },
   "file_extension": ".py",
   "mimetype": "text/x-python",
   "name": "python",
   "nbconvert_exporter": "python",
   "pygments_lexer": "ipython3",
   "version": "3.6.8"
  }
 },
 "nbformat": 4,
 "nbformat_minor": 2
}
