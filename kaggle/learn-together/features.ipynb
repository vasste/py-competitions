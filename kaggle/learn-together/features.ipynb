{
 "cells": [
  {
   "cell_type": "code",
   "execution_count": 12,
   "metadata": {},
   "outputs": [],
   "source": [
    "import numpy as np # linear algebra\n",
    "import pandas as pd # data processing, CSV file I/O (e.g. pd.read_csv)\n",
    "\n",
    "from sklearn.ensemble import RandomForestClassifier, BaggingClassifier, GradientBoostingClassifier\n",
    "from sklearn.pipeline import make_pipeline\n",
    "from sklearn.ensemble import ExtraTreesClassifier\n",
    "from sklearn.model_selection import train_test_split, cross_val_score\n",
    "import xgboost as xgb\n",
    "\n",
    "import matplotlib.pyplot as plt\n",
    "import seaborn as sns\n",
    "import random\n",
    "from sklearn.preprocessing import FunctionTransformer\n",
    "%matplotlib inline\n",
    "from sklearn.feature_selection import SelectKBest\n",
    "from sklearn.feature_selection import chi2,f_classif\n",
    "import lightgbm as lgb"
   ]
  },
  {
   "cell_type": "code",
   "execution_count": 2,
   "metadata": {},
   "outputs": [],
   "source": [
    "RANDOM_SEED = 41\n",
    "cpus = -1\n",
    "random.seed(RANDOM_SEED)\n",
    "np.random.seed(RANDOM_SEED)\n",
    "\n",
    "hdth = 'Horizontal_Distance_To_Hydrology'\n",
    "vdth = 'Vertical_Distance_To_Hydrology'\n",
    "hdtr = 'Horizontal_Distance_To_Roadways'"
   ]
  },
  {
   "cell_type": "code",
   "execution_count": 18,
   "metadata": {},
   "outputs": [],
   "source": [
    "def wilderness(X):\n",
    "    sets = []\n",
    "    for i in range(1,5):        \n",
    "        sets.append(X.copy()[X['Wilderness_Area' + str(i)] == 1])\n",
    "    return sets"
   ]
  },
  {
   "cell_type": "code",
   "execution_count": 3,
   "metadata": {},
   "outputs": [],
   "source": [
    "train = pd.read_csv('train.csv')\n",
    "test = pd.read_csv('test.csv')"
   ]
  },
  {
   "cell_type": "code",
   "execution_count": 22,
   "metadata": {},
   "outputs": [],
   "source": [
    "Xs = wilderness(train)\n",
    "Xs_test = wilderness(test)"
   ]
  },
  {
   "cell_type": "code",
   "execution_count": 4,
   "metadata": {},
   "outputs": [],
   "source": [
    "# extremely stony\n",
    "extremely_stony = ['Soil_Type' + str(i) for i in [1,24,25,27,28,29,30,31,34,36,37,38,39]]\n",
    "# rubbly\n",
    "rubbly = ['Soil_Type' + str(i) for i in [3,4,5,10,11,13]]\n",
    "# very stony\n",
    "very_stony = ['Soil_Type' + str(i) for i in [2,9,18,26]]\n",
    "# stony\n",
    "stony = ['Soil_Type' + str(i) for i in [6,12]]\n",
    "lack_info_cols = ['Soil_Type' + str(i) for i in [7,15,14,17,33,32]]\n",
    "wla = ['Wilderness_Area' + str(i) for i in [1,2,3,4]]\n",
    "SHADES = ['Hillshade_9am', 'Hillshade_Noon', 'Hillshade_3pm']"
   ]
  },
  {
   "cell_type": "code",
   "execution_count": 45,
   "metadata": {},
   "outputs": [
    {
     "data": {
      "image/png": "[encoded data removed]",
      "text/plain": [
       "<Figure size 432x288 with 1 Axes>"
      ]
     },
     "metadata": {
      "needs_background": "light"
     },
     "output_type": "display_data"
    }
   ],
   "source": [
    "column = 'Elevation' \n",
    "wa = 2\n",
    "filter_column = 'Soil_Type1' \n",
    "filter_value = 1\n",
    "sns.distplot(train[(train[filter_column] == filter_value) & (train['Wilderness_Area' + str(wa)] == 1)][column], label = 'train') \n",
    "sns.distplot(test[(test[filter_column] == filter_value) & (test['Wilderness_Area' + str(wa)] == 1)][column], label = 'test') \n",
    "plt.legend() \n",
    "plt.title(column) \n",
    "plt.show()"
   ]
  },
  {
   "cell_type": "code",
   "execution_count": 9,
   "metadata": {},
   "outputs": [],
   "source": [
    "def features(X, wild):\n",
    "    hdthz = {}\n",
    "    vdthz = {}\n",
    "#     for i in set(list(X[X[hdth] == 0]['Elevation'])):\n",
    "#         hdthz[i] = int(X[X['Elevation'] == i][hdth].min())\n",
    "#     for i in set(list(X[X[vdth] == 0]['Elevation'])):\n",
    "#         vdthz[i] = int(X[X['Elevation'] == i][vdth].min())        \n",
    "#     for i in X.index:\n",
    "#         if X.at[i, hdth] == 0:\n",
    "#             X.loc[i, hdth] = hdthz[X.at[i, 'Elevation']]   \n",
    "#         if X.at[i, vdth] == 0:\n",
    "#             X.loc[i, vdth] = vdthz[X.at[i, 'Elevation']]             \n",
    "    X['HHV'] = np.sqrt(X[vdth]**2 + X[hdth]**2)\n",
    "    X['HR'] = X[hdth] - X['Horizontal_Distance_To_Roadways']\n",
    "    X['HF'] = X[hdth] - X['Horizontal_Distance_To_Fire_Points']\n",
    "    X['RP'] = X['Horizontal_Distance_To_Roadways'] - X['Horizontal_Distance_To_Fire_Points']\n",
    "    X['Hillshade_3pm'] = np.where(X['Hillshade_3pm'] > 0, X['Hillshade_3pm'], X['Hillshade_Noon'] - X['Hillshade_9am'])\n",
    "    X['shade_noon_diff'] = X['Hillshade_9am'] - X['Hillshade_Noon']\n",
    "    X['shade_3pm_diff'] = X['Hillshade_Noon'] - X['Hillshade_3pm']\n",
    "    X['shade_all_diff'] = X['Hillshade_3pm'] - X['Hillshade_9am']\n",
    "    X['shade_sum'] = X[SHADES].sum(axis=1)\n",
    "    X['shade_mean'] = X[SHADES].mean(axis=1)\n",
    "    X['extremely_stony'] = X[extremely_stony].sum(axis=1)\n",
    "    X['rubbly'] = X[rubbly].sum(axis=1)\n",
    "    X['very_stony'] = X[very_stony].sum(axis=1)\n",
    "    X['stony'] = X[stony].sum(axis=1)\n",
    "#     X['El'] = np.sin(X['Slope'] * np.pi/180) * X['Elevation']\n",
    "#     X['slopeH'] = np.sin(X['Slope'] * np.pi/180) * 30\n",
    "#     X['slopeG'] = X['Slope'] * np.pi/180\n",
    "#     return X.drop(wla, axis=1)   \n",
    "#     return X"
   ]
  },
  {
   "cell_type": "code",
   "execution_count": 12,
   "metadata": {},
   "outputs": [
    {
     "name": "stdout",
     "output_type": "stream",
     "text": [
      "                              Specs        Score\n",
      "0                         Elevation  2149.912337\n",
      "35                      Soil_Type30   412.237685\n",
      "5   Horizontal_Distance_To_Roadways   390.557899\n",
      "45                               HR   363.303136\n",
      "8                     Hillshade_3pm   345.105602\n",
      "41                      Soil_Type38   315.287876\n",
      "7                    Hillshade_Noon   245.909607\n",
      "48                          None3pm   228.687465\n",
      "2                             Slope   225.544358\n",
      "42                      Soil_Type39   188.406113\n"
     ]
    },
    {
     "name": "stderr",
     "output_type": "stream",
     "text": [
      "/home/vasste/.local/lib/python3.6/site-packages/sklearn/feature_selection/univariate_selection.py:114: UserWarning: Features [10 11 12 13 14 15 18 19 21 26 30 31 32 33 36 37 39 50] are constant.\n",
      "  UserWarning)\n",
      "/home/vasste/.local/lib/python3.6/site-packages/sklearn/feature_selection/univariate_selection.py:115: RuntimeWarning: invalid value encountered in true_divide\n",
      "  f = msb / msw\n"
     ]
    }
   ],
   "source": [
    "wild = 0\n",
    "filteredX = Xs[wild].copy()\n",
    "X = filteredX.copy().drop(['Cover_Type', 'Id'] + lack_info_cols, axis=1)\n",
    "X = features(X, wild)\n",
    "y = filteredX['Cover_Type']\n",
    "#apply SelectKBest class to extract top 10 best features\n",
    "bestfeatures = SelectKBest(score_func=f_classif, k=10)\n",
    "fit = bestfeatures.fit(X,y)\n",
    "dfscores = pd.DataFrame(fit.scores_)\n",
    "dfcolumns = pd.DataFrame(X.columns)\n",
    "#concat two dataframes for better visualization \n",
    "featureScores = pd.concat([dfcolumns,dfscores],axis=1)\n",
    "featureScores.columns = ['Specs','Score']  #naming the dataframe columns\n",
    "print(featureScores.nlargest(10,'Score'))  #print 10 best features"
   ]
  },
  {
   "cell_type": "code",
   "execution_count": 44,
   "metadata": {},
   "outputs": [
    {
     "name": "stderr",
     "output_type": "stream",
     "text": [
      "/home/vasste/.local/lib/python3.6/site-packages/sklearn/ensemble/forest.py:245: FutureWarning: The default value of n_estimators will change from 10 in version 0.20 to 100 in 0.22.\n",
      "  \"10 in version 0.20 to 100 in 0.22.\", FutureWarning)\n"
     ]
    },
    {
     "name": "stdout",
     "output_type": "stream",
     "text": [
      "[0.13191943 0.03089039 0.02178061 0.03041407 0.02838893 0.05028248\n",
      " 0.0259441  0.02853743 0.02265519 0.04468946 0.         0.01223108\n",
      " 0.00308907 0.02397917 0.         0.         0.         0.\n",
      " 0.02496487 0.00772127 0.         0.0162742  0.00204659 0.\n",
      " 0.00066146 0.00314137 0.00121954 0.00515478 0.00776056 0.00652121\n",
      " 0.         0.00182248 0.00068586 0.00025375 0.         0.\n",
      " 0.01093292 0.00102793 0.00866872 0.0005608  0.00035877 0.02839055\n",
      " 0.03437774 0.02021796 0.03306933 0.03820811 0.04197874 0.04608778\n",
      " 0.02362846 0.02695363 0.0232852  0.02313244 0.02365928 0.03405357\n",
      " 0.03918263 0.00919609 0.        ]\n"
     ]
    },
    {
     "data": {
      "image/png": "[encoded data removed]",
      "text/plain": [
       "<Figure size 432x288 with 1 Axes>"
      ]
     },
     "metadata": {
      "needs_background": "light"
     },
     "output_type": "display_data"
    }
   ],
   "source": [
    "wild = 2\n",
    "filteredX = Xs[wild].copy()\n",
    "X = filteredX.copy().drop(['Cover_Type', 'Id'] + lack_info_cols, axis=1)\n",
    "X = features(X, wild)\n",
    "y = filteredX['Cover_Type']\n",
    "model = ExtraTreesClassifier()\n",
    "model.fit(X,y)\n",
    "print(model.feature_importances_) #use inbuilt class feature_importances of tree based classifiers\n",
    "#plot graph of feature importances for better visualization\n",
    "feat_importances = pd.Series(model.feature_importances_, index=X.columns)\n",
    "feat_importances.nlargest(15).plot(kind='barh')\n",
    "plt.show()"
   ]
  },
  {
   "cell_type": "code",
   "execution_count": 29,
   "metadata": {},
   "outputs": [
    {
     "ename": "AttributeError",
     "evalue": "'LGBMRegressor' object has no attribute 'LGBMRegressor'",
     "output_type": "error",
     "traceback": [
      "\u001b[0;31m---------------------------------------------------------------------------\u001b[0m",
      "\u001b[0;31mAttributeError\u001b[0m                            Traceback (most recent call last)",
      "\u001b[0;32m<ipython-input-29-58849cda3f12>\u001b[0m in \u001b[0;36m<module>\u001b[0;34m\u001b[0m\n\u001b[1;32m      1\u001b[0m \u001b[0mrf\u001b[0m \u001b[0;34m=\u001b[0m \u001b[0mRandomForestClassifier\u001b[0m\u001b[0;34m(\u001b[0m\u001b[0mn_estimators\u001b[0m \u001b[0;34m=\u001b[0m \u001b[0;36m250\u001b[0m\u001b[0;34m,\u001b[0m \u001b[0mrandom_state\u001b[0m \u001b[0;34m=\u001b[0m \u001b[0mRANDOM_SEED\u001b[0m\u001b[0;34m,\u001b[0m \u001b[0mn_jobs\u001b[0m \u001b[0;34m=\u001b[0m \u001b[0mcpus\u001b[0m\u001b[0;34m)\u001b[0m\u001b[0;34m\u001b[0m\u001b[0;34m\u001b[0m\u001b[0m\n\u001b[1;32m      2\u001b[0m \u001b[0mgb\u001b[0m \u001b[0;34m=\u001b[0m \u001b[0mGradientBoostingClassifier\u001b[0m\u001b[0;34m(\u001b[0m\u001b[0mn_estimators\u001b[0m \u001b[0;34m=\u001b[0m \u001b[0;36m150\u001b[0m\u001b[0;34m,\u001b[0m \u001b[0mrandom_state\u001b[0m \u001b[0;34m=\u001b[0m \u001b[0mRANDOM_SEED\u001b[0m\u001b[0;34m)\u001b[0m\u001b[0;34m\u001b[0m\u001b[0;34m\u001b[0m\u001b[0m\n\u001b[0;32m----> 3\u001b[0;31m \u001b[0mlgb\u001b[0m \u001b[0;34m=\u001b[0m \u001b[0mgbm\u001b[0m \u001b[0;34m=\u001b[0m \u001b[0mlgb\u001b[0m\u001b[0;34m.\u001b[0m\u001b[0mLGBMRegressor\u001b[0m\u001b[0;34m(\u001b[0m\u001b[0;34m)\u001b[0m\u001b[0;34m\u001b[0m\u001b[0;34m\u001b[0m\u001b[0m\n\u001b[0m\u001b[1;32m      4\u001b[0m \u001b[0;32mfor\u001b[0m \u001b[0mwild\u001b[0m \u001b[0;32min\u001b[0m \u001b[0mrange\u001b[0m\u001b[0;34m(\u001b[0m\u001b[0;36m0\u001b[0m\u001b[0;34m,\u001b[0m \u001b[0;36m4\u001b[0m\u001b[0;34m)\u001b[0m\u001b[0;34m:\u001b[0m\u001b[0;34m\u001b[0m\u001b[0;34m\u001b[0m\u001b[0m\n\u001b[1;32m      5\u001b[0m     \u001b[0mfilteredX\u001b[0m \u001b[0;34m=\u001b[0m \u001b[0mXs\u001b[0m\u001b[0;34m[\u001b[0m\u001b[0mwild\u001b[0m\u001b[0;34m]\u001b[0m\u001b[0;34m.\u001b[0m\u001b[0mcopy\u001b[0m\u001b[0;34m(\u001b[0m\u001b[0;34m)\u001b[0m\u001b[0;34m\u001b[0m\u001b[0;34m\u001b[0m\u001b[0m\n",
      "\u001b[0;31mAttributeError\u001b[0m: 'LGBMRegressor' object has no attribute 'LGBMRegressor'"
     ]
    }
   ],
   "source": [
    "rf = RandomForestClassifier(n_estimators = 250, random_state = RANDOM_SEED, n_jobs = cpus)\n",
    "gb = GradientBoostingClassifier(n_estimators = 150, random_state = RANDOM_SEED)                                        \n",
    "lgb = gbm = lgb.LGBMRegressor()\n",
    "for wild in range(0, 4):    \n",
    "    filteredX = Xs[wild].copy()\n",
    "#     filteredX = filteredX[filteredX[hdth] > 0]\n",
    "    X = filteredX.copy().drop(['Cover_Type', 'Id'] + lack_info_cols, axis=1)\n",
    "    y = filteredX['Cover_Type']\n",
    "    features(X, wild)    \n",
    "    for cl in [gb]:          \n",
    "        print(wild, cross_val_score(cl, X, y, cv = 5, scoring='accuracy', n_jobs = cpus).mean())"
   ]
  },
  {
   "cell_type": "code",
   "execution_count": 10,
   "metadata": {},
   "outputs": [],
   "source": [
    "train = pd.read_csv('train.csv')\n",
    "test = pd.read_csv('test.csv')\n",
    "features(train, 0)\n",
    "features(test, 0)"
   ]
  },
  {
   "cell_type": "code",
   "execution_count": 11,
   "metadata": {},
   "outputs": [
    {
     "ename": "NameError",
     "evalue": "name 'Xs' is not defined",
     "output_type": "error",
     "traceback": [
      "\u001b[0;31m---------------------------------------------------------------------------\u001b[0m",
      "\u001b[0;31mNameError\u001b[0m                                 Traceback (most recent call last)",
      "\u001b[0;32m<ipython-input-11-a7e2594a40fc>\u001b[0m in \u001b[0;36m<module>\u001b[0;34m\u001b[0m\n\u001b[1;32m      1\u001b[0m \u001b[0mwild\u001b[0m \u001b[0;34m=\u001b[0m \u001b[0;36m0\u001b[0m\u001b[0;34m\u001b[0m\u001b[0;34m\u001b[0m\u001b[0m\n\u001b[0;32m----> 2\u001b[0;31m \u001b[0mfilteredX\u001b[0m \u001b[0;34m=\u001b[0m \u001b[0mXs\u001b[0m\u001b[0;34m[\u001b[0m\u001b[0mwild\u001b[0m\u001b[0;34m]\u001b[0m\u001b[0;34m.\u001b[0m\u001b[0mcopy\u001b[0m\u001b[0;34m(\u001b[0m\u001b[0;34m)\u001b[0m\u001b[0;34m\u001b[0m\u001b[0;34m\u001b[0m\u001b[0m\n\u001b[0m\u001b[1;32m      3\u001b[0m \u001b[0mX\u001b[0m \u001b[0;34m=\u001b[0m \u001b[0mfilteredX\u001b[0m\u001b[0;34m.\u001b[0m\u001b[0mcopy\u001b[0m\u001b[0;34m(\u001b[0m\u001b[0;34m)\u001b[0m\u001b[0;34m.\u001b[0m\u001b[0mdrop\u001b[0m\u001b[0;34m(\u001b[0m\u001b[0;34m[\u001b[0m\u001b[0;34m'Id'\u001b[0m\u001b[0;34m]\u001b[0m \u001b[0;34m+\u001b[0m \u001b[0mlack_info_cols\u001b[0m\u001b[0;34m,\u001b[0m \u001b[0maxis\u001b[0m\u001b[0;34m=\u001b[0m\u001b[0;36m1\u001b[0m\u001b[0;34m)\u001b[0m\u001b[0;34m\u001b[0m\u001b[0;34m\u001b[0m\u001b[0m\n\u001b[1;32m      4\u001b[0m \u001b[0mX\u001b[0m \u001b[0;34m=\u001b[0m \u001b[0mfeatures\u001b[0m\u001b[0;34m(\u001b[0m\u001b[0mX\u001b[0m\u001b[0;34m,\u001b[0m \u001b[0mwild\u001b[0m\u001b[0;34m)\u001b[0m\u001b[0;34m\u001b[0m\u001b[0;34m\u001b[0m\u001b[0m\n\u001b[1;32m      5\u001b[0m \u001b[0mcorrmat\u001b[0m \u001b[0;34m=\u001b[0m \u001b[0mX\u001b[0m\u001b[0;34m.\u001b[0m\u001b[0mcorr\u001b[0m\u001b[0;34m(\u001b[0m\u001b[0;34m)\u001b[0m\u001b[0;34m\u001b[0m\u001b[0;34m\u001b[0m\u001b[0m\n",
      "\u001b[0;31mNameError\u001b[0m: name 'Xs' is not defined"
     ]
    }
   ],
   "source": [
    "wild = 0\n",
    "filteredX = Xs[wild].copy()\n",
    "X = filteredX.copy().drop(['Id'] + lack_info_cols, axis=1)\n",
    "X = features(X, wild)\n",
    "corrmat = X.corr()\n",
    "top_corr_features = corrmat.index\n",
    "plt.figure(figsize=(20,20))\n",
    "#plot heat map\n",
    "g=sns.heatmap(X[top_corr_features].corr(),annot=True,cmap=\"RdYlGn\")"
   ]
  },
  {
   "cell_type": "code",
   "execution_count": null,
   "metadata": {},
   "outputs": [],
   "source": [
    "def classifier(X):\n",
    "    global RANDOM_SEED\n",
    "    return RandomForestClassifier(n_estimators = 250, random_state = RANDOM_SEED)\n",
    "\n",
    "wld_pred = []\n",
    "for i in range(1,5):      \n",
    "    train_wld = train.copy()[train['Wilderness_Area' + str(i)] == 1]\n",
    "    test_wld = test.copy()[test['Wilderness_Area' + str(i)] == 1]\n",
    "    \n",
    "    X = train_wld.copy().drop(['Cover_Type', 'Id'] + lack_info_cols, axis=1)\n",
    "    y = train_wld.copy()['Cover_Type']\n",
    "    X_test = test_wld.copy().drop(['Id'] + lack_info_cols, axis=1)\n",
    "    \n",
    "    clf = classifier(X)\n",
    "    clf.fit(X, y)\n",
    "    pred = clf.predict(X_test)\n",
    "    sub_pd = pd.DataFrame(pred, columns=['Cover_Type'], index=X_test.index)\n",
    "    sub_pd['Id'] = test_wld['Id']  \n",
    "    wld_pred.append(sub_pd)\n",
    "    \n",
    "submission = pd.concat(wld_pred)\n",
    "submission.to_csv('submission.csv', index=False)"
   ]
  },
  {
   "cell_type": "code",
   "execution_count": null,
   "metadata": {},
   "outputs": [],
   "source": [
    "train.columns"
   ]
  }
 ],
 "metadata": {
  "kernelspec": {
   "display_name": "Python 3",
   "language": "python",
   "name": "python3"
  },
  "language_info": {
   "codemirror_mode": {
    "name": "ipython",
    "version": 3
   },
   "file_extension": ".py",
   "mimetype": "text/x-python",
   "name": "python",
   "nbconvert_exporter": "python",
   "pygments_lexer": "ipython3",
   "version": "3.6.8"
  }
 },
 "nbformat": 4,
 "nbformat_minor": 2
}
