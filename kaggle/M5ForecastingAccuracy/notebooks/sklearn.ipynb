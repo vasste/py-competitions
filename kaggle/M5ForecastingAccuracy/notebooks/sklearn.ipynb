{
 "cells": [
  {
   "cell_type": "code",
   "execution_count": 1,
   "metadata": {},
   "outputs": [],
   "source": [
    "%load_ext autoreload\n",
    "%autoreload 1"
   ]
  },
  {
   "cell_type": "code",
   "execution_count": 2,
   "metadata": {},
   "outputs": [],
   "source": [
    "import os\n",
    "import sys\n",
    "module_path = os.path.abspath(os.path.join('..'))\n",
    "if module_path not in sys.path:\n",
    "    sys.path.append(module_path)\n",
    "\n",
    "import numpy as np\n",
    "import pandas as pd\n",
    "import matplotlib.pyplot as plt\n",
    "from sklearn.ensemble import GradientBoostingRegressor, RandomForestRegressor\n",
    "from sklearn.preprocessing import LabelEncoder"
   ]
  },
  {
   "cell_type": "code",
   "execution_count": 3,
   "metadata": {},
   "outputs": [],
   "source": [
    "from m5.functions import *\n",
    "%aimport m5.functions"
   ]
  },
  {
   "cell_type": "code",
   "execution_count": 306,
   "metadata": {},
   "outputs": [],
   "source": [
    "prediction_length = 28\n",
    "last_day = 1913 + 2*prediction_length"
   ]
  },
  {
   "cell_type": "code",
   "execution_count": 372,
   "metadata": {},
   "outputs": [],
   "source": [
    "ts_sales = pd.read_pickle('../ts_prices_sales.pk')\n",
    "date_index = ts_sales['date']\n",
    "ts_sales = ts_sales.set_index(date_index)"
   ]
  },
  {
   "cell_type": "code",
   "execution_count": 374,
   "metadata": {},
   "outputs": [
    {
     "data": {
      "image/png": "[encoded data removed]",
      "text/plain": [
       "<Figure size 432x288 with 1 Axes>"
      ]
     },
     "metadata": {
      "needs_background": "light"
     },
     "output_type": "display_data"
    }
   ],
   "source": [
    "# ts_sales['slp_HOBBIES_1_001_CA_1'].unique()\n",
    "plot_series(ts_sales.index, ts_sales['slp_HOBBIES_1_001_CA_1'])"
   ]
  },
  {
   "cell_type": "code",
   "execution_count": 460,
   "metadata": {},
   "outputs": [],
   "source": [
    "calculated = list(filter(is_added_column, ts_sales.columns))\n",
    "ts_sales = ts_sales.drop(calculated, axis=1)\n",
    "\n",
    "item_id = 'HOBBIES_1_008'\n",
    "agg_keys = []\n",
    "mean_agg_keys = []\n",
    "shop_id = 'CA_1'\n",
    "item = item_id + '_' + shop_id\n",
    "# item = item_id + '_' + state_id + '_1'\n",
    "for state_id in ['CA', 'TX', 'WI']:    \n",
    "    agg_key = aggregate([item_id, state_id], ts_sales)\n",
    "    agg_keys.append(agg_key) \n",
    "    \n",
    "for state_id in ['CA', 'TX', 'WI']:    \n",
    "    agg_key = aggregate(['HOBBIES_1', state_id], ts_sales)\n",
    "    agg_keys.append(agg_key)     \n",
    "    \n",
    "for key in agg_keys + [item]:        \n",
    "    for i in [7, 28]:        \n",
    "        mean_agg_key = 'mean_' + str(i) + '_' + key\n",
    "#         print(key)\n",
    "        # sales a month before\n",
    "        ts_sales[mean_agg_key] = ts_sales[[key, 'd']].apply(sma, axis=1, window=i, monthly=np.array([0]*i))\n",
    "        mean_agg_keys.append(mean_agg_key)"
   ]
  },
  {
   "cell_type": "code",
   "execution_count": 463,
   "metadata": {},
   "outputs": [],
   "source": [
    "prediction_start = 1000\n",
    "validation_lenght = prediction_length\n",
    "# 1913 - 28\n",
    "# validation_end = last_day\n",
    "validation_end = 1913 - 28\n",
    "validation_start = validation_end - validation_lenght"
   ]
  },
  {
   "cell_type": "code",
   "execution_count": 461,
   "metadata": {},
   "outputs": [
    {
     "name": "stdout",
     "output_type": "stream",
     "text": [
      "Index(['HOBBIES_1_008_CA_1', 'slp_HOBBIES_1_008_CA_1', 'wday', 'month',\n",
      "       'event_name_1_ord', 'event_name_2_ord', 'snap_CA',\n",
      "       'lag_28_HOBBIES_1_008_CA_1', 'agg_HOBBIES_1_008_CA',\n",
      "       'agg_HOBBIES_1_008_TX', 'agg_HOBBIES_1_008_WI', 'agg_HOBBIES_1_CA',\n",
      "       'agg_HOBBIES_1_TX', 'agg_HOBBIES_1_WI', 'mean_7_agg_HOBBIES_1_008_CA',\n",
      "       'mean_28_agg_HOBBIES_1_008_CA', 'mean_7_agg_HOBBIES_1_008_TX',\n",
      "       'mean_28_agg_HOBBIES_1_008_TX', 'mean_7_agg_HOBBIES_1_008_WI',\n",
      "       'mean_28_agg_HOBBIES_1_008_WI', 'mean_7_agg_HOBBIES_1_CA',\n",
      "       'mean_28_agg_HOBBIES_1_CA', 'mean_7_agg_HOBBIES_1_TX',\n",
      "       'mean_28_agg_HOBBIES_1_TX', 'mean_7_agg_HOBBIES_1_WI',\n",
      "       'mean_28_agg_HOBBIES_1_WI', 'mean_7_HOBBIES_1_008_CA_1',\n",
      "       'mean_28_HOBBIES_1_008_CA_1'],\n",
      "      dtype='object')\n"
     ]
    }
   ],
   "source": [
    "mean_cm = agg_keys + mean_agg_keys\n",
    "lag_columns = ['lag_' + str(i) + '_' + item for i in [28]]\n",
    "train_columns = ['wday', 'month', 'event_name_1_ord', 'event_name_2_ord', 'snap_CA'] \n",
    "train_columns = ['slp_' + item] + train_columns + lag_columns + mean_cm\n",
    "Xy = ts_sales[[item] + train_columns][0:-prediction_length].copy()\n",
    "print(Xy.columns)"
   ]
  },
  {
   "cell_type": "code",
   "execution_count": 464,
   "metadata": {},
   "outputs": [
    {
     "data": {
      "text/plain": [
       "7.2518335581406586"
      ]
     },
     "execution_count": 464,
     "metadata": {},
     "output_type": "execute_result"
    }
   ],
   "source": [
    "XyLags = Xy[[item] + train_columns]\n",
    "XyLags = XyLags.dropna()\n",
    "X_train = XyLags[prediction_start:validation_start][train_columns]\n",
    "y_train = XyLags[prediction_start:validation_start][item]\n",
    "X_test = XyLags[validation_start:validation_end][train_columns]\n",
    "y_test = XyLags[validation_start:validation_end][item]\n",
    "gb = GradientBoostingRegressor(n_estimators=250)\n",
    "gb.fit(X_train, y_train)\n",
    "y_hat = gb.predict(X_test)    \n",
    "np.sqrt(((y_hat - y_test)**2).mean())"
   ]
  },
  {
   "cell_type": "code",
   "execution_count": 452,
   "metadata": {},
   "outputs": [
    {
     "data": {
      "image/png": "[encoded data removed]",
      "text/plain": [
       "<Figure size 720x432 with 1 Axes>"
      ]
     },
     "metadata": {
      "needs_background": "light"
     },
     "output_type": "display_data"
    }
   ],
   "source": [
    "plt.figure(figsize=(10, 6))\n",
    "start_index = 19\n",
    "plot_series(Xy.index[1913:], y_hat)\n",
    "# plot_series(ts_sales.index[validation_start:validation_end], y_test)\n",
    "# plot_series(ts_sales.index[validation_start:validation_end], y_hat)"
   ]
  },
  {
   "cell_type": "code",
   "execution_count": null,
   "metadata": {},
   "outputs": [],
   "source": [
    "columns = ['id'] + ['F' + str(i) for i in range(1,29)]\n",
    "series = []\n",
    "for i,v in enumerate(['validation', 'evaluation']):\n",
    "    series.append([item + '_' + v] + list(y_hat[28*i:28*(i + 1)]))\n",
    "submission = pd.DataFrame(series, columns=columns)"
   ]
  },
  {
   "cell_type": "code",
   "execution_count": null,
   "metadata": {},
   "outputs": [],
   "source": [
    "submission"
   ]
  }
 ],
 "metadata": {
  "kernelspec": {
   "display_name": "scikit-learn",
   "language": "python",
   "name": "scikit-learn"
  },
  "language_info": {
   "codemirror_mode": {
    "name": "ipython",
    "version": 3
   },
   "file_extension": ".py",
   "mimetype": "text/x-python",
   "name": "python",
   "nbconvert_exporter": "python",
   "pygments_lexer": "ipython3",
   "version": "3.6.9"
  }
 },
 "nbformat": 4,
 "nbformat_minor": 4
}
