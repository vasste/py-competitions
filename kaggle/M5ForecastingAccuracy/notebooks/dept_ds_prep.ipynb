{
 "cells": [
  {
   "cell_type": "code",
   "execution_count": 1,
   "metadata": {},
   "outputs": [],
   "source": [
    "%load_ext autoreload\n",
    "%autoreload 1"
   ]
  },
  {
   "cell_type": "code",
   "execution_count": 2,
   "metadata": {},
   "outputs": [],
   "source": [
    "import os\n",
    "import sys\n",
    "module_path = os.path.abspath(os.path.join('..'))\n",
    "if module_path not in sys.path:\n",
    "    sys.path.append(module_path)\n",
    "\n",
    "import numpy as np\n",
    "import pandas as pd\n",
    "import lightgbm as lgb\n",
    "from sklearn.preprocessing import LabelEncoder\n",
    "from sklearn.model_selection import train_test_split\n",
    "import gc\n",
    "from sklearn.ensemble import GradientBoostingRegressor, RandomForestRegressor"
   ]
  },
  {
   "cell_type": "code",
   "execution_count": 3,
   "metadata": {},
   "outputs": [],
   "source": [
    "from m5.functions import *\n",
    "%aimport m5.functions"
   ]
  },
  {
   "cell_type": "code",
   "execution_count": 4,
   "metadata": {},
   "outputs": [],
   "source": [
    "ts_sales = pd.read_pickle('../ts_sales.pk')\n",
    "ts_sales['d'] = ts_sales['d'].transform(lambda x: int(x[2:]))"
   ]
  },
  {
   "cell_type": "code",
   "execution_count": 5,
   "metadata": {},
   "outputs": [],
   "source": [
    "prices = pd.read_pickle('../ts_prices.pk')\n",
    "prices = prices.set_index(ts_sales['date'])\n",
    "prices['d'] = ts_sales['d']"
   ]
  },
  {
   "cell_type": "code",
   "execution_count": 5,
   "metadata": {},
   "outputs": [],
   "source": [
    "# чаще встречающейся\n",
    "for cm in prices.columns:\n",
    "    cv = prices.groupby(cm)[cm].count()  \n",
    "    for i, v in cv.items():                    \n",
    "         if i > 0:\n",
    "            prices[cm] = prices[cm].replace({0:i})\n",
    "            break"
   ]
  },
  {
   "cell_type": "code",
   "execution_count": null,
   "metadata": {},
   "outputs": [],
   "source": [
    "prices = prices.replace({0:np.nan})\n",
    "# replace mean\n",
    "\n",
    "means = prices.mean()\n",
    "prices = prices.fillna(0)\n",
    "for cm in prices.columns:\n",
    "    prices[cm].replace({0:means[cm]})\n",
    "prices = prices.fillna(0)"
   ]
  },
  {
   "cell_type": "code",
   "execution_count": 9,
   "metadata": {},
   "outputs": [],
   "source": [
    "calendar_columns =['d', 'wday', 'month', 'event_name_1_ord', 'event_name_2_ord', 'date']\n",
    "lag_columns = list(filter(lambda x: 'HOBBIES' in x, ts_sales.columns))\n",
    "stores = ['CA_1', 'CA_2', 'CA_3', 'CA_4', 'TX_1', 'TX_2', 'TX_3', 'WI_1', 'WI_2', 'WI_3']\n",
    "rollings = [3, 5, 7]\n",
    "lags = [3, 5]"
   ]
  },
  {
   "cell_type": "code",
   "execution_count": 10,
   "metadata": {
    "scrolled": false
   },
   "outputs": [
    {
     "name": "stdout",
     "output_type": "stream",
     "text": [
      "3\n",
      "5\n",
      "28\n",
      "3\n",
      "5\n"
     ]
    }
   ],
   "source": [
    "agg_columns = add_aggregated_columns(ts_sales, [['FOODS', i] for i in stores])\n",
    "df = prepare_ds(calendar_columns, ts_sales, lag_columns, agg_columns,\n",
    "                rollings, lags)\n",
    "df.to_pickle('../learn_step.pk')"
   ]
  },
  {
   "cell_type": "code",
   "execution_count": null,
   "metadata": {},
   "outputs": [],
   "source": []
  },
  {
   "cell_type": "code",
   "execution_count": 11,
   "metadata": {},
   "outputs": [
    {
     "name": "stdout",
     "output_type": "stream",
     "text": [
      "3\n",
      "5\n",
      "28\n",
      "3\n",
      "5\n"
     ]
    }
   ],
   "source": [
    "df = convert_ds_to_learn(df, prices, calendar_columns, lag_columns, \n",
    "                          agg_columns, rollings, lags)\n",
    "le = LabelEncoder()\n",
    "le.fit(df.id.unique())\n",
    "df['iid'] = le.transform(df.id)\n",
    "df.to_pickle('../learn.pk')"
   ]
  },
  {
   "cell_type": "code",
   "execution_count": 33,
   "metadata": {},
   "outputs": [],
   "source": [
    "tr_lags = [3, 5]\n",
    "tr_rollings = [3, 5]\n",
    "feature_names  = ['wday', 'iid'] + \\\n",
    "    ['sma' + str(i) for i in tr_rollings] + \\\n",
    "    ['sma' + str(i) + '_shop' for i in tr_rollings] + ['lag' + str(i) for i in tr_lags] + \\\n",
    "    ['sma' + str(i) + '_lag' + str(y) for i in tr_rollings for y in tr_lags]\n",
    "categorical_features = ['event_name_1_ord']\n",
    "tr_cm = feature_names + categorical_features"
   ]
  },
  {
   "cell_type": "code",
   "execution_count": 35,
   "metadata": {},
   "outputs": [
    {
     "data": {
      "text/plain": [
       "<lightgbm.basic.Dataset at 0x7fe910051940>"
      ]
     },
     "execution_count": 35,
     "metadata": {},
     "output_type": "execute_result"
    }
   ],
   "source": [
    "# df = pd.read_pickle('../learn.pk')\n",
    "START = 500\n",
    "Xy = df[(df.d > START) & (df.d < 1969 - 56)]\n",
    "X = Xy[tr_cm]\n",
    "y = Xy['target']\n",
    "X_train, X_test, y_train, y_test = train_test_split(X, y, test_size=0.1, random_state=42)\n",
    "Xy.to_pickle('../Xy.pk')\n",
    "X_test.to_pickle('../X_test.pk')\n",
    "y_test.to_pickle('../y_test.pk')\n",
    "os.remove('../train.bin')\n",
    "os.remove('../test.bin')\n",
    "train = lgb.Dataset(X_train, label=y_train, feature_name=tr_cm, \n",
    "            categorical_feature=categorical_features).save_binary('../train.bin')\n",
    "lgb.Dataset(X_test, label=y_test, reference=train).save_binary('../test.bin')"
   ]
  }
 ],
 "metadata": {
  "kernelspec": {
   "display_name": "gbd",
   "language": "python",
   "name": "gbd"
  },
  "language_info": {
   "codemirror_mode": {
    "name": "ipython",
    "version": 3
   },
   "file_extension": ".py",
   "mimetype": "text/x-python",
   "name": "python",
   "nbconvert_exporter": "python",
   "pygments_lexer": "ipython3",
   "version": "3.6.9"
  }
 },
 "nbformat": 4,
 "nbformat_minor": 4
}
