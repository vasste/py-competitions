{
 "cells": [
  {
   "cell_type": "code",
   "execution_count": 4,
   "metadata": {
    "scrolled": false
   },
   "outputs": [
    {
     "name": "stdout",
     "output_type": "stream",
     "text": [
      "SK_ID\n",
      "2       0.000000\n",
      "2       0.000000\n",
      "2       0.000000\n",
      "2       0.000000\n",
      "2       0.000000\n",
      "3       0.058873\n",
      "3       0.069722\n",
      "3       0.117746\n",
      "3       0.000000\n",
      "3       0.027950\n",
      "3       0.059378\n",
      "3       0.126156\n",
      "3       0.076451\n",
      "3       0.077208\n",
      "4       0.000000\n",
      "4       0.000000\n",
      "4       0.000000\n",
      "4       0.000000\n",
      "4       0.000000\n",
      "4       0.000000\n",
      "4       0.000000\n",
      "4       0.000000\n",
      "4       0.000000\n",
      "4       0.000000\n",
      "4       0.000000\n",
      "4       0.000000\n",
      "5       0.000000\n",
      "5       0.000000\n",
      "5       0.000000\n",
      "5       0.000000\n",
      "          ...   \n",
      "4700    0.000000\n",
      "4700    0.000000\n",
      "4700    0.000000\n",
      "4700    0.000000\n",
      "4700    0.000000\n",
      "4700    0.000000\n",
      "4701    0.000000\n",
      "4701    0.000000\n",
      "4701    0.000000\n",
      "4701    0.000000\n",
      "4701    0.000000\n",
      "4701    0.000000\n",
      "4701    0.000000\n",
      "4701    0.000000\n",
      "4701    0.000000\n",
      "4701    0.000000\n",
      "4701    0.000000\n",
      "4701    0.000000\n",
      "4702    0.000000\n",
      "4702    0.000000\n",
      "4702    0.000000\n",
      "4702    0.000000\n",
      "4702    0.000000\n",
      "4702    0.000000\n",
      "4702    0.000000\n",
      "4702    0.000000\n",
      "4702    0.000000\n",
      "4702    0.000000\n",
      "4702    0.000000\n",
      "4702    0.000000\n",
      "Name: COM_CAT#17, Length: 47411, dtype: float64\n"
     ]
    }
   ],
   "source": [
    "import numpy as np\n",
    "import pandas as pd\n",
    "import os\n",
    "os.chdir('/home/vasste/ml')\n",
    "from telecom.train_columns import *\n",
    "os.chdir('/home/vasste/mlbootcap/TelecomDataCup/dataset')\n",
    "\n",
    "f = pd.read_pickle('train/subs_features_train.pk')\n",
    "c = pd.read_pickle('train/subs_csi_train.pk')\n",
    "f = f.join(c)\n",
    "f = f.reindex(['CSI'] + list([a for a in f.columns if a != 'CSI']), axis=1)\n",
    "f = pd.get_dummies(f, columns=['COM_CAT#7'])\n",
    "f.corr().style.background_gradient()\n",
    "print(f['COM_CAT#17'])"
   ]
  },
  {
   "cell_type": "code",
   "execution_count": null,
   "metadata": {},
   "outputs": [],
   "source": []
  }
 ],
 "metadata": {
  "kernelspec": {
   "display_name": "Python 3",
   "language": "python",
   "name": "python3"
  },
  "language_info": {
   "codemirror_mode": {
    "name": "ipython",
    "version": 3
   },
   "file_extension": ".py",
   "mimetype": "text/x-python",
   "name": "python",
   "nbconvert_exporter": "python",
   "pygments_lexer": "ipython3",
   "version": "3.6.7"
  }
 },
 "nbformat": 4,
 "nbformat_minor": 2
}
