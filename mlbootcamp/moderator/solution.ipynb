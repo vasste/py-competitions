{
 "cells": [
  {
   "cell_type": "code",
   "execution_count": 2,
   "metadata": {},
   "outputs": [],
   "source": [
    "import numpy as np\n",
    "import pandas as pd"
   ]
  },
  {
   "cell_type": "code",
   "execution_count": 128,
   "metadata": {},
   "outputs": [],
   "source": [
    "def al(box):\n",
    "    return box[:,2] - box[:,0]    \n",
    "def aw(box):\n",
    "    return box[:,3] - box[:,1]\n",
    "\n",
    "def area(box):\n",
    "    return (box[2] - box[0]) * (box[3] - box[1])\n",
    "\n",
    "def intersection_over_union(boxes):\n",
    "    assert(len(boxes) == 8)\n",
    "    boxA = boxes[:4].values\n",
    "    boxB = boxes[4:].values\n",
    "    \n",
    "    boxAArea = area(boxA)\n",
    "    boxBArea = area(boxB)\n",
    "    \n",
    "    if (boxAArea == 0 or boxBArea == 0):\n",
    "        return 0\n",
    "        \n",
    "    xA = max(boxA[0], boxB[0])\n",
    "    yA = max(boxA[1], boxB[1])\n",
    "    xB = min(boxA[2], boxB[2])\n",
    "    yB = min(boxA[3], boxB[3])\n",
    "\n",
    "    interArea = max(0, xB - xA) * max(0, yB - yA)\n",
    "\n",
    "    \n",
    "    iou = interArea / float(boxAArea + boxBArea - interArea)\n",
    "    return iou\n",
    "\n",
    "box_columns = ['Xmin','Ymin','Xmax','Ymax']\n",
    "\n",
    "def weighted_averaging(data, item_id, np_data, avg):\n",
    "    ix = data[data['itemId'] == item_id].index\n",
    "    vi = np_data[ix]\n",
    "    l = np.fmax(al(vi), np.ones(len(vi), dtype=int))\n",
    "    w = np.fmax(aw(vi), np.ones(len(vi), dtype=int))\n",
    "    sabx = (l*w)**2\n",
    "    sb = sum(1/sabx)\n",
    "    for y in range(0,4):\n",
    "        avg.loc[item_id][y] = sum(vi[:,y]/sabx)/sb\n",
    "        \n",
    "def weighted_averaging2(vi, item_id, avg):\n",
    "    l = np.fmax(al(vi), np.ones(len(vi), dtype=int))\n",
    "    w = np.fmax(aw(vi), np.ones(len(vi), dtype=int))\n",
    "    sabx = (l*w)**2\n",
    "    sb = sum(1/sabx)\n",
    "    for y in range(0,4):\n",
    "        avg.loc[item_id][y] = sum(vi[:,y]/sabx)/sb         "
   ]
  },
  {
   "cell_type": "code",
   "execution_count": 114,
   "metadata": {},
   "outputs": [],
   "source": [
    "train_answers = pd.read_csv(\"train_answers.csv\")\n",
    "train_votes = pd.read_csv(\"train_data.csv\")\n",
    "test_data = pd.read_csv('test_data.csv')\n",
    "users_rating = pd.read_csv(\"users_rating.csv\")\n",
    "users_rating = users_rating.set_index('userId')"
   ]
  },
  {
   "cell_type": "code",
   "execution_count": 6,
   "metadata": {},
   "outputs": [],
   "source": [
    "ids = list(set(test_data['itemId']))\n",
    "bx = test_data.loc[: 'itemId'][box_columns]\n",
    "abx = np.array(bx)"
   ]
  },
  {
   "cell_type": "code",
   "execution_count": 377,
   "metadata": {},
   "outputs": [],
   "source": [
    "answer = pd.DataFrame(np.zeros((len(ids), 4), dtype=int), index=ids, columns=box_columns)\n",
    "for i in ids:\n",
    "    weighted_averaging(test_data, i, abx, answer)"
   ]
  },
  {
   "cell_type": "code",
   "execution_count": 151,
   "metadata": {},
   "outputs": [],
   "source": [
    "iid = 33980\n",
    "uids = test_data[test_data['itemId'] == iid]['userId']\n",
    "uid = users_rating.loc[uids].idxmax()['iou']\n",
    "ti = test_data.loc[test_data['itemId'] == iid].loc[test_data['userId'] == uid][box_columns]\n",
    "# for i in box_columns:\n",
    "#     answer.loc[ids[0]][i] = ti[i]"
   ]
  },
  {
   "cell_type": "code",
   "execution_count": 153,
   "metadata": {},
   "outputs": [
    {
     "name": "stdout",
     "output_type": "stream",
     "text": [
      "             iou\n",
      "userId          \n",
      "951     0.381557\n",
      "410     0.439285\n",
      "952     0.428113\n",
      "410\n",
      "      userId  itemId  Xmin  Ymin  Xmax  Ymax\n",
      "1133     410   33980    60   720   161   806\n"
     ]
    }
   ],
   "source": [
    "# print(users_rating.ix[uids])\n",
    "ud = users_rating.loc[uids]\n",
    "print(ud)\n",
    "udx = ud['iou'].idxmax()\n",
    "print(udx)\n",
    "print(test_data[(test_data['itemId'] == iid) & (test_data['userId'] == udx)])"
   ]
  },
  {
   "cell_type": "code",
   "execution_count": 157,
   "metadata": {},
   "outputs": [
    {
     "name": "stderr",
     "output_type": "stream",
     "text": [
      "/home/vasste/.local/lib/python3.6/site-packages/ipykernel_launcher.py:4: FutureWarning: \n",
      "Passing list-likes to .loc or [] with any missing label will raise\n",
      "KeyError in the future, you can use .reindex() as an alternative.\n",
      "\n",
      "See the documentation here:\n",
      "https://pandas.pydata.org/pandas-docs/stable/indexing.html#deprecate-loc-reindex-listlike\n",
      "  after removing the cwd from sys.path.\n"
     ]
    }
   ],
   "source": [
    "answer = pd.DataFrame(np.zeros((len(ids), 4), dtype=int), index=ids, columns=box_columns)\n",
    "for i in ids: \n",
    "    uids = test_data[test_data['itemId'] == i]['userId']\n",
    "    ud = users_rating.loc[uids]\n",
    "    udx = ud['iou'].idxmax()\n",
    "    ti = test_data[(test_data['itemId'] == i) & (test_data['userId'] == udx)].mean()\n",
    "#     ix = ti.index\n",
    "#     vi = abx[ix]        \n",
    "#     weighted_averaging2(vi, i, answer)\n",
    "    answer.loc[i] = ti"
   ]
  },
  {
   "cell_type": "code",
   "execution_count": 158,
   "metadata": {},
   "outputs": [],
   "source": [
    "answer.to_csv('submit0904.csv', header=False)"
   ]
  }
 ],
 "metadata": {
  "kernelspec": {
   "display_name": "Python 3",
   "language": "python",
   "name": "python3"
  },
  "language_info": {
   "codemirror_mode": {
    "name": "ipython",
    "version": 3
   },
   "file_extension": ".py",
   "mimetype": "text/x-python",
   "name": "python",
   "nbconvert_exporter": "python",
   "pygments_lexer": "ipython3",
   "version": "3.6.8"
  }
 },
 "nbformat": 4,
 "nbformat_minor": 2
}
