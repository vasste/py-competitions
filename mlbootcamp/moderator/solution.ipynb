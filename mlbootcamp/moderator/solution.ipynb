{
 "cells": [
  {
   "cell_type": "code",
   "execution_count": 2,
   "metadata": {},
   "outputs": [],
   "source": [
    "import numpy as np\n",
    "import pandas as pd\n",
    "from ideas import intersection_over_union\n",
    "from ideas import al\n",
    "from ideas import aw"
   ]
  },
  {
   "cell_type": "code",
   "execution_count": 5,
   "metadata": {},
   "outputs": [],
   "source": [
    "box_columns = ['Xmin','Ymin','Xmax','Ymax']\n",
    "\n",
    "def weighted_averaging(data, item_id, np_data, avg):\n",
    "    ix = data[data['itemId'] == item_id].index\n",
    "    vi = np_data[ix]\n",
    "    l = np.fmax(al(vi), np.ones(len(vi), dtype=int))\n",
    "    w = np.fmax(aw(vi), np.ones(len(vi), dtype=int))\n",
    "    sabx = (l*w)**2\n",
    "    sb = sum(1/sabx)\n",
    "    for y in range(0,4):\n",
    "        avg.loc[item_id][y] = sum(vi[:,y]/sabx)/sb"
   ]
  },
  {
   "cell_type": "code",
   "execution_count": 3,
   "metadata": {},
   "outputs": [],
   "source": [
    "t_a = pd.read_csv(\"train_answers.csv\")\n",
    "t_d = pd.read_csv(\"train_data.csv\")\n",
    "test_data = pd.read_csv('test_data.csv')\n",
    "users_rating = pd.read_csv(\"users_rating.csv\")\n",
    "users_rating = users_rating.set_index('userId')\n",
    "users_adj = pd.read_csv(\"users_adj.csv\")\n",
    "users_adj = users_adj.set_index('userId')\n",
    "max_result = pd.read_csv('submit-max.csv')\n",
    "max_result = max_result.set_index('itemId')"
   ]
  },
  {
   "cell_type": "code",
   "execution_count": 4,
   "metadata": {},
   "outputs": [
    {
     "ename": "NameError",
     "evalue": "name 'box_columns' is not defined",
     "output_type": "error",
     "traceback": [
      "\u001b[0;31m---------------------------------------------------------------------------\u001b[0m",
      "\u001b[0;31mNameError\u001b[0m                                 Traceback (most recent call last)",
      "\u001b[0;32m<ipython-input-4-6081a209937d>\u001b[0m in \u001b[0;36m<module>\u001b[0;34m\u001b[0m\n\u001b[1;32m      1\u001b[0m \u001b[0mids\u001b[0m \u001b[0;34m=\u001b[0m \u001b[0mlist\u001b[0m\u001b[0;34m(\u001b[0m\u001b[0mset\u001b[0m\u001b[0;34m(\u001b[0m\u001b[0mtest_data\u001b[0m\u001b[0;34m[\u001b[0m\u001b[0;34m'itemId'\u001b[0m\u001b[0;34m]\u001b[0m\u001b[0;34m)\u001b[0m\u001b[0;34m)\u001b[0m\u001b[0;34m\u001b[0m\u001b[0;34m\u001b[0m\u001b[0m\n\u001b[0;32m----> 2\u001b[0;31m \u001b[0mbx\u001b[0m \u001b[0;34m=\u001b[0m \u001b[0mtest_data\u001b[0m\u001b[0;34m.\u001b[0m\u001b[0mloc\u001b[0m\u001b[0;34m[\u001b[0m\u001b[0;34m:\u001b[0m \u001b[0;34m'itemId'\u001b[0m\u001b[0;34m]\u001b[0m\u001b[0;34m[\u001b[0m\u001b[0mbox_columns\u001b[0m\u001b[0;34m]\u001b[0m\u001b[0;34m\u001b[0m\u001b[0;34m\u001b[0m\u001b[0m\n\u001b[0m\u001b[1;32m      3\u001b[0m \u001b[0mabx\u001b[0m \u001b[0;34m=\u001b[0m \u001b[0mnp\u001b[0m\u001b[0;34m.\u001b[0m\u001b[0marray\u001b[0m\u001b[0;34m(\u001b[0m\u001b[0mbx\u001b[0m\u001b[0;34m)\u001b[0m\u001b[0;34m\u001b[0m\u001b[0;34m\u001b[0m\u001b[0m\n",
      "\u001b[0;31mNameError\u001b[0m: name 'box_columns' is not defined"
     ]
    }
   ],
   "source": [
    "ids = list(set(test_data['itemId']))\n",
    "bx = test_data.loc[: 'itemId'][box_columns]\n",
    "abx = np.array(bx)"
   ]
  },
  {
   "cell_type": "code",
   "execution_count": 377,
   "metadata": {},
   "outputs": [],
   "source": [
    "answer = pd.DataFrame(np.zeros((len(ids), 4), dtype=int), index=ids, columns=box_columns)\n",
    "for i in ids:\n",
    "    weighted_averaging(test_data, i, abx, answer)"
   ]
  },
  {
   "cell_type": "code",
   "execution_count": 151,
   "metadata": {},
   "outputs": [],
   "source": [
    "iid = 33980\n",
    "uids = test_data[test_data['itemId'] == iid]['userId']\n",
    "uid = users_rating.loc[uids].idxmax()['iou']\n",
    "ti = test_data.loc[test_data['itemId'] == iid].loc[test_data['userId'] == uid][box_columns]\n",
    "# for i in box_columns:\n",
    "#     answer.loc[ids[0]][i] = ti[i]"
   ]
  },
  {
   "cell_type": "code",
   "execution_count": 12,
   "metadata": {},
   "outputs": [
    {
     "name": "stderr",
     "output_type": "stream",
     "text": [
      "/home/vasste/.local/lib/python3.6/site-packages/ipykernel_launcher.py:4: FutureWarning: \n",
      "Passing list-likes to .loc or [] with any missing label will raise\n",
      "KeyError in the future, you can use .reindex() as an alternative.\n",
      "\n",
      "See the documentation here:\n",
      "https://pandas.pydata.org/pandas-docs/stable/indexing.html#deprecate-loc-reindex-listlike\n",
      "  after removing the cwd from sys.path.\n"
     ]
    },
    {
     "name": "stdout",
     "output_type": "stream",
     "text": [
      "       Xmin  Ymin  Xmax  Ymax  itemId\n",
      "4099      3    11    60     6    4099\n",
      "8199     -2     8    19   -33    8199\n",
      "8200   -104    26    44   -16    8200\n",
      "24587   -25    -5    30    -8   24587\n",
      "8204     20     2     0    -8    8204\n",
      "12300   -78   -58   116    63   12300\n",
      "18       -6    -5    56    38      18\n",
      "19       -1    -4     8    26      19\n",
      "6163     33    41    56    72    6163\n",
      "26645   -34    14    36   -39   26645\n",
      "18454     0     0     0     0   18454\n",
      "28694   -39   -25    58    27   28694\n",
      "30745   -22   -26   -33   -60   30745\n",
      "2075     48    53   -14    76    2075\n",
      "2081      6   -38   -15    19    2081\n",
      "33      -55   -12   -40    -8      33\n",
      "18470  -140   -36  -220   -82   18470\n",
      "14376    -5     9     8    -5   14376\n",
      "10280   -21    -5    -5   -26   10280\n",
      "32812     4     4     4     0   32812\n",
      "22572    19    16     8   -47   22572\n",
      "24633    51    44    84   -13   24633\n",
      "30777   -15   -25   -22   -58   30777\n",
      "62      -92    -4   -66    -3      62\n",
      "24639    74    15   -29     0   24639\n",
      "16449    25     3     1    10   16449\n",
      "22599    47    47    19  -142   22599\n",
      "20552   -61   -20   -48    -6   20552\n",
      "18505     1     1     0    -4   18505\n",
      "16465    53     6     2    22   16465\n",
      "...     ...   ...   ...   ...     ...\n",
      "16288    93    37    69    -3   16288\n",
      "28577     9    20     0     9   28577\n",
      "30633    52    48    33   -29   30633\n",
      "8108     -7    29    69  -117    8108\n",
      "14254     4     3    -1     2   14254\n",
      "24505     3     0     9    19   24505\n",
      "8126    -91    31    38   -19    8126\n",
      "4033      3     9    63     5    4033\n",
      "4034      1   -10    -7    10    4034\n",
      "28619    22   -16  -113  -110   28619\n",
      "16335    86    15   -74   135   16335\n",
      "20434    -7    -8   -35     2   20434\n",
      "10195    -1    -1    -7     0   10195\n",
      "24532   -27    -6    33    -9   24532\n",
      "30679    -1    -5     6    -5   30679\n",
      "12249    56   -54   -29   -73   12249\n",
      "24538    -4    -1     5    -2   24538\n",
      "6109     65   -21   -52   -19    6109\n",
      "4063    128    31   -40     1    4063\n",
      "32736   -59    -6     3    14   32736\n",
      "14310    89     9   -81    10   14310\n",
      "24552   -50   -17    60   -26   24552\n",
      "18410    12    18   -43   -12   18410\n",
      "34796    23     4   -11   -12   34796\n",
      "20465     0   -21   -57   -19   20465\n",
      "12275   -17    -7     2    -4   12275\n",
      "34804     5     2     2    -8   34804\n",
      "8182     33    19    18    -6    8182\n",
      "12283    70   -52    44    50   12283\n",
      "8189     -9     4     3    -2    8189\n",
      "\n",
      "[630 rows x 5 columns]\n"
     ]
    }
   ],
   "source": [
    "answer = pd.DataFrame(np.zeros((len(ids), 5), dtype=int), index=ids, columns=box_columns + ['itemId'])\n",
    "for i in ids:    \n",
    "    uids = test_data[test_data['itemId'] == i]['userId']\n",
    "    uid = users_rating.loc[uids].idxmax()['iou']\n",
    "    ti = test_data.loc[test_data['itemId'] == i].loc[test_data['userId'] == uid][box_columns].max()\n",
    "    uajd = users_adj.loc[uid]\n",
    "    l = ti['Xmax'] - ti['Xmin']\n",
    "    w = ti['Ymax'] - ti['Ymin']\n",
    "    for y in box_columns:        \n",
    "        t = l if \"X\" in y else w\n",
    "        c = 1 if \"min\" in y else -1\n",
    "        answer.loc[i][y] = answer.loc[i][y] + c * t * uajd[y + 'DifPer']\n",
    "    answer.loc[i]['itemId'] = i  "
   ]
  },
  {
   "cell_type": "code",
   "execution_count": 9,
   "metadata": {},
   "outputs": [
    {
     "name": "stdout",
     "output_type": "stream",
     "text": [
      "       Xmin  Ymin  Xmax  Ymax  itemId\n",
      "4099     -3   -11   -60    -6    4099\n",
      "8199      2    -8   -19    33    8199\n",
      "8200    104   -26   -44    16    8200\n",
      "24587    25     5   -30     8   24587\n",
      "8204    -20    -2     0     8    8204\n",
      "12300    78    58  -116   -63   12300\n",
      "18        6     5   -56   -38      18\n",
      "19        1     4    -8   -26      19\n",
      "6163    -33   -41   -56   -72    6163\n",
      "26645    34   -14   -36    39   26645\n",
      "18454     0     0     0     0   18454\n",
      "28694    39    25   -58   -27   28694\n",
      "30745    22    26    33    60   30745\n",
      "2075    -48   -53    14   -76    2075\n",
      "2081     -6    38    15   -19    2081\n",
      "33       55    12    40     8      33\n",
      "18470   140    36   220    82   18470\n",
      "14376     5    -9    -8     5   14376\n",
      "10280    21     5     5    26   10280\n",
      "32812    -4    -4    -4     0   32812\n",
      "22572   -19   -16    -8    47   22572\n",
      "24633   -51   -44   -84    13   24633\n",
      "30777    15    25    22    58   30777\n",
      "62       92     4    66     3      62\n",
      "24639   -74   -15    29     0   24639\n",
      "16449   -25    -3    -1   -10   16449\n",
      "22599   -47   -47   -19   142   22599\n",
      "20552    61    20    48     6   20552\n",
      "18505    -1    -1     0     4   18505\n",
      "16465   -53    -6    -2   -22   16465\n",
      "...     ...   ...   ...   ...     ...\n",
      "16288   -93   -37   -69     3   16288\n",
      "28577    -9   -20     0    -9   28577\n",
      "30633   -52   -48   -33    29   30633\n",
      "8108      7   -29   -69   117    8108\n",
      "14254    -4    -3     1    -2   14254\n",
      "24505    -3     0    -9   -19   24505\n",
      "8126     91   -31   -38    19    8126\n",
      "4033     -3    -9   -63    -5    4033\n",
      "4034     -1    10     7   -10    4034\n",
      "28619   -22    16   113   110   28619\n",
      "16335   -86   -15    74  -135   16335\n",
      "20434     7     8    35    -2   20434\n",
      "10195     1     1     7     0   10195\n",
      "24532    27     6   -33     9   24532\n",
      "30679     1     5    -6     5   30679\n",
      "12249   -56    54    29    73   12249\n",
      "24538     4     1    -5     2   24538\n",
      "6109    -65    21    52    19    6109\n",
      "4063   -128   -31    40    -1    4063\n",
      "32736    59     6    -3   -14   32736\n",
      "14310   -89    -9    81   -10   14310\n",
      "24552    50    17   -60    26   24552\n",
      "18410   -12   -18    43    12   18410\n",
      "34796   -23    -4    11    12   34796\n",
      "20465     0    21    57    19   20465\n",
      "12275    17     7    -2     4   12275\n",
      "34804    -5    -2    -2     8   34804\n",
      "8182    -33   -19   -18     6    8182\n",
      "12283   -70    52   -44   -50   12283\n",
      "8189      9    -4    -3     2    8189\n",
      "\n",
      "[630 rows x 5 columns]\n",
      "0.0\n"
     ]
    }
   ],
   "source": [
    "data = answer.merge(max_result, on=['itemId'])\n",
    "data[\"iou\"] = data[['Xmin','Ymin', 'Xmax', 'Ymax', 'Xmin_true',\\\n",
    "      'Ymin_true', 'Xmax_true','Ymax_true']].apply(intersection_over_union, axis=1)\n",
    "print(data[\"iou\"].mean()) "
   ]
  },
  {
   "cell_type": "code",
   "execution_count": 11,
   "metadata": {},
   "outputs": [],
   "source": [
    "answer.to_csv('submit14.csv', header=False)"
   ]
  }
 ],
 "metadata": {
  "kernelspec": {
   "display_name": "Python 3",
   "language": "python",
   "name": "python3"
  },
  "language_info": {
   "codemirror_mode": {
    "name": "ipython",
    "version": 3
   },
   "file_extension": ".py",
   "mimetype": "text/x-python",
   "name": "python",
   "nbconvert_exporter": "python",
   "pygments_lexer": "ipython3",
   "version": "3.6.8"
  }
 },
 "nbformat": 4,
 "nbformat_minor": 2
}
