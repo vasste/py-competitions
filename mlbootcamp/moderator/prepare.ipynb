{
 "cells": [
  {
   "cell_type": "code",
   "execution_count": 5,
   "metadata": {},
   "outputs": [],
   "source": [
    "import numpy as np\n",
    "import pandas as pd\n",
    "from ideas import intersection_over_union\n",
    "from ideas import al\n",
    "\n",
    "def size_score(line, theta, true_column_suffix):\n",
    "    a,b = line['area'], line['area' + true_column_suffix]\n",
    "    if a < b:\n",
    "        b,a = a,b\n",
    "    if a == 0:\n",
    "        return 0        \n",
    "    return 1 - (1 - b/a)/(1 - theta)\n",
    "\n",
    "def shape_score(line, theta, true_column_suffix):\n",
    "    ral,raw = line['L'], max(1, line['W'])\n",
    "    rbl,rbw = line['L' + true_column_suffix], max(1, line['W' + true_column_suffix])\n",
    "    ra = ral/raw\n",
    "    rb = rbl/rbw\n",
    "    a = ra/max(1,rb)\n",
    "    if ra > rb :\n",
    "        a = rb/max(1,ra)\n",
    "    return 1 - (1 - a)/(1 - theta)\n",
    "\n",
    "def position_score(line, theta, true_column_suffix):\n",
    "    W = max(1, max(line['L'], line['L' + true_column_suffix]))\n",
    "    H =  max(1, max(line['W'], line['W' + true_column_suffix]))\n",
    "    X = abs(line['X'] - line['X' + true_column_suffix])\n",
    "    Y = abs(line['Y'] - line['Y' + true_column_suffix])\n",
    "    return 1 - avg(X/W/(1 - theta), Y/H/(1 - theta))\n",
    "\n",
    "def prepare(users_rating, fn, fns):\n",
    "    t_d = pd.read_csv(fn + '.csv')\n",
    "    t_d = pd.merge(users_rating, t_d, on=['userId'], how='right')\n",
    "    for i in list(map(lambda x: fn + x + '.csv', fns)):        \n",
    "        t_d = pd.merge(pd.read_csv(i), t_d, on=['itemId'], how='right')       \n",
    "\n",
    "    theta = .5        \n",
    "    true_column_suffix = '_gd'\n",
    "    t_d['YmaxMax'] = np.max(t_d['Ymax'])\n",
    "    t_d['XmaxMax'] = np.max(t_d['Xmax'])\n",
    "    for i in ['', true_column_suffix]:\n",
    "        t_d['L' + i] = t_d['Xmax' + i] - t_d['Xmin' + i]\n",
    "        t_d['W' + i] = t_d['Ymax' + i] - t_d['Ymin' + i]\n",
    "        t_d['area' + i] = t_d['L' + i] * t_d['W' + i]        \n",
    "        t_d['X' + i] = (t_d['Xmax' + i] + t_d['Xmin' + i])/2\n",
    "        t_d['Y' + i] = (t_d['Ymax' + i] + t_d['Ymin' + i])/2\n",
    "        t_d['XYD' + i] = np.sqrt(t_d['X' + i]*t_d['X' + i] + t_d['Y' + i]*t_d['Y' + i])\n",
    "        t_d['XYDMax' + i] = np.sqrt((t_d['XmaxMax'] - t_d['X' + i])*(t_d['XmaxMax'] - t_d['X' + i]) +\\\n",
    "                                    (t_d['YmaxMax'] - t_d['Y' + i])*(t_d['YmaxMax'] - t_d['Y' + i]))\n",
    "        t_d['A' + i] = t_d['Xmax' + i] * t_d['Xmin' + i] * t_d['Ymax' + i] * t_d['Ymin' + i]\n",
    "        t_d['P' + i] = t_d['Xmax' + i] * t_d['Xmin' + i] + t_d['Ymax' + i] * t_d['Ymin' + i]\n",
    "        \n",
    "    \n",
    "    for i in ['Xmin','Ymin','Xmax','Ymax', 'X', 'Y']:\n",
    "        t_d['delta' + i] = t_d[i + true_column_suffix] - t_d[i]\n",
    "\n",
    "    for i in ['min','max']:\n",
    "        t_d['delta' + i] = np.sqrt(t_d['deltaX' + i]*t_d['deltaX' + i] + t_d['deltaY' + i]*t_d['deltaY' + i])        \n",
    "      \n",
    "    t_d['size'] = t_d.apply(size_score, axis=1, theta=theta,\\\n",
    "                                          true_column_suffix=true_column_suffix)    \n",
    "    t_d['shape'] = t_d.apply(shape_score, axis=1, theta=theta,\\\n",
    "                                          true_column_suffix=true_column_suffix)    \n",
    "    t_d['position'] = t_d.apply(shape_score, axis=1, theta=theta,\\\n",
    "                                          true_column_suffix=true_column_suffix)   \n",
    "    t_d['score'] = t_d[['size', 'shape', 'position']].apply(np.mean, axis=1)\n",
    "    t_d = t_d.replace([np.inf, -np.inf], np.nan)\n",
    "    t_d = t_d.fillna(0)\n",
    "    t_d.to_csv(fn + '_full.csv', index=False)    "
   ]
  },
  {
   "cell_type": "code",
   "execution_count": 2,
   "metadata": {},
   "outputs": [],
   "source": [
    "users_rating = pd.read_csv('users_rating.csv')\n",
    "users_rating = users_rating.set_index('userId')"
   ]
  },
  {
   "cell_type": "code",
   "execution_count": 6,
   "metadata": {},
   "outputs": [],
   "source": [
    "prepare(users_rating, 'test_data', ['_gd'])\n",
    "prepare(users_rating, 'train_data', ['_gd'])"
   ]
  }
 ],
 "metadata": {
  "kernelspec": {
   "display_name": "Python 3",
   "language": "python",
   "name": "python3"
  },
  "language_info": {
   "codemirror_mode": {
    "name": "ipython",
    "version": 3
   },
   "file_extension": ".py",
   "mimetype": "text/x-python",
   "name": "python",
   "nbconvert_exporter": "python",
   "pygments_lexer": "ipython3",
   "version": "3.6.8"
  }
 },
 "nbformat": 4,
 "nbformat_minor": 2
}
