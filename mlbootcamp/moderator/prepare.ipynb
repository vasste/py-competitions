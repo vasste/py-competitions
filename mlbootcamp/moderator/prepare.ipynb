{
 "cells": [
  {
   "cell_type": "code",
   "execution_count": 4,
   "metadata": {},
   "outputs": [],
   "source": [
    "import numpy as np\n",
    "import pandas as pd\n",
    "from ideas import intersection_over_union\n",
    "from ideas import al\n",
    "\n",
    "def prepare(users_rating, fn, fns):\n",
    "    t_d = pd.read_csv(fn + '.csv')\n",
    "    t_d = pd.merge(users_rating, t_d, on=['userId'], how='right')\n",
    "\n",
    "    t_ds = list(map(lambda x: fn + x + '.csv', fns))\n",
    "    for i in t_ds:        \n",
    "        t_d = pd.merge(pd.read_csv(i), t_d, on=['itemId'], how='right')\n",
    "        \n",
    "    t_d['XcenterDelta'] = abs((t_d['Xmax_gd'] - t_d['Xmin_gd'])/2 - (t_d['Xmax'] - t_d['Xmin'])/2)\n",
    "    t_d['YcenterDelta'] = abs((t_d['Ymax_gd'] - t_d['Ymin_gd'])/2 - (t_d['Ymax'] - t_d['Ymin'])/2)        \n",
    "    t_d.to_csv(fn + '_full.csv', index=False)    "
   ]
  },
  {
   "cell_type": "code",
   "execution_count": 6,
   "metadata": {},
   "outputs": [],
   "source": [
    "users_rating = pd.read_csv('users_rating.csv')\n",
    "users_rating = users_rating.set_index('userId')"
   ]
  },
  {
   "cell_type": "code",
   "execution_count": 7,
   "metadata": {},
   "outputs": [],
   "source": [
    "prepare(users_rating, 'test_data', ['_gd', '_fgd', '_iou'])\n",
    "prepare(users_rating, 'train_data', ['_gd', '_fgd', '_iou'])"
   ]
  }
 ],
 "metadata": {
  "kernelspec": {
   "display_name": "Python 3",
   "language": "python",
   "name": "python3"
  },
  "language_info": {
   "codemirror_mode": {
    "name": "ipython",
    "version": 3
   },
   "file_extension": ".py",
   "mimetype": "text/x-python",
   "name": "python",
   "nbconvert_exporter": "python",
   "pygments_lexer": "ipython3",
   "version": "3.6.8"
  }
 },
 "nbformat": 4,
 "nbformat_minor": 2
}
