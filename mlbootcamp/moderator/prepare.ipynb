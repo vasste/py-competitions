{
 "cells": [
  {
   "cell_type": "code",
   "execution_count": 15,
   "metadata": {},
   "outputs": [],
   "source": [
    "import numpy as np\n",
    "import pandas as pd\n",
    "box_columns = ['Xmin','Ymin','Xmax','Ymax']\n",
    "box_columns_gd = ['Xmin_gd','Ymin_gd','Xmax_gd','Ymax_gd']\n",
    "from ideas import intersection_over_union\n",
    "from ideas import al"
   ]
  },
  {
   "cell_type": "code",
   "execution_count": null,
   "metadata": {},
   "outputs": [],
   "source": [
    "users_rating = pd.read_csv('users_rating.csv')\n",
    "users_rating.set_index('userId')"
   ]
  },
  {
   "cell_type": "code",
   "execution_count": 32,
   "metadata": {},
   "outputs": [],
   "source": [
    "t_d = pd.read_csv('train_data.csv')\n",
    "t_d_wavg = pd.read_csv('train_data_wavg.csv')\n",
    "t_d = t_d.merge(users_rating, on=['userId'])\n",
    "t_d_full = t_d.merge(t_d_wavg, on=['itemId'])\n",
    "t_d_full['box_iou'] = t_d_full[box_columns + box_columns_gd].apply(intersection_over_union, axis=1)"
   ]
  },
  {
   "cell_type": "code",
   "execution_count": 66,
   "metadata": {},
   "outputs": [],
   "source": [
    "df = t_d_full\n",
    "df['XcenterDelta'] = (df['Xmax_gd'] - df['Xmin_gd'])/2 - (df['Xmax'] - df['Xmin'])/2\n",
    "df['YcenterDelta'] = (df['Ymax_gd'] - df['Ymin_gd'])/2 - (df['Ymax'] - df['Ymin'])/2\n",
    "df['Xratio'] = (df['Xmax'] - df['Xmin'])/(df['Xmax_gd'] - df['Xmin_gd'])\n",
    "df['Yratio'] = (df['Ymax'] - df['Ymin'])/(df['Ymax_gd'] - df['Ymin_gd'])"
   ]
  },
  {
   "cell_type": "code",
   "execution_count": 35,
   "metadata": {},
   "outputs": [],
   "source": [
    "te_d = pd.read_csv('test_data.csv')\n",
    "te_d_wavg = pd.read_csv('test_data_wavg.csv')\n",
    "te_d = te_d.merge(users_rating, on=['userId'])\n",
    "te_d_full = te_d.merge(te_d_wavg, on=['itemId'])\n",
    "te_d_full['box_iou'] = te_d_full[box_columns + box_columns_gd].apply(intersection_over_union, axis=1)\n",
    "te_d_full.to_csv('test_data_full.csv', index=False)"
   ]
  },
  {
   "cell_type": "code",
   "execution_count": 67,
   "metadata": {},
   "outputs": [],
   "source": [
    "df = te_d_full\n",
    "df['XcenterDelta'] = (df['Xmax_gd'] - df['Xmin_gd'])/2 - (df['Xmax'] - df['Xmin'])/2\n",
    "df['YcenterDelta'] = (df['Ymax_gd'] - df['Ymin_gd'])/2 - (df['Ymax'] - df['Ymin'])/2\n",
    "df['Xratio'] = (df['Xmax'] - df['Xmin'])/(df['Xmax_gd'] - df['Xmin_gd'])\n",
    "df['Yratio'] = (df['Ymax'] - df['Ymin'])/(df['Ymax_gd'] - df['Ymin_gd'])"
   ]
  },
  {
   "cell_type": "code",
   "execution_count": 68,
   "metadata": {},
   "outputs": [],
   "source": [
    "t_d_full.to_csv('train_data_full.csv', index=False)\n",
    "te_d_full.to_csv('test_data_full.csv', index=False)"
   ]
  }
 ],
 "metadata": {
  "kernelspec": {
   "display_name": "Python 3",
   "language": "python",
   "name": "python3"
  },
  "language_info": {
   "codemirror_mode": {
    "name": "ipython",
    "version": 3
   },
   "file_extension": ".py",
   "mimetype": "text/x-python",
   "name": "python",
   "nbconvert_exporter": "python",
   "pygments_lexer": "ipython3",
   "version": "3.6.8"
  }
 },
 "nbformat": 4,
 "nbformat_minor": 2
}
