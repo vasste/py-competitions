{
 "cells": [
  {
   "cell_type": "code",
   "execution_count": 1,
   "metadata": {},
   "outputs": [],
   "source": [
    "import numpy as np\n",
    "import pandas as pd\n",
    "%matplotlib inline\n",
    "import matplotlib.pyplot as plt\n",
    "from matplotlib.path import Path\n",
    "import matplotlib.patches as patches"
   ]
  },
  {
   "cell_type": "code",
   "execution_count": 89,
   "metadata": {},
   "outputs": [],
   "source": [
    "def areas(box):\n",
    "    return (box[2] - box[0]) * (box[3] - box[1])\n",
    "def area(box):\n",
    "    return (box[:,2] - box[:,0]) * (box[:,3] - box[:,1])\n",
    "def al(box):\n",
    "    return box[:,2] - box[:,0]    \n",
    "def aw(box):\n",
    "    return box[:,3] - box[:,1]\n",
    "def intersection_over_union(boxes):\n",
    "    assert(len(boxes) == 8)\n",
    "    boxA = boxes[:4].values\n",
    "    boxB = boxes[4:].values\n",
    "    \n",
    "    boxAArea = areas(boxA)\n",
    "    boxBArea = areas(boxB)\n",
    "    \n",
    "    if (boxAArea == 0 or boxBArea == 0):\n",
    "        return 0\n",
    "        \n",
    "    xA = max(boxA[0], boxB[0])\n",
    "    yA = max(boxA[1], boxB[1])\n",
    "    xB = min(boxA[2], boxB[2])\n",
    "    yB = min(boxA[3], boxB[3])\n",
    "\n",
    "    interArea = max(0, xB - xA) * max(0, yB - yA)\n",
    "\n",
    "    \n",
    "    iou = interArea / float(boxAArea + boxBArea - interArea)\n",
    "    return iou\n",
    "\n",
    "def weighted_averaging(data, item_id, np_data, avg):\n",
    "    ix = data[(data['itemId'] == item_id) & (data['pxs_ratio'] > .5)].index\n",
    "    vi = np_data[ix]\n",
    "    l = np.fmax(al(vi), np.ones(len(vi), dtype=int))\n",
    "    w = np.fmax(aw(vi), np.ones(len(vi), dtype=int))\n",
    "    sabx = (l*w)**2\n",
    "    sb = sum(1/sabx)\n",
    "    for y in range(0,4):\n",
    "        avg.loc[item_id][y] = sum(vi[:,y]/sabx)/sb\n",
    "    avg.loc[item_id][4] = i  \n",
    "    return avg.loc[item_id]"
   ]
  },
  {
   "cell_type": "code",
   "execution_count": 64,
   "metadata": {},
   "outputs": [],
   "source": [
    "t_d = pd.read_csv('train_data.csv')\n",
    "t_d['pxs'] = (t_d['Xmax'] - t_d['Xmin'])*(t_d['Ymax'] - t_d['Ymin'])\n",
    "pxs = t_d.groupby(\"itemId\")['pxs'].mean()\n",
    "t_d = t_d.merge(pxs, on=[\"itemId\"])\n",
    "t_d['pxs_ratio'] = t_d['pxs_x'] / t_d['pxs_y']\n",
    "t_a = pd.read_csv('train_answers.csv')\n",
    "test_data = pd.read_csv('test_data.csv')"
   ]
  },
  {
   "cell_type": "code",
   "execution_count": 4,
   "metadata": {},
   "outputs": [],
   "source": [
    "tdd = {}\n",
    "tad = {}\n",
    "\n",
    "tdcd = {}\n",
    "tdvd = {}\n",
    "\n",
    "tacd = {}\n",
    "tavd = {}\n",
    "\n",
    "tpd = {}\n",
    "tad = {}\n",
    "\n",
    "tdbd = {}\n",
    "bxs = {}\n",
    "codes = [\n",
    "    Path.MOVETO,\n",
    "    Path.LINETO,\n",
    "    Path.LINETO,\n",
    "    Path.LINETO,\n",
    "    Path.CLOSEPOLY\n",
    "]\n",
    "itds = set(t_d['itemId'])\n",
    "abx = np.array(t_d.loc[: 'itemId'][['Xmin','Ymin','Xmax','Ymax']])"
   ]
  },
  {
   "cell_type": "code",
   "execution_count": 7,
   "metadata": {},
   "outputs": [],
   "source": [
    "quorum = pd.DataFrame(np.zeros((len(itds), 5), dtype=int), \n",
    "                      index=itds, columns=['Xmin','Ymin','Xmax','Ymax', 'itemId'])"
   ]
  },
  {
   "cell_type": "code",
   "execution_count": 70,
   "metadata": {},
   "outputs": [],
   "source": [
    "obj = 8774\n",
    "tdd[obj] = t_d[t_d['itemId'] == obj][['Xmin','Ymin','Xmin','Ymax','Xmax','Ymax','Xmax','Ymin','Xmin','Ymin', 'pxs_ratio']]\n",
    "tdd[obj] = tdd[obj][tdd[obj]]\n",
    "tad[obj] = t_a[t_a['itemId'] == obj][['Xmin_true','Ymin_true','Xmin_true','Ymax_true','Xmax_true','Ymax_true','Xmax_true','Ymin_true','Xmin_true','Ymin_true']]\n",
    "tdbd[obj] = t_d[t_d['itemId'] == obj][['Xmin','Ymin','Xmax','Ymax']]"
   ]
  },
  {
   "cell_type": "code",
   "execution_count": 69,
   "metadata": {},
   "outputs": [
    {
     "name": "stdout",
     "output_type": "stream",
     "text": [
      "    Xmin  Ymin  Xmin  Ymax  Xmax  Ymax  Xmax  Ymin  Xmin  Ymin  pxs_ratio\n",
      "15   116   959   116  1300   795  1300   795   959   116   959   1.964226\n",
      "16   308  1044   308  1317   755  1317   755  1044   308  1044   1.035231\n"
     ]
    }
   ],
   "source": [
    "print()"
   ]
  },
  {
   "cell_type": "code",
   "execution_count": 26,
   "metadata": {},
   "outputs": [],
   "source": [
    "for i in itds:\n",
    "    weighted_averaging(t_d, i, abx, quorum)    "
   ]
  },
  {
   "cell_type": "code",
   "execution_count": 90,
   "metadata": {},
   "outputs": [
    {
     "name": "stdout",
     "output_type": "stream",
     "text": [
      "Xmin       266\n",
      "Ymin      1025\n",
      "Xmax       763\n",
      "Ymax      1313\n",
      "itemId       0\n",
      "Name: 8774, dtype: int64\n"
     ]
    }
   ],
   "source": [
    "print(weighted_averaging(t_d, 8774, abx, quorum))"
   ]
  },
  {
   "cell_type": "code",
   "execution_count": 88,
   "metadata": {},
   "outputs": [
    {
     "name": "stdout",
     "output_type": "stream",
     "text": [
      "    Xmin  Ymin  Xmin  Ymax  Xmax  Ymax  Xmax  Ymin  Xmin  Ymin  pxs_ratio\n",
      "15   116   959   116  1300   795  1300   795   959   116   959   1.964226\n",
      "16   308  1044   308  1317   755  1317   755  1044   308  1044   1.035231\n",
      "Xmin     266\n",
      "Ymin    1025\n",
      "Xmin     266\n",
      "Ymax    1313\n",
      "Xmax     763\n",
      "Ymax    1313\n",
      "Xmax     763\n",
      "Ymin    1025\n",
      "Xmin     266\n",
      "Ymin    1025\n",
      "Name: 8774, dtype: int64\n"
     ]
    },
    {
     "data": {
      "text/plain": [
       "(782, 1327.0)"
      ]
     },
     "execution_count": 88,
     "metadata": {},
     "output_type": "execute_result"
    },
    {
     "data": {
      "image/png": "[encoded data removed]",
      "text/plain": [
       "<Figure size 432x288 with 1 Axes>"
      ]
     },
     "metadata": {
      "needs_background": "light"
     },
     "output_type": "display_data"
    }
   ],
   "source": [
    "tdvd[obj] = []\n",
    "tdcd[obj] = []\n",
    "tacd[obj] = []\n",
    "tavd[obj] = []\n",
    "\n",
    "Xmin,Ymin = 2000, 2000\n",
    "Xmax,Ymax = 0, 0\n",
    "print(tdd[obj])\n",
    "for i, r in tdd[obj].iterrows():    \n",
    "    i = i - tdd[obj].index[0]\n",
    "    for y in range(0,10,2):\n",
    "        Xmin = min(Xmin, tdd[obj].iloc[i, y]) \n",
    "        Ymin = min(Ymin, tdd[obj].iloc[i, y + 1])\n",
    "        Xmax = max(Xmax, tdd[obj].iloc[i, y]) \n",
    "        Ymax = max(Ymax, tdd[obj].iloc[i, y + 1])        \n",
    "        tdvd[obj].append((tdd[obj].iloc[i, y], tdd[obj].iloc[i, y + 1]))\n",
    "        tdcd[obj].append(codes[y//2])\n",
    "\n",
    "i = 0  \n",
    "tobj = tad[obj]\n",
    "for y in range(0,10,2):\n",
    "    Xmin = min(Xmin, tobj.iloc[i, y]) \n",
    "    Ymin = min(Ymin, tobj.iloc[i, y + 1])\n",
    "    Xmax = max(Xmax, tobj.iloc[i, y]) \n",
    "    Ymax = max(Ymax, tobj.iloc[i, y + 1])            \n",
    "    tavd[obj].append((tobj.iloc[i, y], tobj.iloc[i, y + 1]))\n",
    "    tacd[obj].append(codes[y//2]) \n",
    "\n",
    "qobjc = []\n",
    "qobjv = []\n",
    "i = 0        \n",
    "tobj = quorum.loc[obj][['Xmin','Ymin','Xmin','Ymax','Xmax','Ymax','Xmax','Ymin','Xmin','Ymin']]\n",
    "print(tobj)\n",
    "for y in range(0,10,2):\n",
    "    Xmin = min(Xmin, tobj.iloc[y]) \n",
    "    Ymin = min(Ymin, tobj.iloc[y + 1])\n",
    "    Xmax = max(Xmax, tobj.iloc[y]) \n",
    "    Ymax = max(Ymax, tobj.iloc[y + 1])            \n",
    "    qobjv.append((tobj.iloc[y], tobj.iloc[y + 1]))\n",
    "    qobjc.append(codes[y//2])     \n",
    "    \n",
    "fig, ax = plt.subplots()\n",
    "ax.add_patch(patches.PathPatch(Path(tavd[obj], tacd[obj]), facecolor='white', edgecolor='green', lw=2))\n",
    "ax.add_patch(patches.PathPatch(Path(tdvd[obj], tdcd[obj]), facecolor='white', edgecolor='black', lw=2))\n",
    "ax.add_patch(patches.PathPatch(Path(qobjv, qobjc), facecolor='white', edgecolor='red', lw=2))\n",
    "\n",
    "ax.set_xlim(Xmin - 10, Xmax + 10)\n",
    "ax.set_ylim(Ymin - 10, Ymax + 10)    "
   ]
  },
  {
   "cell_type": "code",
   "execution_count": 325,
   "metadata": {},
   "outputs": [],
   "source": [
    "data = quorum.merge(t_a, on=[\"itemId\"])"
   ]
  },
  {
   "cell_type": "code",
   "execution_count": 330,
   "metadata": {},
   "outputs": [],
   "source": [
    "data[\"iou\"] = data[['Xmin','Ymin', 'Xmax', 'Ymax', 'Xmin_true',\\\n",
    "      'Ymin_true', 'Xmax_true','Ymax_true']].apply(intersection_over_union, axis=1)"
   ]
  },
  {
   "cell_type": "code",
   "execution_count": 331,
   "metadata": {},
   "outputs": [
    {
     "data": {
      "text/plain": [
       "0.3761529565473004"
      ]
     },
     "execution_count": 331,
     "metadata": {},
     "output_type": "execute_result"
    }
   ],
   "source": [
    "data[\"iou\"].mean()\n",
    "# вычислять райтинг пошльзоватлей"
   ]
  },
  {
   "cell_type": "code",
   "execution_count": 334,
   "metadata": {},
   "outputs": [],
   "source": [
    "users = set(t_d['userId'])\n",
    "test_users = set(test_data['userId'])"
   ]
  }
 ],
 "metadata": {
  "kernelspec": {
   "display_name": "Python 3",
   "language": "python",
   "name": "python3"
  },
  "language_info": {
   "codemirror_mode": {
    "name": "ipython",
    "version": 3
   },
   "file_extension": ".py",
   "mimetype": "text/x-python",
   "name": "python",
   "nbconvert_exporter": "python",
   "pygments_lexer": "ipython3",
   "version": "3.6.8"
  }
 },
 "nbformat": 4,
 "nbformat_minor": 2
}
