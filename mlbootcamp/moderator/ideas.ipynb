{
 "cells": [
  {
   "cell_type": "code",
   "execution_count": 1,
   "metadata": {},
   "outputs": [],
   "source": [
    "import numpy as np\n",
    "import pandas as pd\n",
    "%matplotlib inline\n",
    "import matplotlib.pyplot as plt\n",
    "from matplotlib.path import Path\n",
    "import matplotlib.patches as patches\n",
    "\n",
    "box_columns = ['Xmin','Ymin','Xmax','Ymax']"
   ]
  },
  {
   "cell_type": "code",
   "execution_count": 4,
   "metadata": {},
   "outputs": [],
   "source": [
    "t_d = pd.read_csv('train_data.csv')\n",
    "t_d['pxs'] = (t_d['Xmax'] - t_d['Xmin'])*(t_d['Ymax'] - t_d['Ymin'])\n",
    "pxs = t_d.groupby(\"itemId\")['pxs'].mean()\n",
    "t_d = t_d.merge(pxs, on=[\"itemId\"])\n",
    "t_d['pxs_ratio'] = t_d['pxs_x'] / t_d['pxs_y']\n",
    "t_a = pd.read_csv('train_answers.csv')\n",
    "test_data = pd.read_csv('test_data.csv')"
   ]
  },
  {
   "cell_type": "code",
   "execution_count": 6,
   "metadata": {},
   "outputs": [],
   "source": [
    "tdd = {}\n",
    "tad = {}\n",
    "\n",
    "tpd = {}\n",
    "tad = {}\n",
    "\n",
    "bxs = {}\n",
    "codes = [\n",
    "    Path.MOVETO,\n",
    "    Path.LINETO,\n",
    "    Path.LINETO,\n",
    "    Path.LINETO,\n",
    "    Path.CLOSEPOLY\n",
    "]\n",
    "itds = set(t_d['itemId'])\n",
    "abx = np.array(t_d.loc[: 'itemId'][['Xmin','Ymin','Xmax','Ymax']])"
   ]
  },
  {
   "cell_type": "code",
   "execution_count": 7,
   "metadata": {},
   "outputs": [],
   "source": [
    "obj = 8774\n",
    "tdd[obj] = t_d[t_d['itemId'] == obj][['Xmin','Ymin','Xmin','Ymax','Xmax','Ymax','Xmax','Ymin','Xmin','Ymin', 'pxs_ratio']]\n",
    "tad[obj] = t_a[t_a['itemId'] == obj][['Xmin_true','Ymin_true','Xmin_true','Ymax_true','Xmax_true','Ymax_true','Xmax_true','Ymin_true','Xmin_true','Ymin_true']]"
   ]
  },
  {
   "cell_type": "code",
   "execution_count": 38,
   "metadata": {},
   "outputs": [],
   "source": [
    "obj = 1659\n",
    "oids = t_d[t_d['userId'] == obj]['itemId']\n",
    "tdd[obj] = t_d[t_d['userId'] == obj][['Xmin','Ymin','Xmin','Ymax','Xmax','Ymax','Xmax','Ymin','Xmin','Ymin', 'pxs_ratio']]\n",
    "tad[obj] = t_a[t_a.itemId.isin(oids)][['Xmin_true','Ymin_true','Xmin_true','Ymax_true','Xmax_true','Ymax_true','Xmax_true','Ymin_true','Xmin_true','Ymin_true']]"
   ]
  },
  {
   "cell_type": "code",
   "execution_count": 7,
   "metadata": {},
   "outputs": [
    {
     "ename": "ZeroDivisionError",
     "evalue": "division by zero",
     "output_type": "error",
     "traceback": [
      "\u001b[0;31m---------------------------------------------------------------------------\u001b[0m",
      "\u001b[0;31mZeroDivisionError\u001b[0m                         Traceback (most recent call last)",
      "\u001b[0;32m<ipython-input-7-476114be5960>\u001b[0m in \u001b[0;36m<module>\u001b[0;34m\u001b[0m\n\u001b[1;32m      1\u001b[0m \u001b[0;32mfor\u001b[0m \u001b[0mi\u001b[0m \u001b[0;32min\u001b[0m \u001b[0mitds\u001b[0m\u001b[0;34m:\u001b[0m\u001b[0;34m\u001b[0m\u001b[0;34m\u001b[0m\u001b[0m\n\u001b[0;32m----> 2\u001b[0;31m     \u001b[0mweighted_averaging\u001b[0m\u001b[0;34m(\u001b[0m\u001b[0mt_d\u001b[0m\u001b[0;34m,\u001b[0m \u001b[0mi\u001b[0m\u001b[0;34m,\u001b[0m \u001b[0mabx\u001b[0m\u001b[0;34m,\u001b[0m \u001b[0mquorum\u001b[0m\u001b[0;34m)\u001b[0m\u001b[0;34m\u001b[0m\u001b[0;34m\u001b[0m\u001b[0m\n\u001b[0m",
      "\u001b[0;32m<ipython-input-2-0b1cacdc1681>\u001b[0m in \u001b[0;36mweighted_averaging\u001b[0;34m(data, item_id, np_data, avg)\u001b[0m\n\u001b[1;32m     37\u001b[0m     \u001b[0msb\u001b[0m \u001b[0;34m=\u001b[0m \u001b[0msum\u001b[0m\u001b[0;34m(\u001b[0m\u001b[0;36m1\u001b[0m\u001b[0;34m/\u001b[0m\u001b[0msabx\u001b[0m\u001b[0;34m)\u001b[0m\u001b[0;34m\u001b[0m\u001b[0;34m\u001b[0m\u001b[0m\n\u001b[1;32m     38\u001b[0m     \u001b[0;32mfor\u001b[0m \u001b[0my\u001b[0m \u001b[0;32min\u001b[0m \u001b[0mrange\u001b[0m\u001b[0;34m(\u001b[0m\u001b[0;36m0\u001b[0m\u001b[0;34m,\u001b[0m\u001b[0;36m4\u001b[0m\u001b[0;34m)\u001b[0m\u001b[0;34m:\u001b[0m\u001b[0;34m\u001b[0m\u001b[0;34m\u001b[0m\u001b[0m\n\u001b[0;32m---> 39\u001b[0;31m         \u001b[0mavg\u001b[0m\u001b[0;34m.\u001b[0m\u001b[0mloc\u001b[0m\u001b[0;34m[\u001b[0m\u001b[0mitem_id\u001b[0m\u001b[0;34m]\u001b[0m\u001b[0;34m[\u001b[0m\u001b[0my\u001b[0m\u001b[0;34m]\u001b[0m \u001b[0;34m=\u001b[0m \u001b[0msum\u001b[0m\u001b[0;34m(\u001b[0m\u001b[0mvi\u001b[0m\u001b[0;34m[\u001b[0m\u001b[0;34m:\u001b[0m\u001b[0;34m,\u001b[0m\u001b[0my\u001b[0m\u001b[0;34m]\u001b[0m\u001b[0;34m/\u001b[0m\u001b[0msabx\u001b[0m\u001b[0;34m)\u001b[0m\u001b[0;34m/\u001b[0m\u001b[0msb\u001b[0m\u001b[0;34m\u001b[0m\u001b[0;34m\u001b[0m\u001b[0m\n\u001b[0m\u001b[1;32m     40\u001b[0m     \u001b[0mavg\u001b[0m\u001b[0;34m.\u001b[0m\u001b[0mloc\u001b[0m\u001b[0;34m[\u001b[0m\u001b[0mitem_id\u001b[0m\u001b[0;34m]\u001b[0m\u001b[0;34m[\u001b[0m\u001b[0;36m4\u001b[0m\u001b[0;34m]\u001b[0m \u001b[0;34m=\u001b[0m \u001b[0mi\u001b[0m\u001b[0;34m\u001b[0m\u001b[0;34m\u001b[0m\u001b[0m\n\u001b[1;32m     41\u001b[0m     \u001b[0;32mreturn\u001b[0m \u001b[0mavg\u001b[0m\u001b[0;34m.\u001b[0m\u001b[0mloc\u001b[0m\u001b[0;34m[\u001b[0m\u001b[0mitem_id\u001b[0m\u001b[0;34m]\u001b[0m\u001b[0;34m\u001b[0m\u001b[0;34m\u001b[0m\u001b[0m\n",
      "\u001b[0;31mZeroDivisionError\u001b[0m: division by zero"
     ]
    }
   ],
   "source": [
    "for i in itds:\n",
    "    weighted_averaging(t_d, i, abx, quorum)    "
   ]
  },
  {
   "cell_type": "code",
   "execution_count": 39,
   "metadata": {},
   "outputs": [
    {
     "data": {
      "text/plain": [
       "(444.0, 1398)"
      ]
     },
     "execution_count": 39,
     "metadata": {},
     "output_type": "execute_result"
    },
    {
     "data": {
      "image/png": "[encoded data removed]",
      "text/plain": [
       "<Figure size 432x288 with 1 Axes>"
      ]
     },
     "metadata": {
      "needs_background": "light"
     },
     "output_type": "display_data"
    }
   ],
   "source": [
    "quorum = pd.DataFrame(np.zeros((len(itds), 5), dtype=int), \n",
    "                      index=itds, columns=['Xmin','Ymin','Xmax','Ymax', 'itemId'])\n",
    "# weighted_averaging(t_d, 8774, abx, quorum)\n",
    "\n",
    "tdv = []\n",
    "tdc = []\n",
    "tav = []\n",
    "tac = []\n",
    "qc = []\n",
    "qv = []\n",
    "\n",
    "Xmin,Ymin = 2000, 2000\n",
    "Xmax,Ymax = 0, 0\n",
    "\n",
    "def minMax(row, y):\n",
    "    global Xmin,Xmax,Ymin,Ymax    \n",
    "    Xmin = min(Xmin, row.iloc[y])\n",
    "    Ymin = min(Ymin, row.iloc[y + 1])\n",
    "    Xmax = max(Xmax, row.iloc[y])\n",
    "    Ymax = max(Ymax, row.iloc[y + 1])\n",
    "\n",
    "for i, row in tdd[obj].iterrows():\n",
    "    for y in range(0,10,2):\n",
    "        minMax(row, y)\n",
    "        tdv.append((row.iloc[y], row.iloc[y + 1]))\n",
    "        tdc.append(codes[y//2])\n",
    "\n",
    "for i, row in tad[obj].iterrows():\n",
    "    for y in range(0,10,2):\n",
    "        minMax(row, y)\n",
    "        tav.append((row.iloc[y], row.iloc[y + 1]))\n",
    "        tac.append(codes[y//2])\n",
    "\n",
    "# tobj = quorum.loc[obj][['Xmin','Ymin','Xmin','Ymax','Xmax','Ymax','Xmax','Ymin','Xmin','Ymin']]\n",
    "# for y in range(0,10,2):\n",
    "#     minMax(tobj, y)\n",
    "#     qv.append((tobj.iloc[y], tobj.iloc[y + 1]))\n",
    "#     qc.append(codes[y//2])    \n",
    "    \n",
    "fig, ax = plt.subplots()\n",
    "ax.add_patch(patches.PathPatch(Path(tdv, tdc), alpha=.3, facecolor='white', edgecolor='black', lw=2))\n",
    "ax.add_patch(patches.PathPatch(Path(tav, tac), alpha=.3, facecolor='white', edgecolor='green', lw=2))\n",
    "\n",
    "# ax.add_patch(patches.PathPatch(Path(qv, qc), facecolor='white', edgecolor='red', lw=2))\n",
    "\n",
    "ax.set_xlim(Xmin - 10, Xmax + 10)\n",
    "ax.set_ylim(Ymin - 10, Ymax + 10)    "
   ]
  },
  {
   "cell_type": "code",
   "execution_count": 325,
   "metadata": {},
   "outputs": [],
   "source": [
    "data = quorum.merge(t_a, on=[\"itemId\"])"
   ]
  },
  {
   "cell_type": "code",
   "execution_count": 330,
   "metadata": {},
   "outputs": [],
   "source": [
    "data[\"iou\"] = data[['Xmin','Ymin', 'Xmax', 'Ymax', 'Xmin_true',\\\n",
    "      'Ymin_true', 'Xmax_true','Ymax_true']].apply(intersection_over_union, axis=1)"
   ]
  },
  {
   "cell_type": "code",
   "execution_count": 331,
   "metadata": {},
   "outputs": [
    {
     "data": {
      "text/plain": [
       "0.3761529565473004"
      ]
     },
     "execution_count": 331,
     "metadata": {},
     "output_type": "execute_result"
    }
   ],
   "source": [
    "data[\"iou\"].mean()\n",
    "# вычислять райтинг пошльзоватлей"
   ]
  },
  {
   "cell_type": "code",
   "execution_count": 334,
   "metadata": {},
   "outputs": [],
   "source": [
    "users = set(t_d['userId'])\n",
    "test_users = set(test_data['userId'])"
   ]
  }
 ],
 "metadata": {
  "kernelspec": {
   "display_name": "Python 3",
   "language": "python",
   "name": "python3"
  },
  "language_info": {
   "codemirror_mode": {
    "name": "ipython",
    "version": 3
   },
   "file_extension": ".py",
   "mimetype": "text/x-python",
   "name": "python",
   "nbconvert_exporter": "python",
   "pygments_lexer": "ipython3",
   "version": "3.6.8"
  }
 },
 "nbformat": 4,
 "nbformat_minor": 2
}
