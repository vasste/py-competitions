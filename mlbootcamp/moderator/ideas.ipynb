{
 "cells": [
  {
   "cell_type": "code",
   "execution_count": 1,
   "metadata": {},
   "outputs": [],
   "source": [
    "import numpy as np\n",
    "import pandas as pd\n",
    "%matplotlib inline\n",
    "import matplotlib.pyplot as plt\n",
    "from matplotlib.path import Path\n",
    "import matplotlib.patches as patches\n",
    "\n",
    "box_columns = ['Xmin','Ymin','Xmax','Ymax']"
   ]
  },
  {
   "cell_type": "code",
   "execution_count": 46,
   "metadata": {},
   "outputs": [],
   "source": [
    "t_d = pd.read_csv('train_data.csv')\n",
    "t_d_av = pd.read_csv('train_data_wav.csv')\n",
    "t_a = pd.read_csv('train_answers.csv')"
   ]
  },
  {
   "cell_type": "code",
   "execution_count": 3,
   "metadata": {},
   "outputs": [],
   "source": [
    "codes = [\n",
    "    Path.MOVETO,\n",
    "    Path.LINETO,\n",
    "    Path.LINETO,\n",
    "    Path.LINETO,\n",
    "    Path.CLOSEPOLY\n",
    "]\n",
    "itds = set(t_d['itemId'])\n",
    "abx = np.array(t_d.loc[: 'itemId'][['Xmin','Ymin','Xmax','Ymax']])"
   ]
  },
  {
   "cell_type": "code",
   "execution_count": 57,
   "metadata": {},
   "outputs": [],
   "source": [
    "obj = 16468\n",
    "tdj = t_d[t_d['itemId'] == obj][['Xmin','Ymin','Xmin','Ymax','Xmax','Ymax','Xmax','Ymin','Xmin','Ymin']]\n",
    "tavj = t_d_av[t_d_av['itemId'] == obj][['Xmin','Ymin','Xmin','Ymax','Xmax','Ymax','Xmax','Ymin','Xmin','Ymin']]\n",
    "taj = t_a[t_a['itemId'] == obj][['Xmin_true','Ymin_true','Xmin_true','Ymax_true','Xmax_true','Ymax_true','Xmax_true','Ymin_true','Xmin_true','Ymin_true']]"
   ]
  },
  {
   "cell_type": "code",
   "execution_count": 58,
   "metadata": {},
   "outputs": [
    {
     "data": {
      "text/plain": [
       "(789, 1257)"
      ]
     },
     "execution_count": 58,
     "metadata": {},
     "output_type": "execute_result"
    },
    {
     "data": {
      "image/png": "[encoded data removed]",
      "text/plain": [
       "<Figure size 432x288 with 1 Axes>"
      ]
     },
     "metadata": {
      "needs_background": "light"
     },
     "output_type": "display_data"
    }
   ],
   "source": [
    "# weighted_averaging(t_d, 8774, abx, quorum)\n",
    "\n",
    "tdv = []\n",
    "tdc = []\n",
    "tav = []\n",
    "tac = []\n",
    "qc = []\n",
    "qv = []\n",
    "\n",
    "Xmin,Ymin = 2000, 2000\n",
    "Xmax,Ymax = 0, 0\n",
    "\n",
    "def minMax(row, y):\n",
    "    global Xmin,Xmax,Ymin,Ymax    \n",
    "    Xmin = min(Xmin, row.iloc[y])\n",
    "    Ymin = min(Ymin, row.iloc[y + 1])\n",
    "    Xmax = max(Xmax, row.iloc[y])\n",
    "    Ymax = max(Ymax, row.iloc[y + 1])\n",
    "\n",
    "for i, row in tdj.iterrows():\n",
    "    for y in range(0,10,2):\n",
    "        minMax(row, y)\n",
    "        tdv.append((row.iloc[y], row.iloc[y + 1]))\n",
    "        tdc.append(codes[y//2])\n",
    "\n",
    "for i, row in taj.iterrows():\n",
    "    for y in range(0,10,2):\n",
    "        minMax(row, y)\n",
    "        tav.append((row.iloc[y], row.iloc[y + 1]))\n",
    "        tac.append(codes[y//2])\n",
    "\n",
    "for i, row in tavj.iterrows():\n",
    "    for y in range(0,10,2):\n",
    "        minMax(row, y)\n",
    "        qv.append((row.iloc[y], row.iloc[y + 1]))\n",
    "        qc.append(codes[y//2])\n",
    "    \n",
    "fig, ax = plt.subplots()\n",
    "ax.add_patch(patches.PathPatch(Path(tdv, tdc), alpha=.3, facecolor='white', edgecolor='black', lw=2))\n",
    "ax.add_patch(patches.PathPatch(Path(tav, tac), alpha=.3, facecolor='white', edgecolor='green', lw=2))\n",
    "ax.add_patch(patches.PathPatch(Path(qv, qc), alpha=.3, facecolor='white', edgecolor='gold', lw=2))\n",
    "\n",
    "ax.set_xlim(Xmin - 10, Xmax + 10)\n",
    "ax.set_ylim(Ymin - 10, Ymax + 10)    "
   ]
  }
 ],
 "metadata": {
  "kernelspec": {
   "display_name": "Python 3",
   "language": "python",
   "name": "python3"
  },
  "language_info": {
   "codemirror_mode": {
    "name": "ipython",
    "version": 3
   },
   "file_extension": ".py",
   "mimetype": "text/x-python",
   "name": "python",
   "nbconvert_exporter": "python",
   "pygments_lexer": "ipython3",
   "version": "3.6.8"
  }
 },
 "nbformat": 4,
 "nbformat_minor": 2
}
