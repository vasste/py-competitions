{
 "cells": [
  {
   "cell_type": "code",
   "execution_count": 4,
   "metadata": {},
   "outputs": [],
   "source": [
    "import numpy as np\n",
    "import math\n",
    "import pandas as pd\n",
    "%matplotlib inline\n",
    "import matplotlib.pyplot as plt\n",
    "from matplotlib.path import Path\n",
    "import matplotlib.patches as patches\n",
    "from ideas import intersection_over_union\n",
    "from ideas import al\n",
    "from ideas import aw\n",
    "\n",
    "box_columns = ['Xmin','Ymin','Xmax','Ymax', 'W', 'L']\n",
    "box_columns_gd = list(map(lambda x: x + '_gd', box_columns))\n",
    "box_columns_fgd = list(map(lambda x: x + '_fgd', box_columns))\n",
    "box_columns_iou = list(map(lambda x: x + '_iou', box_columns))\n",
    "\n",
    "def weighted_averaging(iid, df, np_data, avg, columns, back_up = None):\n",
    "    global box_columns\n",
    "    items = df[df['itemId'] == iid]\n",
    "    vi = np_data[items.index.values]\n",
    "    bl = len(columns)\n",
    "    avg.loc[iid][bl] = iid\n",
    "    if vi.shape[0] == 0:\n",
    "        bp = back_up[back_up['itemId'] == iid][box_columns]\n",
    "        for y in range(0, bl):                \n",
    "            avg.loc[iid][y] = bp[box_columns[y]]               \n",
    "        return\n",
    "    l = al(vi)\n",
    "    w = aw(vi)\n",
    "    sabx = (l * w) ** 2\n",
    "    sb = sum(1 / sabx)    \n",
    "    if math.isinf(sb):\n",
    "        vi = vi.mean(axis=0)\n",
    "        for y in range(0, bl):                \n",
    "            avg.loc[iid][y] = vi[y]\n",
    "    else:\n",
    "        for y in range(0, bl):                \n",
    "            avg.loc[iid][y] = sum(vi[:,y] / sabx) / sb\n",
    "    \n",
    "    return avg.loc[iid]\n",
    "\n",
    "codes = [\n",
    "    Path.MOVETO,\n",
    "    Path.LINETO,\n",
    "    Path.LINETO,\n",
    "    Path.LINETO,\n",
    "    Path.CLOSEPOLY\n",
    "]\n",
    "\n",
    "def weighted_averaging_file(fn, columns, fns, ratio, ratio_column, u_r = None):\n",
    "    global box_columns\n",
    "    t_d = pd.read_csv(fn + '.csv')  \n",
    "    if u_r is not None:\n",
    "        t_d = t_d.merge(users_rating, on=['userId'])\n",
    "    ids = list(set(t_d['itemId']))\n",
    "    t_d['L'] = t_d['Xmax'] - t_d['Xmin']\n",
    "    t_d['W'] = t_d['Ymax'] - t_d['Ymin']\n",
    "    t_d['area'] = t_d['L']*t_d['W']\n",
    "    t_d_max = t_d[['area', 'itemId']].groupby('itemId').max()\n",
    "    t_d = t_d.merge(t_d_max, on=['itemId'])\n",
    "    t_d['area_ratio'] = t_d['area_x']/t_d['area_y']\n",
    "    t_d_r = t_d[t_d[ratio_column] >= ratio][box_columns + ['itemId']]\n",
    "    t_d_r = t_d_r.reset_index()\n",
    "    np_t_d = t_d_r[box_columns].values\n",
    "    t_d_wa = pd.DataFrame(np.zeros((len(ids), len(columns) + 1), dtype=int), \n",
    "                           index=ids, columns=[columns + ['itemId']])\n",
    "\n",
    "    back_up = t_d.groupby('itemId')[box_columns].mean().reset_index()\n",
    "    for iid in ids:\n",
    "        weighted_averaging(iid, t_d_r, np_t_d, t_d_wa, columns, back_up)\n",
    "        \n",
    "    t_d_wa.to_csv(fn + fns + '.csv', index=False)"
   ]
  },
  {
   "cell_type": "code",
   "execution_count": 7,
   "metadata": {},
   "outputs": [
    {
     "name": "stderr",
     "output_type": "stream",
     "text": [
      "/home/vasste/.local/lib/python3.6/site-packages/ipykernel_launcher.py:31: RuntimeWarning: divide by zero encountered in true_divide\n"
     ]
    }
   ],
   "source": [
    "users_rating = pd.read_csv('users_rating.csv')\n",
    "users_rating = users_rating.set_index('userId') \n",
    "weighted_averaging_file('train_data', box_columns_fgd, '_fgd', 0, 'area_ratio')\n",
    "weighted_averaging_file('train_data', box_columns_gd, '_gd', .75, 'area_ratio')\n",
    "weighted_averaging_file('train_data', box_columns_iou, '_iou', .5, 'iou', users_rating)\n",
    "weighted_averaging_file('test_data', box_columns_gd, '_gd', .75, 'area_ratio')\n",
    "weighted_averaging_file('test_data', box_columns_fgd, '_fgd', 0, 'area_ratio')\n",
    "weighted_averaging_file('test_data', box_columns_iou, '_iou', .5, 'iou', users_rating)"
   ]
  }
 ],
 "metadata": {
  "kernelspec": {
   "display_name": "Python 3",
   "language": "python",
   "name": "python3"
  },
  "language_info": {
   "codemirror_mode": {
    "name": "ipython",
    "version": 3
   },
   "file_extension": ".py",
   "mimetype": "text/x-python",
   "name": "python",
   "nbconvert_exporter": "python",
   "pygments_lexer": "ipython3",
   "version": "3.6.8"
  }
 },
 "nbformat": 4,
 "nbformat_minor": 2
}
