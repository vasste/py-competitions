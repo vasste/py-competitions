{
 "cells": [
  {
   "cell_type": "code",
   "execution_count": 3,
   "metadata": {},
   "outputs": [],
   "source": [
    "import numpy as np\n",
    "import pandas as pd\n",
    "%matplotlib inline\n",
    "import matplotlib.pyplot as plt\n",
    "from matplotlib.path import Path\n",
    "import matplotlib.patches as patches\n",
    "from ideas import intersection_over_union\n",
    "from ideas import al\n",
    "from ideas import aw\n",
    "\n",
    "box_columns = ['Xmin','Ymin','Xmax','Ymax']\n",
    "box_columns_gd = ['Xmin_gd','Ymin_gd','Xmax_gd','Ymax_gd']\n",
    "\n",
    "def weighted_averaging(iid, df, np_data, avg):\n",
    "    items = df[df['itemId'] == iid]\n",
    "    vi = np_data[items.index.values]\n",
    "    if vi.shape[0] == 0:\n",
    "        return\n",
    "    l = al(vi)\n",
    "    w = aw(vi)\n",
    "    sabx = (l * w) ** 2\n",
    "    sb = sum(1 / sabx)\n",
    "    for y in range(0, 4):        \n",
    "        avg.loc[iid][y] = sum(vi[:,y] / sabx) / sb\n",
    "    avg.loc[iid][4] = iid\n",
    "    return avg.loc[iid]\n",
    "\n",
    "codes = [\n",
    "    Path.MOVETO,\n",
    "    Path.LINETO,\n",
    "    Path.LINETO,\n",
    "    Path.LINETO,\n",
    "    Path.CLOSEPOLY\n",
    "]"
   ]
  },
  {
   "cell_type": "code",
   "execution_count": 4,
   "metadata": {},
   "outputs": [],
   "source": [
    "te_d = pd.read_csv('train_data.csv')\n",
    "t_a = pd.read_csv('train_answers.csv')\n",
    "ids = list(set(te_d['itemId']))\n",
    "te_d['area'] = (te_d['Xmax'] - te_d['Xmin'])*(te_d['Ymax'] - te_d['Ymin'])\n",
    "te_d_max = te_d[['area', 'itemId']].groupby('itemId').max()\n",
    "te_d = te_d.merge(te_d_max, on=['itemId'])\n",
    "te_d['area_ratio'] = te_d['area_x']/te_d['area_y']\n",
    "te_d_r = te_d[te_d['area_ratio'] > .75][box_columns + ['itemId']]\n",
    "te_d_r = te_d_r.reset_index()\n",
    "np_te_d = te_d_r[box_columns].values"
   ]
  },
  {
   "cell_type": "code",
   "execution_count": 5,
   "metadata": {},
   "outputs": [],
   "source": [
    "te_d_wa = pd.DataFrame(np.zeros((len(ids), 5), dtype=int), \n",
    "                      index=ids, columns=[box_columns_gd + ['itemId']])\n",
    "for iid in ids:\n",
    "    weighted_averaging(iid, te_d_r, np_te_d, te_d_wa)\n",
    "    \n",
    "te_d_wa.to_csv('train_data_wavg.csv', index=False)"
   ]
  },
  {
   "cell_type": "code",
   "execution_count": 4,
   "metadata": {},
   "outputs": [
    {
     "name": "stdout",
     "output_type": "stream",
     "text": [
      "0.5645062692039243\n"
     ]
    }
   ],
   "source": [
    "data = te_d_wa.merge(t_a, on=['itemId'])\n",
    "data[\"iou\"] = data[['Xmin','Ymin', 'Xmax', 'Ymax', 'Xmin_true',\\\n",
    "      'Ymin_true', 'Xmax_true','Ymax_true']].apply(intersection_over_union, axis=1)\n",
    "print(data[\"iou\"].mean()) "
   ]
  }
 ],
 "metadata": {
  "kernelspec": {
   "display_name": "Python 3",
   "language": "python",
   "name": "python3"
  },
  "language_info": {
   "codemirror_mode": {
    "name": "ipython",
    "version": 3
   },
   "file_extension": ".py",
   "mimetype": "text/x-python",
   "name": "python",
   "nbconvert_exporter": "python",
   "pygments_lexer": "ipython3",
   "version": "3.6.8"
  }
 },
 "nbformat": 4,
 "nbformat_minor": 2
}
