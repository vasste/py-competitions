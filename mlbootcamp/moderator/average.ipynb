{
 "cells": [
  {
   "cell_type": "code",
   "execution_count": 11,
   "metadata": {},
   "outputs": [],
   "source": [
    "import numpy as np\n",
    "import pandas as pd\n",
    "%matplotlib inline\n",
    "import matplotlib.pyplot as plt\n",
    "from matplotlib.path import Path\n",
    "import matplotlib.patches as patches\n",
    "from ideas import intersection_over_union\n",
    "from ideas import al\n",
    "from ideas import aw\n",
    "\n",
    "box_columns = ['Xmin','Ymin','Xmax','Ymax']\n",
    "\n",
    "def weighted_averaging(iid, df, np_data, avg):\n",
    "    items = df[df['itemId'] == iid]\n",
    "    vi = np_data[items.index.values]\n",
    "    if vi.shape[0] == 0:\n",
    "        return\n",
    "    l = al(vi)\n",
    "    w = aw(vi)\n",
    "    sabx = (l * w) ** 2\n",
    "    sb = sum(1 / sabx)\n",
    "    for y in range(0, 4):        \n",
    "        avg.loc[iid][y] = sum(vi[:,y] / sabx) / sb\n",
    "    avg.loc[iid][4] = iid\n",
    "    return avg.loc[iid]\n",
    "\n",
    "codes = [\n",
    "    Path.MOVETO,\n",
    "    Path.LINETO,\n",
    "    Path.LINETO,\n",
    "    Path.LINETO,\n",
    "    Path.CLOSEPOLY\n",
    "]"
   ]
  },
  {
   "cell_type": "code",
   "execution_count": 65,
   "metadata": {},
   "outputs": [],
   "source": [
    "te_d = pd.read_csv('train_data.csv')\n",
    "t_a = pd.read_csv('train_answers.csv')\n",
    "ids = list(set(te_d['itemId']))\n",
    "te_d['area'] = (te_d['Xmax'] - te_d['Xmin'])*(te_d['Ymax'] - te_d['Ymin'])\n",
    "te_d_max = te_d[['area', 'itemId']].groupby('itemId').max()\n",
    "te_d = te_d.merge(te_d_max, on=['itemId'])\n",
    "te_d['area_ratio'] = te_d['area_x']/te_d['area_y']\n",
    "te_d_r = te_d[te_d['area_ratio'] > .75][box_columns + ['itemId']]\n",
    "te_d_r = te_d_r.reset_index()\n",
    "np_te_d = te_d_r[box_columns].values"
   ]
  },
  {
   "cell_type": "code",
   "execution_count": null,
   "metadata": {},
   "outputs": [],
   "source": [
    "te_d['Xcenter'] = (te_d['Xmax'] - te_d['Xmin'])/2\n",
    "te_d['Ycenter'] = (te_d['Ymax'] - te_d['Ymin'])/2\n",
    "te_d['h/w'] = 0\n",
    "for i, row in te_d.iterrows():\n",
    "    minA = min(row['Xmax'] - row['Xmin'],row['Ymax'] - row['Ymin'])\n",
    "    maxB = max(row['Xmax'] - row['Xmin'],row['Ymax'] - row['Ymin'])    \n",
    "    if maxB == 0:\n",
    "        te_d.iloc[i]['h/w'] = 0\n",
    "    else:\n",
    "        te_d.iloc[i]['h/w'] = minA/maxB   "
   ]
  },
  {
   "cell_type": "code",
   "execution_count": null,
   "metadata": {},
   "outputs": [],
   "source": [
    "te_d"
   ]
  },
  {
   "cell_type": "code",
   "execution_count": 66,
   "metadata": {},
   "outputs": [],
   "source": [
    "te_d_wa = pd.DataFrame(np.zeros((len(ids), 5), dtype=int), \n",
    "                      index=ids, columns=['Xmin','Ymin','Xmax','Ymax', 'itemId'])\n",
    "for iid in ids:\n",
    "    weighted_averaging(iid, te_d_r, np_te_d, te_d_wa)\n",
    "    \n",
    "te_d_wa.to_csv('train_data_wav.csv', index=False)"
   ]
  },
  {
   "cell_type": "code",
   "execution_count": 67,
   "metadata": {},
   "outputs": [
    {
     "name": "stdout",
     "output_type": "stream",
     "text": [
      "0.5645062692039243\n"
     ]
    }
   ],
   "source": [
    "data = te_d_wa.merge(t_a, on=['itemId'])\n",
    "data[\"iou\"] = data[['Xmin','Ymin', 'Xmax', 'Ymax', 'Xmin_true',\\\n",
    "      'Ymin_true', 'Xmax_true','Ymax_true']].apply(intersection_over_union, axis=1)\n",
    "print(data[\"iou\"].mean()) "
   ]
  },
  {
   "cell_type": "code",
   "execution_count": 13,
   "metadata": {},
   "outputs": [],
   "source": [
    "iidd = te_d[te_d['itemId'] == iid][['Xmin','Ymin','Xmin','Ymax','Xmax','Ymax','Xmax','Ymin','Xmin','Ymin']]\n",
    "iidd_adj = te_d[te_d['itemId'] == iid]\n",
    "uids = list(set(iidd_adj['userId']))\n",
    "for i, row in iidd_adj.iterrows():\n",
    "    uajd = users_adj.loc[row['userId']]\n",
    "    l = row['Xmax'] - row['Xmin']\n",
    "    w = row['Ymax'] - row['Ymin']\n",
    "    for y in box_columns:        \n",
    "        t = l if \"X\" in y else w\n",
    "        c = 1 if \"min\" in y else -1\n",
    "        row[y] = row[y] + c * t * uajd[y + 'DifPer']\n",
    "iidd_ans = iidd_adj[['Xmin','Ymin','Xmin','Ymax','Xmax','Ymax','Xmax','Ymin','Xmin','Ymin']]"
   ]
  },
  {
   "cell_type": "code",
   "execution_count": 149,
   "metadata": {},
   "outputs": [
    {
     "data": {
      "text/plain": [
       "(838, 1123)"
      ]
     },
     "execution_count": 149,
     "metadata": {},
     "output_type": "execute_result"
    },
    {
     "data": {
      "image/png": "[encoded data removed]",
      "text/plain": [
       "<Figure size 432x288 with 1 Axes>"
      ]
     },
     "metadata": {
      "needs_background": "light"
     },
     "output_type": "display_data"
    }
   ],
   "source": [
    "iidd = te_d[te_d['itemId'] == iid][['Xmin','Ymin','Xmin','Ymax','Xmax','Ymax','Xmax','Ymin','Xmin','Ymin']]\n",
    "iidd_ans = te_d_wa[te_d_wa['itemId'] == iid][['Xmin','Ymin','Xmin','Ymax','Xmax','Ymax','Xmax','Ymin','Xmin','Ymin']]\n",
    "\n",
    "tdv = []\n",
    "tdc = []\n",
    "tav = []\n",
    "tac = []\n",
    "\n",
    "Xmin,Ymin = 2000, 2000\n",
    "Xmax,Ymax = 0, 0\n",
    "\n",
    "def minMax(row, y):\n",
    "    global Xmin,Xmax,Ymin,Ymax    \n",
    "    Xmin = min(Xmin, row.iloc[y])\n",
    "    Ymin = min(Ymin, row.iloc[y + 1])\n",
    "    Xmax = max(Xmax, row.iloc[y])\n",
    "    Ymax = max(Ymax, row.iloc[y + 1])\n",
    "\n",
    "for i, row in iidd.iterrows():\n",
    "    for y in range(0,10,2):\n",
    "        minMax(row, y)\n",
    "        tdv.append((row.iloc[y], row.iloc[y + 1]))\n",
    "        tdc.append(codes[y//2])\n",
    "\n",
    "for i, row in iidd_ans.iterrows():\n",
    "    for y in range(0,10,2):\n",
    "        minMax(row, y)\n",
    "        tav.append((row.iloc[y], row.iloc[y + 1]))\n",
    "        tac.append(codes[y//2])\n",
    "\n",
    "# tobj = quorum.loc[obj][['Xmin','Ymin','Xmin','Ymax','Xmax','Ymax','Xmax','Ymin','Xmin','Ymin']]\n",
    "# for y in range(0,10,2):\n",
    "#     minMax(tobj, y)\n",
    "#     qv.append((tobj.iloc[y], tobj.iloc[y + 1]))\n",
    "#     qc.append(codes[y//2])    \n",
    "    \n",
    "fig, ax = plt.subplots()\n",
    "ax.add_patch(patches.PathPatch(Path(tdv, tdc), alpha=.3, facecolor='white', edgecolor='black', lw=2))\n",
    "ax.add_patch(patches.PathPatch(Path(tav, tac), alpha=.3, facecolor='white', edgecolor='green', lw=2))\n",
    "\n",
    "# ax.add_patch(patches.PathPatch(Path(qv, qc), facecolor='white', edgecolor='red', lw=2))\n",
    "\n",
    "ax.set_xlim(Xmin - 10, Xmax + 10)\n",
    "ax.set_ylim(Ymin - 10, Ymax + 10) "
   ]
  }
 ],
 "metadata": {
  "kernelspec": {
   "display_name": "Python 3",
   "language": "python",
   "name": "python3"
  },
  "language_info": {
   "codemirror_mode": {
    "name": "ipython",
    "version": 3
   },
   "file_extension": ".py",
   "mimetype": "text/x-python",
   "name": "python",
   "nbconvert_exporter": "python",
   "pygments_lexer": "ipython3",
   "version": "3.6.8"
  }
 },
 "nbformat": 4,
 "nbformat_minor": 2
}
