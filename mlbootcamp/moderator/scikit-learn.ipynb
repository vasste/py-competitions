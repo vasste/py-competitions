{
 "cells": [
  {
   "cell_type": "code",
   "execution_count": 198,
   "metadata": {},
   "outputs": [],
   "source": [
    "import numpy as np\n",
    "import pandas as pd\n",
    "from sklearn.preprocessing import MinMaxScaler, StandardScaler\n",
    "from sklearn import linear_model\n",
    "from sklearn.isotonic import IsotonicRegression\n",
    "from ideas import intersection_over_union\n",
    "from ideas import bb_intersection_over_union\n",
    "from sklearn.metrics import make_scorer\n",
    "from sklearn.multioutput import MultiOutputRegressor\n",
    "from sklearn.model_selection import GridSearchCV, KFold\n",
    "from sklearn.model_selection import train_test_split, StratifiedKFold\n",
    "from sklearn.model_selection import cross_val_score\n",
    "from ideas import al\n",
    "from ideas import aw\n",
    "import math\n",
    "from sklearn.ensemble import BaggingRegressor"
   ]
  },
  {
   "cell_type": "code",
   "execution_count": 195,
   "metadata": {},
   "outputs": [],
   "source": [
    "columns = ['Xmin','Ymin','Xmax','Ymax']\n",
    "box_columns = columns\n",
    "box_columns_gd = list(map(lambda x: x + '_gd', box_columns))\n",
    "\n",
    "center_columns = ['L', 'W', 'X', 'Y']\n",
    "# 'L', 'W', 'Xcenter', 'Ycenter'\n",
    "l, w, xc, yc = 0,1,2,3 \n",
    "center_columns_gd = list(map(lambda x: x + '_gd', center_columns))\n",
    "\n",
    "feature_columns = ['area']\n",
    "feature_ratio_columns = []\n",
    "\n",
    "box_columns_all = box_columns + box_columns_gd + feature_columns\n",
    "center_columns_all = center_columns + center_columns_gd + feature_columns\n",
    "center_columns_true = list(map(lambda x: x + '_true', center_columns))\n",
    "scaler_columns = list(set(box_columns_all + center_columns_all))\n",
    "\n",
    "columns_true = list(map(lambda x: x + '_true', columns))\n",
    "columns_id = columns + ['itemId']\n",
    "test_columns = list(map(lambda x: x + '_test', columns))\n",
    "test_columns_id = test_columns + ['itemId']\n",
    "theta = .5"
   ]
  },
  {
   "cell_type": "code",
   "execution_count": 106,
   "metadata": {},
   "outputs": [],
   "source": [
    "def weighted_averaging(iid, df, np_data, avg, columns, back_up = None):\n",
    "    global box_columns\n",
    "    items = df[df['itemId'] == iid]\n",
    "    vi = np_data[items.index.values]\n",
    "    bl = len(columns)\n",
    "    avg.loc[iid][bl] = iid\n",
    "    if vi.shape[0] == 0:\n",
    "        bp = back_up[back_up['itemId'] == iid][box_columns]\n",
    "        for y in range(0, bl):                \n",
    "            avg.loc[iid][y] = bp[box_columns[y]]               \n",
    "        return\n",
    "    l = al(vi)\n",
    "    w = aw(vi)\n",
    "    sabx = (l * w) ** 2\n",
    "    sb = sum(1 / sabx)    \n",
    "    if math.isinf(sb):\n",
    "        vi = vi.mean(axis=0)\n",
    "        for y in range(0, bl):                \n",
    "            avg.loc[iid][y] = vi[y]\n",
    "    else:\n",
    "        for y in range(0, bl):                \n",
    "            avg.loc[iid][y] = sum(vi[:,y] / sabx) / sb\n",
    "    \n",
    "    return avg.loc[iid]\n",
    "\n",
    "def add_center_columns(df):\n",
    "    df['L_true'] = df['Xmax_true'] - df['Xmin_true']\n",
    "    df['W_true'] = df['Ymax_true'] - df['Ymin_true'] \n",
    "    df['X_true'] = (df['Xmax_true'] + df['Xmin_true'])/2\n",
    "    df['Y_true'] = (df['Ymax_true'] + df['Ymin_true'])/2    \n",
    "    return df"
   ]
  },
  {
   "cell_type": "code",
   "execution_count": 157,
   "metadata": {},
   "outputs": [],
   "source": [
    "te_d = pd.read_csv('test_data_full.csv')\n",
    "t_d = pd.read_csv('train_data_full.csv')\n",
    "t_a = add_center_columns(pd.read_csv('train_answers.csv'))\n",
    "removeIds = []\n",
    "t_d_a = t_d.merge(t_a, on=\"itemId\")\n",
    "t_d_a = t_d_a.drop(t_d_a[t_d_a['itemId'].isin(removeIds)].index)\n",
    "ids = list(set(te_d['itemId']))\n",
    "scaler = MinMaxScaler()\n",
    "scaler_fit_d = t_d_a[scaler_columns].values\n",
    "scaler_fit_d = np.append(scaler_fit_d, te_d[scaler_columns].values, axis = 0)\n",
    "scaler.fit(scaler_fit_d)\n",
    "t_d_a[scaler_columns] = scaler.transform(t_d_a[scaler_columns])\n",
    "te_d[scaler_columns] = scaler.transform(te_d[scaler_columns])\n",
    "t_d_a = t_d_a[t_d_a['score'] > theta]"
   ]
  },
  {
   "cell_type": "code",
   "execution_count": 213,
   "metadata": {},
   "outputs": [],
   "source": [
    "def my_custom_loss_func(y_true, y_pred):\n",
    "    iou = np.zeros(len(y_true))\n",
    "    for i in range(0, len(y_pred)):\n",
    "        if type(y_true) is np.ndarray:\n",
    "            iou[i] = bb_intersection_over_union(y_true, y_pred[i])                          \n",
    "        else:\n",
    "            iou[i] = bb_intersection_over_union(y_true.iloc[i].values, y_pred[i]) \n",
    "    res = iou.mean()\n",
    "    return res"
   ]
  },
  {
   "cell_type": "code",
   "execution_count": 174,
   "metadata": {},
   "outputs": [
    {
     "name": "stdout",
     "output_type": "stream",
     "text": [
      "0.5744559512262829\n"
     ]
    }
   ],
   "source": [
    "random = 71\n",
    "kf = KFold(n_splits=5, random_state = random)\n",
    "clf = linear_model.MultiTaskLassoCV(alphas=np.logspace(-4, 0, 15), cv=kf, \n",
    "                                    max_iter=10000)\n",
    "X = t_d_a[box_columns_all + columns_ratio]\n",
    "y = t_d_a\n",
    "X_train, X_test, y_train, y_test = train_test_split(X, y, test_size=0.20,\\\n",
    "                                                    random_state = random)\n",
    "clf.fit(X_train, y_train[columns_true])\n",
    "y_test_pred = clf.predict(X_test)\n",
    "iou = np.zeros(len(y_test_pred))\n",
    "\n",
    "y_test_pred_pd = pd.DataFrame(data=np.c_[y_test_pred, y_test['itemId']], columns=box_columns_id)\n",
    "y_test_pred_pd['itemId'] = pd.to_numeric(y_test_pred_pd['itemId'], downcast='integer')\n",
    "data = y_test[box_columns_true + ['itemId']].merge(y_test_pred_pd, on=['itemId'])\n",
    "data[\"iou\"] = data[columns + columns_true].apply(intersection_over_union, axis=1)\n",
    "print(data[\"iou\"].mean())"
   ]
  },
  {
   "cell_type": "code",
   "execution_count": 175,
   "metadata": {},
   "outputs": [
    {
     "name": "stdout",
     "output_type": "stream",
     "text": [
      "{33665, 4322, 24450, 31749, 2757, 17191, 32551, 31033, 3019, 23372, 5389, 23342, 8398, 12016, 22483, 23416, 32281, 11258, 16891, 13855}\n"
     ]
    }
   ],
   "source": [
    "ids = list(set(data['itemId']))\n",
    "print(set(data[data['iou'] < .2]['itemId']))\n",
    "# print(data[data['itemId']  == 25135])"
   ]
  },
  {
   "cell_type": "code",
   "execution_count": 224,
   "metadata": {},
   "outputs": [
    {
     "name": "stdout",
     "output_type": "stream",
     "text": [
      "0.5668102127693141\n"
     ]
    }
   ],
   "source": [
    "random = 71\n",
    "kf = KFold(n_splits=5, random_state = random)\n",
    "clf_center = linear_model.MultiTaskElasticNetCV(l1_ratio=0.9, eps=0.0001, cv=kf, \n",
    "                                                max_iter=10000, random_state = seed)\n",
    "X = t_d_a[center_columns_all + columns_ratio]\n",
    "y = t_d_a\n",
    "X_train, X_test, y_train, y_test = train_test_split(X, y, test_size=0.20,\\\n",
    "                                                    random_state = random)\n",
    "clf_center.fit(X_train, y_train[center_columns_true])\n",
    "y_test_pred = clf_center.predict(X_test)\n",
    "y_test_pred = np.c_[y_test_pred, np.zeros(y_test_pred.shape)]\n",
    "# Xmin, Ymin, Xmax, Ymax\n",
    "y_test_pred[:, 4] = y_test_pred[:, xc] - y_test_pred[:, l]/2 \n",
    "y_test_pred[:, 5] = y_test_pred[:, yc] - y_test_pred[:, w]/2\n",
    "y_test_pred[:, 6] = y_test_pred[:, xc] + y_test_pred[:, l]/2\n",
    "y_test_pred[:, 7] = y_test_pred[:, yc] + y_test_pred[:, w]/2\n",
    "y_test_pred = y_test_pred[:, 4:]\n",
    "y_test_pred_pd = pd.DataFrame(data=np.c_[y_test_pred, y_test['itemId']], columns=box_test_columns_id)\n",
    "y_test_pred_pd['itemId'] = pd.to_numeric(y_test_pred_pd['itemId'], downcast='integer')\n",
    "data = y_test[box_columns_true + ['itemId']].merge(y_test_pred_pd, on=['itemId'])\n",
    "data[\"iou\"] = data[box_test_columns + box_columns_true].apply(intersection_over_union, axis=1)\n",
    "print(data[\"iou\"].mean())"
   ]
  },
  {
   "cell_type": "code",
   "execution_count": 226,
   "metadata": {},
   "outputs": [
    {
     "name": "stdout",
     "output_type": "stream",
     "text": [
      "Mean of: 0.552, std: (+/-) 0.010 [MultiTaskLassoCV]\n",
      "\n",
      "Mean of: 0.555, std: (+/-) 0.008 [Bagging MultiTaskLassoCV]\n",
      "\n",
      "Mean of: 0.549, std: (+/-) 0.010 [RidgeCV]\n",
      "\n",
      "Mean of: 0.552, std: (+/-) 0.008 [Bagging RidgeCV]\n",
      "\n",
      "Mean of: 0.558, std: (+/-) 0.005 [MultiTaskElasticNetCV]\n",
      "\n",
      "Mean of: 0.557, std: (+/-) 0.005 [Bagging MultiTaskElasticNetCV]\n",
      "\n"
     ]
    }
   ],
   "source": [
    "seed = 31\n",
    "kf = KFold(n_splits=5, random_state = seed)\n",
    "lasso = linear_model.MultiTaskLassoCV(alphas=np.logspace(-4, 0, 20), cv=kf, max_iter=10000, n_jobs=-1,\\\n",
    "                                      random_state = seed)\n",
    "ridge = linear_model.RidgeCV(alphas=np.logspace(-4, 0, 20), cv=kf)\n",
    "net = linear_model.MultiTaskElasticNetCV(l1_ratio=0.9, eps=0.0001, cv=kf,\\\n",
    "                                        max_iter=10000, random_state = seed)\n",
    "clf_array = [lasso, ridge, net]\n",
    "X = t_d_a[box_columns_all + feature_ratio_columns]\n",
    "y = t_d_a\n",
    "for clf in clf_array:\n",
    "    vanilla_scores = cross_val_score(clf, X, y[columns_true], cv=kf, n_jobs=-1,\\\n",
    "                                     scoring=make_scorer(my_custom_loss_func))\n",
    "    bagging_clf = BaggingRegressor(clf, max_samples=0.4, random_state=seed, n_jobs=-1)\n",
    "    bagging_scores = cross_val_score(bagging_clf, X, y[columns_true], cv=kf, n_jobs=-1,\\\n",
    "                                     scoring=make_scorer(my_custom_loss_func))    \n",
    "    print(\"Mean of: {1:.3f}, std: (+/-) {2:.3f} [{0}]\\n\".\\\n",
    "          format(clf.__class__.__name__, vanilla_scores.mean(), vanilla_scores.std()))\n",
    "    print(\"Mean of: {1:.3f}, std: (+/-) {2:.3f} [Bagging {0}]\\n\".\\\n",
    "          format(clf.__class__.__name__, bagging_scores.mean(), bagging_scores.std()))"
   ]
  },
  {
   "cell_type": "code",
   "execution_count": 168,
   "metadata": {},
   "outputs": [
    {
     "name": "stdout",
     "output_type": "stream",
     "text": [
      "{33665, 4322, 24450, 31749, 2757, 17191, 32551, 31033, 3019, 23372, 23342, 12016, 22483, 32281, 11258, 13855}\n"
     ]
    }
   ],
   "source": [
    "ids = list(set(data['itemId']))\n",
    "print(set(data[data['iou'] < .2]['itemId']))"
   ]
  },
  {
   "cell_type": "code",
   "execution_count": 169,
   "metadata": {},
   "outputs": [],
   "source": [
    "X_submit_box = te_d[box_columns_all + columns_ratio]\n",
    "y_submit_box = clf.predict(X_submit_box)\n",
    "X_submit_center = te_d[center_columns_all + columns_ratio]\n",
    "y_submit_center = clf_center.predict(X_submit_center)\n",
    "# Xmin, Ymin, Xmax, Ymax\n",
    "y_submit_center = np.c_[y_submit_center, np.zeros(y_submit_center.shape)]\n",
    "y_submit_center[:, 4] = y_submit_center[:, xc] - y_submit_center[:, l]/2 \n",
    "y_submit_center[:, 5] = y_submit_center[:, yc] - y_submit_center[:, w]/2\n",
    "y_submit_center[:, 6] = y_submit_center[:, xc] + y_submit_center[:, l]/2\n",
    "y_submit_center[:, 7] = y_submit_center[:, yc] + y_submit_center[:, w]/2\n",
    "y_submit_center = y_submit_center[:, 4:]\n",
    "\n",
    "y_submit_pd_box = pd.DataFrame(data=np.c_[y_submit_box, te_d['itemId']], columns=box_columns_id)\n",
    "y_submit_pd_box['itemId'] = pd.to_numeric(y_submit_pd_box['itemId'], downcast='integer')\n",
    "y_submit_pd_center = pd.DataFrame(data=np.c_[y_submit_center, te_d['itemId']], columns=box_columns_id)\n",
    "y_submit_pd_center['itemId'] = pd.to_numeric(y_submit_pd_center['itemId'], downcast='integer')"
   ]
  },
  {
   "cell_type": "code",
   "execution_count": 170,
   "metadata": {},
   "outputs": [
    {
     "name": "stdout",
     "output_type": "stream",
     "text": [
      "        Xmin        Ymin        Xmax         Ymax  itemId\n",
      "0  77.284505  834.176848  403.467454  1118.765395    4099\n",
      "1  74.968861  831.994653  399.640068  1120.642465    4099\n",
      "2  74.953123  832.829583  401.386052  1124.102984    4099\n",
      "        Xmin        Ymin        Xmax         Ymax  itemId\n",
      "0  77.282745  833.468816  401.483732  1117.800286    4099\n",
      "1  75.965920  832.607623  401.228075  1119.956980    4099\n",
      "2  75.337940  832.735574  402.465928  1123.161499    4099\n"
     ]
    }
   ],
   "source": [
    "print(y_submit_pd_box[y_submit_pd_box['itemId'] == 4099])\n",
    "print(y_submit_pd_center[y_submit_pd_center['itemId'] == 4099])"
   ]
  },
  {
   "cell_type": "code",
   "execution_count": 179,
   "metadata": {},
   "outputs": [
    {
     "data": {
      "text/plain": [
       "0.8476452700582842"
      ]
     },
     "execution_count": 179,
     "metadata": {},
     "output_type": "execute_result"
    }
   ],
   "source": [
    "result = pd.concat([y_submit_pd_box, y_submit_pd_center])\n",
    "# ids = list(set(result['itemId']))\n",
    "# answers = pd.DataFrame(np.zeros((len(ids), len(box_columns_id)), dtype=int), index=ids, columns=box_columns_id)\n",
    "# y_submit = result.values\n",
    "# for iid in ids:\n",
    "#     weighted_averaging(iid, result, y_submit, answers, columns)\n",
    "answers = result.groupby('itemId').mean().reset_index()\n",
    "answers[['itemId'] + columns].to_csv('submit2601.csv', index=False, header=False)\n",
    "data = answers.merge(pd.read_csv(\"submit-max.csv\"), on=['itemId'])\n",
    "data[\"iou\"] = data[['Xmin','Ymin', 'Xmax', 'Ymax', 'Xmin_true',\\\n",
    "      'Ymin_true', 'Xmax_true','Ymax_true']].apply(intersection_over_union, axis=1)\n",
    "data[\"iou\"].mean()"
   ]
  }
 ],
 "metadata": {
  "kernelspec": {
   "display_name": "Python 3",
   "language": "python",
   "name": "python3"
  },
  "language_info": {
   "codemirror_mode": {
    "name": "ipython",
    "version": 3
   },
   "file_extension": ".py",
   "mimetype": "text/x-python",
   "name": "python",
   "nbconvert_exporter": "python",
   "pygments_lexer": "ipython3",
   "version": "3.6.8"
  }
 },
 "nbformat": 4,
 "nbformat_minor": 2
}
