{
 "cells": [
  {
   "cell_type": "code",
   "execution_count": 37,
   "metadata": {},
   "outputs": [],
   "source": [
    "import numpy as np\n",
    "import pandas as pd\n",
    "from sklearn.preprocessing import MinMaxScaler, StandardScaler\n",
    "from sklearn import linear_model\n",
    "from sklearn.isotonic import IsotonicRegression\n",
    "from ideas import intersection_over_union\n",
    "from ideas import bb_intersection_over_union\n",
    "from sklearn.metrics import make_scorer\n",
    "from sklearn.multioutput import MultiOutputRegressor\n",
    "from sklearn.model_selection import GridSearchCV\n",
    "from sklearn.model_selection import train_test_split, StratifiedKFold\n",
    "from sklearn.model_selection import cross_val_score\n",
    "from ideas import al\n",
    "from ideas import aw\n",
    "import math"
   ]
  },
  {
   "cell_type": "code",
   "execution_count": 84,
   "metadata": {},
   "outputs": [],
   "source": [
    "columns = ['Xmin','Ymin','Xmax','Ymax']\n",
    "box_columns = columns + ['L', 'W']\n",
    "box_columns_gd = list(map(lambda x: x + '_gd', box_columns))\n",
    "box_columns_fgd = list(map(lambda x: x + '_fgd', box_columns))\n",
    "box_columns_iou = list(map(lambda x: x + '_iou', box_columns))\n",
    "\n",
    "center_columns = [\n",
    "#                   'Xcenter_iou', 'Ycenter_iou', \n",
    "#                   'Xcenter_gd', 'Ycenter_gd',\n",
    "#                    'Xcenter', 'Ycenter',\n",
    "#                   'XcenterL', 'YcenterW',\n",
    "#                   'XcenterL_iou', 'YcenterW_iou',\n",
    "#                   'XcenterL_gd', 'YcenterW_gd'\n",
    "]\n",
    "# ['XcenterDelta_iou', 'YcenterDelta_iou']\n",
    "# 'Xratio', 'Yratio'\n",
    "# 'box_iou', 'iou'\n",
    "columns_ratio = []\n",
    "# user_columns = ['XminError', 'XmaxError', 'YminError', 'YmaxError']\n",
    "# ['XError', 'YError']\n",
    "user_columns = []\n",
    "\n",
    "box_columns_all = box_columns + box_columns_gd + center_columns + user_columns\n",
    "box_columns_true = ['Xmin_true', 'Ymin_true', 'Xmax_true', 'Ymax_true']\n",
    "box_columns_id = columns + ['itemId']"
   ]
  },
  {
   "cell_type": "code",
   "execution_count": 35,
   "metadata": {},
   "outputs": [],
   "source": [
    "def weighted_averaging(iid, df, np_data, avg, columns, back_up = None):\n",
    "    global box_columns\n",
    "    items = df[df['itemId'] == iid]\n",
    "    vi = np_data[items.index.values]\n",
    "    bl = len(columns)\n",
    "    avg.loc[iid][bl] = iid\n",
    "    if vi.shape[0] == 0:\n",
    "        bp = back_up[back_up['itemId'] == iid][box_columns]\n",
    "        for y in range(0, bl):                \n",
    "            avg.loc[iid][y] = bp[box_columns[y]]               \n",
    "        return\n",
    "    l = al(vi)\n",
    "    w = aw(vi)\n",
    "    sabx = (l * w) ** 2\n",
    "    sb = sum(1 / sabx)    \n",
    "    if math.isinf(sb):\n",
    "        vi = vi.mean(axis=0)\n",
    "        for y in range(0, bl):                \n",
    "            avg.loc[iid][y] = vi[y]\n",
    "    else:\n",
    "        for y in range(0, bl):                \n",
    "            avg.loc[iid][y] = sum(vi[:,y] / sabx) / sb\n",
    "    \n",
    "    return avg.loc[iid]"
   ]
  },
  {
   "cell_type": "code",
   "execution_count": 85,
   "metadata": {},
   "outputs": [],
   "source": [
    "te_d = pd.read_csv('test_data_full.csv')\n",
    "t_d = pd.read_csv('train_data_full.csv')\n",
    "t_a = pd.read_csv('train_answers.csv')\n",
    "t_d_a = t_d.merge(t_a, on=\"itemId\")\n",
    "ids = list(set(te_d['itemId']))\n",
    "scaler = MinMaxScaler()\n",
    "scaler_fit_d = t_d_a[box_columns_all].values\n",
    "scaler_fit_d = np.append(scaler_fit_d, te_d[box_columns_all].values, axis = 0)\n",
    "scaler.fit(scaler_fit_d)\n",
    "t_d_a[box_columns_all] = scaler.transform(t_d_a[box_columns_all])\n",
    "te_d[box_columns_all] = scaler.transform(te_d[box_columns_all])"
   ]
  },
  {
   "cell_type": "code",
   "execution_count": 4,
   "metadata": {},
   "outputs": [],
   "source": [
    "def my_custom_loss_func(y_true, y_pred):\n",
    "    iou = np.zeros(len(y_true))\n",
    "    for i in range(0, len(y_pred)):\n",
    "        iou[i] = bb_intersection_over_union(y_true.iloc[i].values, y_pred[i])                          \n",
    "    res = iou.mean()\n",
    "    return res"
   ]
  },
  {
   "cell_type": "code",
   "execution_count": 88,
   "metadata": {},
   "outputs": [
    {
     "name": "stdout",
     "output_type": "stream",
     "text": [
      "0.5408622886335104\n"
     ]
    }
   ],
   "source": [
    "# for uid in uids:\n",
    "rate = .2\n",
    "X = t_d_a[box_columns_all + columns_ratio][t_d_a['iou'] > rate]\n",
    "y = t_d_a[box_columns_true][t_d_a['iou'] > rate]\n",
    "X_train, X_test, y_train, y_test = train_test_split(X, y, test_size=0.20)\n",
    "# clf = linear_model.MultiTaskLassoCV(alphas=np.logspace(-4, 0, 5), \n",
    "#                                     eps=0.5, cv=4, max_iter=100000)\n",
    "# clf = MultiOutputRegressor(linear_model.LogisticRegression(solver='lbfgs', \n",
    "#                                                            multi_class='auto',\n",
    "#                                                            max_iter=1000))\n",
    "# clf = linear_model.MultiTaskElasticNetCV(alphas=np.logspace(-4, 0, 5), cv=4, \n",
    "#                                          l1_ratio=0.8, max_iter=100000)\n",
    "clf = linear_model.RidgeCV(alphas=np.logspace(-4, 0, 10), \n",
    "                           cv=4, scoring=make_scorer(my_custom_loss_func))\n",
    "# clf = linear_model.LassoLarsCV()\n",
    "clf.fit(X_train, y_train)\n",
    "y_test_pred = clf.predict(X_test)\n",
    "iou = np.zeros(len(y_test_pred))\n",
    "for i in range(0, len(y_test_pred)):\n",
    "    iou[i] = bb_intersection_over_union(y_test_pred[i], y_test.iloc[i].values)\n",
    "print(iou.mean())    "
   ]
  },
  {
   "cell_type": "code",
   "execution_count": 89,
   "metadata": {},
   "outputs": [
    {
     "data": {
      "text/plain": [
       "0.7280086606052493"
      ]
     },
     "execution_count": 89,
     "metadata": {},
     "output_type": "execute_result"
    }
   ],
   "source": [
    "X_submit = te_d[box_columns_all + columns_ratio]\n",
    "y_submit = clf.predict(X_submit)\n",
    "y_submit_pd = pd.DataFrame(data=np.c_[y_submit, te_d['itemId']], columns=box_columns_id)\n",
    "ids = list(set(y_submit_pd['itemId']))\n",
    "answers = pd.DataFrame(np.zeros((len(ids), len(box_columns_id)), dtype=int), index=ids, columns=box_columns_id)\n",
    "for iid in ids:\n",
    "    weighted_averaging(iid, y_submit_pd, y_submit, answers, columns)\n",
    "answers[['itemId'] + columns].to_csv('submit2401.csv', index=False, header=False)\n",
    "data = answers.merge(pd.read_csv(\"submit-max.csv\"), on=['itemId'])\n",
    "data[\"iou\"] = data[['Xmin','Ymin', 'Xmax', 'Ymax', 'Xmin_true',\\\n",
    "      'Ymin_true', 'Xmax_true','Ymax_true']].apply(intersection_over_union, axis=1)\n",
    "data[\"iou\"].mean()"
   ]
  }
 ],
 "metadata": {
  "kernelspec": {
   "display_name": "Python 3",
   "language": "python",
   "name": "python3"
  },
  "language_info": {
   "codemirror_mode": {
    "name": "ipython",
    "version": 3
   },
   "file_extension": ".py",
   "mimetype": "text/x-python",
   "name": "python",
   "nbconvert_exporter": "python",
   "pygments_lexer": "ipython3",
   "version": "3.6.8"
  }
 },
 "nbformat": 4,
 "nbformat_minor": 2
}
