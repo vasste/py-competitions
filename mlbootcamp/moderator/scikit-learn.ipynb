{
 "cells": [
  {
   "cell_type": "code",
   "execution_count": 165,
   "metadata": {},
   "outputs": [],
   "source": [
    "import numpy as np\n",
    "import pandas as pd\n",
    "from sklearn.preprocessing import MinMaxScaler, StandardScaler\n",
    "from sklearn import linear_model\n",
    "from sklearn.isotonic import IsotonicRegression\n",
    "from ideas import intersection_over_union\n",
    "from ideas import bb_intersection_over_union\n",
    "from sklearn.metrics import make_scorer\n",
    "from sklearn.multioutput import MultiOutputRegressor\n",
    "from sklearn.model_selection import GridSearchCV, KFold\n",
    "from sklearn.model_selection import train_test_split, StratifiedKFold\n",
    "from sklearn.model_selection import cross_val_score\n",
    "from ideas import al\n",
    "from ideas import aw\n",
    "import math"
   ]
  },
  {
   "cell_type": "code",
   "execution_count": 271,
   "metadata": {},
   "outputs": [],
   "source": [
    "columns = ['Xmin','Ymin','Xmax','Ymax']\n",
    "box_columns = columns\n",
    "box_columns_gd = list(map(lambda x: x + '_gd', box_columns))\n",
    "box_columns_fgd = list(map(lambda x: x + '_fgd', box_columns))\n",
    "box_columns_iou = list(map(lambda x: x + '_iou', box_columns))\n",
    "\n",
    "center_columns = ['L', 'W', 'Xcenter', 'Ycenter']\n",
    "# 'L', 'W', 'Xcenter', 'Ycenter'\n",
    "l, w, xc, yc = 0,1,2,3 \n",
    "center_columns_gd = list(map(lambda x: x + '_gd', center_columns))\n",
    "center_columns_gd = list(map(lambda x: x + '_iou', center_columns))\n",
    "\n",
    "# ['XcenterDelta_iou', 'YcenterDelta_iou']\n",
    "# 'Xratio', 'Yratio'\n",
    "# 'box_iou', 'iou'\n",
    "columns_ratio = []\n",
    "# user_columns = ['XminError', 'XmaxError', 'YminError', 'YmaxError']\n",
    "# ['XError', 'YError']\n",
    "user_columns = []\n",
    "\n",
    "box_columns_all = box_columns + box_columns_gd + user_columns\n",
    "center_columns_all = center_columns + box_columns_gd + user_columns\n",
    "center_columns_true = list(map(lambda x: x + '_true', center_columns))\n",
    "scaler_columns = list(set(box_columns_all + center_columns_all))\n",
    "box_columns_true = list(map(lambda x: x + '_true', columns))\n",
    "box_columns_id = columns + ['itemId']\n",
    "box_test_columns = list(map(lambda x: x + '_test', columns))\n",
    "box_test_columns_id = box_test_columns + ['itemId']"
   ]
  },
  {
   "cell_type": "code",
   "execution_count": 6,
   "metadata": {},
   "outputs": [],
   "source": [
    "def weighted_averaging(iid, df, np_data, avg, columns, back_up = None):\n",
    "    global box_columns\n",
    "    items = df[df['itemId'] == iid]\n",
    "    vi = np_data[items.index.values]\n",
    "    bl = len(columns)\n",
    "    avg.loc[iid][bl] = iid\n",
    "    if vi.shape[0] == 0:\n",
    "        bp = back_up[back_up['itemId'] == iid][box_columns]\n",
    "        for y in range(0, bl):                \n",
    "            avg.loc[iid][y] = bp[box_columns[y]]               \n",
    "        return\n",
    "    l = al(vi)\n",
    "    w = aw(vi)\n",
    "    sabx = (l * w) ** 2\n",
    "    sb = sum(1 / sabx)    \n",
    "    if math.isinf(sb):\n",
    "        vi = vi.mean(axis=0)\n",
    "        for y in range(0, bl):                \n",
    "            avg.loc[iid][y] = vi[y]\n",
    "    else:\n",
    "        for y in range(0, bl):                \n",
    "            avg.loc[iid][y] = sum(vi[:,y] / sabx) / sb\n",
    "    \n",
    "    return avg.loc[iid]\n",
    "\n",
    "def add_center_columns(df):\n",
    "    df['L_true'] = df['Xmax_true'] - df['Xmin_true']\n",
    "    df['W_true'] = df['Ymax_true'] - df['Ymin_true'] \n",
    "    df['Xcenter_true'] = (df['Xmax_true'] + df['Xmin_true'])/2\n",
    "    df['Ycenter_true'] = (df['Ymax_true'] + df['Ymin_true'])/2    \n",
    "    return df"
   ]
  },
  {
   "cell_type": "code",
   "execution_count": 272,
   "metadata": {},
   "outputs": [],
   "source": [
    "te_d = pd.read_csv('test_data_full.csv')\n",
    "t_d = pd.read_csv('train_data_full.csv')\n",
    "t_a = add_center_columns(pd.read_csv('train_answers.csv'))\n",
    "t_d_a = t_d.merge(t_a, on=\"itemId\")\n",
    "ids = list(set(te_d['itemId']))\n",
    "scaler = MinMaxScaler()\n",
    "scaler_fit_d = t_d_a[scaler_columns].values\n",
    "scaler_fit_d = np.append(scaler_fit_d, te_d[scaler_columns].values, axis = 0)\n",
    "scaler.fit(scaler_fit_d)\n",
    "t_d_a[scaler_columns] = scaler.transform(t_d_a[scaler_columns])\n",
    "te_d[scaler_columns] = scaler.transform(te_d[scaler_columns])"
   ]
  },
  {
   "cell_type": "code",
   "execution_count": 8,
   "metadata": {},
   "outputs": [],
   "source": [
    "def my_custom_loss_func(y_true, y_pred):\n",
    "    iou = np.zeros(len(y_true))\n",
    "    for i in range(0, len(y_pred)):\n",
    "        iou[i] = bb_intersection_over_union(y_true.iloc[i].values, y_pred[i])                          \n",
    "    res = iou.mean()\n",
    "    return res"
   ]
  },
  {
   "cell_type": "code",
   "execution_count": 257,
   "metadata": {},
   "outputs": [
    {
     "name": "stdout",
     "output_type": "stream",
     "text": [
      "0.5359823941344947\n"
     ]
    }
   ],
   "source": [
    "box_rate = .5\n",
    "kf = KFold(n_splits=5, random_state = 5)\n",
    "clf = linear_model.RidgeCV(alphas=np.logspace(-4, 0, 10),\n",
    "                           cv=kf, scoring=make_scorer(my_custom_loss_func))\n",
    "X = t_d_a[box_columns_all + columns_ratio][t_d_a['iou'] > box_rate]\n",
    "y = t_d_a[t_d_a['iou'] > box_rate]\n",
    "X_train, X_test, y_train, y_test = train_test_split(X, y, test_size=0.20)\n",
    "clf.fit(X_train, y_train[box_columns_true])\n",
    "y_test_pred = clf.predict(X_test)\n",
    "iou = np.zeros(len(y_test_pred))\n",
    "for i in range(0, len(y_test_pred)):\n",
    "    iou[i] = bb_intersection_over_union(y_test_pred[i], y_test.iloc[i].values)\n",
    "print(iou.mean())\n",
    "y_test_pred_pd = pd.DataFrame(data=np.c_[y_test_pred, y_test['itemId']], columns=box_columns_id)\n",
    "y_test_pred_pd['itemId'] = pd.to_numeric(y_test_pred_pd['itemId'], downcast='integer')"
   ]
  },
  {
   "cell_type": "code",
   "execution_count": 258,
   "metadata": {},
   "outputs": [
    {
     "name": "stdout",
     "output_type": "stream",
     "text": [
      "          Xmin        Ymin        Xmax        Ymax  itemId\n",
      "145  66.100564  210.400787  462.343332  524.971901   30724\n",
      "   Xmin_true  Ymin_true  Xmax_true  Ymax_true\n",
      "7        104        284        428        497\n"
     ]
    }
   ],
   "source": [
    "ids = list(set(y_test['itemId']))\n",
    "print(y_test_pred_pd[y_test_pred_pd['itemId'] == ids[0]])\n",
    "print(y_test[y_test['itemId'] == ids[0]][box_columns_true])"
   ]
  },
  {
   "cell_type": "code",
   "execution_count": 277,
   "metadata": {},
   "outputs": [
    {
     "name": "stdout",
     "output_type": "stream",
     "text": [
      "[[  36.34317133  601.104965     53.12479505  606.6757633 ]\n",
      " [  82.12114028 1040.17875801  323.8195426  1258.54695178]\n",
      " [  90.01702036  157.1783114   659.0443282   620.06681096]\n",
      " ...\n",
      " [ 114.42500596  693.82565711  766.0241195  1252.04183624]\n",
      " [  87.95965743  430.53685405  687.27850097  935.8535159 ]\n",
      " [  82.61166254  516.22349686  522.88237046  892.79962079]]\n"
     ]
    }
   ],
   "source": [
    "center_rate = .2\n",
    "kf = KFold(n_splits=4, random_state = 6)\n",
    "clf_center = linear_model.MultiTaskLassoCV(alphas=np.logspace(-4, 0, 10), cv=kf)\n",
    "X = t_d_a[center_columns_all + columns_ratio][t_d_a['iou'] > center_rate]\n",
    "y = t_d_a[t_d_a['iou'] > center_rate]\n",
    "X_train, X_test, y_train, y_test = train_test_split(X, y, test_size=0.20)\n",
    "clf_center.fit(X_train, y_train[center_columns_true])\n",
    "y_test_pred = clf_center.predict(X_test)\n",
    "y_test_pred = np.c_[y_test_pred, np.zeros(y_test_pred.shape)]\n",
    "# Xmin, Ymin, Xmax, Ymax\n",
    "y_test_pred[:, 4] = y_test_pred[:, xc] - y_test_pred[:, l]/2 \n",
    "y_test_pred[:, 5] = y_test_pred[:, yc] - y_test_pred[:, w]/2\n",
    "y_test_pred[:, 6] = y_test_pred[:, xc] + y_test_pred[:, l]/2\n",
    "y_test_pred[:, 7] = y_test_pred[:, yc] + y_test_pred[:, w]/2\n",
    "y_test_pred = y_test_pred[:, 4:]\n",
    "y_test_pred_pd = pd.DataFrame(data=np.c_[y_test_pred, y_test['itemId']], columns=box_test_columns_id)\n",
    "y_test_pred_pd['itemId'] = pd.to_numeric(y_test_pred_pd['itemId'], downcast='integer')\n",
    "data = y_test[box_columns_true + ['itemId']].merge(y_test_pred_pd, on=['itemId'])\n",
    "data[\"iou\"] = data[box_test_columns + box_columns_true].apply(intersection_over_union, axis=1)"
   ]
  },
  {
   "cell_type": "code",
   "execution_count": 286,
   "metadata": {},
   "outputs": [
    {
     "name": "stdout",
     "output_type": "stream",
     "text": [
      "(49, 10)\n"
     ]
    }
   ],
   "source": [
    "ids = list(set(data['itemId']))\n",
    "print(data[data['iou'] < .2].shape)"
   ]
  },
  {
   "cell_type": "code",
   "execution_count": 247,
   "metadata": {},
   "outputs": [],
   "source": [
    "X_submit_box = te_d[box_columns_all + columns_ratio]\n",
    "y_submit_box = clf.predict(X_submit_box)\n",
    "X_submit_center = te_d[center_columns_all + columns_ratio]\n",
    "y_submit_center = clf_center.predict(X_submit_center)\n",
    "# Xmin, Ymin, Xmax, Ymax\n",
    "y_submit_center = np.c_[y_submit_center, np.zeros(y_submit_center.shape)]\n",
    "y_submit_center[:, 4] = y_submit_center[:, xc] - y_submit_center[:, l]/2 \n",
    "y_submit_center[:, 5] = y_submit_center[:, yc] - y_submit_center[:, w]/2\n",
    "y_submit_center[:, 6] = y_submit_center[:, xc] + y_submit_center[:, l]/2\n",
    "y_submit_center[:, 7] = y_submit_center[:, yc] + y_submit_center[:, w]/2\n",
    "y_submit_center = y_submit_center[:, 4:]\n",
    "\n",
    "y_submit_pd_box = pd.DataFrame(data=np.c_[y_submit_box, te_d['itemId']], columns=box_columns_id)\n",
    "y_submit_pd_box['itemId'] = pd.to_numeric(y_submit_pd_box['itemId'], downcast='integer')\n",
    "y_submit_pd_center = pd.DataFrame(data=np.c_[y_submit_center, te_d['itemId']], columns=box_columns_id)\n",
    "y_submit_pd_center['itemId'] = pd.to_numeric(y_submit_pd_center['itemId'], downcast='integer')"
   ]
  },
  {
   "cell_type": "code",
   "execution_count": 248,
   "metadata": {},
   "outputs": [
    {
     "name": "stdout",
     "output_type": "stream",
     "text": [
      "        Xmin        Ymin        Xmax         Ymax  itemId\n",
      "0  90.378417  835.019718  405.668716  1113.432500    4099\n",
      "1  70.472012  840.888404  376.212550  1113.892538    4099\n",
      "2  68.346370  843.652197  388.970445  1124.912042    4099\n",
      "        Xmin        Ymin        Xmax         Ymax  itemId\n",
      "0  83.600525  823.535964  425.023347  1120.532302    4099\n",
      "1  74.200227  833.870694  392.789885  1114.087754    4099\n",
      "2  75.178852  836.581806  402.637068  1122.929602    4099\n"
     ]
    }
   ],
   "source": [
    "print(y_submit_pd_box[y_submit_pd_box['itemId'] == 4099])\n",
    "print(y_submit_pd_center[y_submit_pd_center['itemId'] == 4099])"
   ]
  },
  {
   "cell_type": "code",
   "execution_count": 249,
   "metadata": {},
   "outputs": [
    {
     "name": "stdout",
     "output_type": "stream",
     "text": [
      "(7230, 5)\n"
     ]
    },
    {
     "data": {
      "text/plain": [
       "0.7858296464280266"
      ]
     },
     "execution_count": 249,
     "metadata": {},
     "output_type": "execute_result"
    }
   ],
   "source": [
    "result = pd.concat([y_submit_pd_box, y_submit_pd_center])\n",
    "print(result.shape)\n",
    "# ids = list(set(y_submit_pd['itemId']))\n",
    "# answers = pd.DataFrame(np.zeros((len(ids), len(box_columns_id)), dtype=int), index=ids, columns=box_columns_id)\n",
    "# for iid in ids:\n",
    "#     weighted_averaging(iid, y_submit_pd, y_submit, answers, columns)\n",
    "answers = result.groupby('itemId').mean().reset_index()\n",
    "answers[['itemId'] + columns].to_csv('submit2501.csv', index=False, header=False)\n",
    "data = answers.merge(pd.read_csv(\"submit-max.csv\"), on=['itemId'])\n",
    "data[\"iou\"] = data[['Xmin','Ymin', 'Xmax', 'Ymax', 'Xmin_true',\\\n",
    "      'Ymin_true', 'Xmax_true','Ymax_true']].apply(intersection_over_union, axis=1)\n",
    "data[\"iou\"].mean()"
   ]
  }
 ],
 "metadata": {
  "kernelspec": {
   "display_name": "Python 3",
   "language": "python",
   "name": "python3"
  },
  "language_info": {
   "codemirror_mode": {
    "name": "ipython",
    "version": 3
   },
   "file_extension": ".py",
   "mimetype": "text/x-python",
   "name": "python",
   "nbconvert_exporter": "python",
   "pygments_lexer": "ipython3",
   "version": "3.6.8"
  }
 },
 "nbformat": 4,
 "nbformat_minor": 2
}
