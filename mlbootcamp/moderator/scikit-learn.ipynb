{
 "cells": [
  {
   "cell_type": "code",
   "execution_count": 1,
   "metadata": {},
   "outputs": [],
   "source": [
    "import numpy as np\n",
    "import pandas as pd\n",
    "from sklearn.preprocessing import MinMaxScaler, StandardScaler\n",
    "from sklearn import linear_model\n",
    "from sklearn.isotonic import IsotonicRegression\n",
    "from ideas import intersection_over_union\n",
    "from ideas import bb_intersection_over_union\n",
    "from sklearn.metrics import make_scorer\n",
    "from sklearn.multioutput import MultiOutputRegressor\n",
    "from sklearn.model_selection import GridSearchCV, KFold\n",
    "from sklearn.model_selection import train_test_split, StratifiedKFold\n",
    "from sklearn.model_selection import cross_val_score\n",
    "from ideas import al\n",
    "from ideas import aw\n",
    "import math"
   ]
  },
  {
   "cell_type": "code",
   "execution_count": 2,
   "metadata": {},
   "outputs": [],
   "source": [
    "columns = ['Xmin','Ymin','Xmax','Ymax']\n",
    "box_columns = columns\n",
    "box_columns_gd = list(map(lambda x: x + '_gd', box_columns))\n",
    "box_columns_fgd = list(map(lambda x: x + '_fgd', box_columns))\n",
    "box_columns_iou = list(map(lambda x: x + '_iou', box_columns))\n",
    "\n",
    "center_columns = ['L', 'W', 'Xcenter', 'Ycenter']\n",
    "# 'L', 'W', 'Xcenter', 'Ycenter'\n",
    "l, w, xc, yc = 0,1,2,3 \n",
    "center_columns_gd = list(map(lambda x: x + '_gd', center_columns))\n",
    "center_columns_gd = list(map(lambda x: x + '_iou', center_columns))\n",
    "\n",
    "# ['XcenterDelta_iou', 'YcenterDelta_iou']\n",
    "# 'Xratio', 'Yratio'\n",
    "# 'box_iou', 'iou'\n",
    "columns_ratio = []\n",
    "# user_columns = ['XminError', 'XmaxError', 'YminError', 'YmaxError']\n",
    "# ['XError', 'YError']\n",
    "user_columns = []\n",
    "\n",
    "box_columns_all = box_columns + box_columns_gd + user_columns\n",
    "center_columns_all = center_columns + box_columns_gd + user_columns\n",
    "center_columns_true = list(map(lambda x: x + '_true', center_columns))\n",
    "scaler_columns = list(set(box_columns_all + center_columns_all))\n",
    "box_columns_true = list(map(lambda x: x + '_true', columns))\n",
    "box_columns_id = columns + ['itemId']\n",
    "box_test_columns = list(map(lambda x: x + '_test', columns))\n",
    "box_test_columns_id = box_test_columns + ['itemId']"
   ]
  },
  {
   "cell_type": "code",
   "execution_count": 3,
   "metadata": {},
   "outputs": [],
   "source": [
    "def weighted_averaging(iid, df, np_data, avg, columns, back_up = None):\n",
    "    global box_columns\n",
    "    items = df[df['itemId'] == iid]\n",
    "    vi = np_data[items.index.values]\n",
    "    bl = len(columns)\n",
    "    avg.loc[iid][bl] = iid\n",
    "    if vi.shape[0] == 0:\n",
    "        bp = back_up[back_up['itemId'] == iid][box_columns]\n",
    "        for y in range(0, bl):                \n",
    "            avg.loc[iid][y] = bp[box_columns[y]]               \n",
    "        return\n",
    "    l = al(vi)\n",
    "    w = aw(vi)\n",
    "    sabx = (l * w) ** 2\n",
    "    sb = sum(1 / sabx)    \n",
    "    if math.isinf(sb):\n",
    "        vi = vi.mean(axis=0)\n",
    "        for y in range(0, bl):                \n",
    "            avg.loc[iid][y] = vi[y]\n",
    "    else:\n",
    "        for y in range(0, bl):                \n",
    "            avg.loc[iid][y] = sum(vi[:,y] / sabx) / sb\n",
    "    \n",
    "    return avg.loc[iid]\n",
    "\n",
    "def add_center_columns(df):\n",
    "    df['L_true'] = df['Xmax_true'] - df['Xmin_true']\n",
    "    df['W_true'] = df['Ymax_true'] - df['Ymin_true'] \n",
    "    df['Xcenter_true'] = (df['Xmax_true'] + df['Xmin_true'])/2\n",
    "    df['Ycenter_true'] = (df['Ymax_true'] + df['Ymin_true'])/2    \n",
    "    return df"
   ]
  },
  {
   "cell_type": "code",
   "execution_count": 73,
   "metadata": {},
   "outputs": [],
   "source": [
    "te_d = pd.read_csv('test_data_full.csv')\n",
    "t_d = pd.read_csv('train_data_full.csv')\n",
    "t_a = add_center_columns(pd.read_csv('train_answers.csv'))\n",
    "removeIds = []\n",
    "t_d_a = t_d.merge(t_a, on=\"itemId\")\n",
    "t_d_a = t_d_a.drop(t_d_a[t_d_a['itemId'].isin(removeIds)].index)\n",
    "ids = list(set(te_d['itemId']))\n",
    "scaler = MinMaxScaler()\n",
    "scaler_fit_d = t_d_a[scaler_columns].values\n",
    "scaler_fit_d = np.append(scaler_fit_d, te_d[scaler_columns].values, axis = 0)\n",
    "scaler.fit(scaler_fit_d)\n",
    "t_d_a[scaler_columns] = scaler.transform(t_d_a[scaler_columns])\n",
    "te_d[scaler_columns] = scaler.transform(te_d[scaler_columns])"
   ]
  },
  {
   "cell_type": "code",
   "execution_count": 5,
   "metadata": {},
   "outputs": [],
   "source": [
    "def my_custom_loss_func(y_true, y_pred):\n",
    "    iou = np.zeros(len(y_true))\n",
    "    for i in range(0, len(y_pred)):\n",
    "        iou[i] = bb_intersection_over_union(y_true.iloc[i].values, y_pred[i])                          \n",
    "    res = iou.mean()\n",
    "    return res"
   ]
  },
  {
   "cell_type": "code",
   "execution_count": 87,
   "metadata": {},
   "outputs": [
    {
     "name": "stdout",
     "output_type": "stream",
     "text": [
      "0.5713057315820744\n"
     ]
    }
   ],
   "source": [
    "box_rate = 10\n",
    "kf = KFold(n_splits=5, random_state = 9)\n",
    "clf = linear_model.RidgeCV(alphas=np.logspace(-4, 0, 10),\n",
    "                           cv=kf, scoring=make_scorer(my_custom_loss_func))\n",
    "X = t_d_a[box_columns_all + columns_ratio][t_d_a['area'] > box_rate]\n",
    "y = t_d_a[t_d_a['area'] > box_rate]\n",
    "X_train, X_test, y_train, y_test = train_test_split(X, y, test_size=0.20)\n",
    "clf.fit(X_train, y_train[box_columns_true])\n",
    "y_test_pred = clf.predict(X_test)\n",
    "iou = np.zeros(len(y_test_pred))\n",
    "\n",
    "y_test_pred_pd = pd.DataFrame(data=np.c_[y_test_pred, y_test['itemId']], columns=box_columns_id)\n",
    "y_test_pred_pd['itemId'] = pd.to_numeric(y_test_pred_pd['itemId'], downcast='integer')\n",
    "data = y_test[box_columns_true + ['itemId']].merge(y_test_pred_pd, on=['itemId'])\n",
    "data[\"iou\"] = data[box_columns + box_columns_true].apply(intersection_over_union, axis=1)\n",
    "print(data[\"iou\"].mean())"
   ]
  },
  {
   "cell_type": "code",
   "execution_count": 78,
   "metadata": {},
   "outputs": [
    {
     "name": "stdout",
     "output_type": "stream",
     "text": [
      "{22483, 29012, 25142, 35738, 13855}\n"
     ]
    }
   ],
   "source": [
    "ids = list(set(data['itemId']))\n",
    "print(set(data[data['iou'] < .1]['itemId']))\n",
    "# print(data[data['itemId']  == 25135])"
   ]
  },
  {
   "cell_type": "code",
   "execution_count": 89,
   "metadata": {},
   "outputs": [
    {
     "name": "stdout",
     "output_type": "stream",
     "text": [
      "0.5716842630520145\n"
     ]
    }
   ],
   "source": [
    "center_rate = 10\n",
    "kf = KFold(n_splits=4, random_state = 9)\n",
    "clf_center = linear_model.MultiTaskLassoCV(alphas=np.logspace(-4, 0, 10), cv=kf)\n",
    "X = t_d_a[center_columns_all + columns_ratio][t_d_a['area'] > center_rate]\n",
    "y = t_d_a[t_d_a['area'] > center_rate]\n",
    "X_train, X_test, y_train, y_test = train_test_split(X, y, test_size=0.20)\n",
    "clf_center.fit(X_train, y_train[center_columns_true])\n",
    "y_test_pred = clf_center.predict(X_test)\n",
    "y_test_pred = np.c_[y_test_pred, np.zeros(y_test_pred.shape)]\n",
    "# Xmin, Ymin, Xmax, Ymax\n",
    "y_test_pred[:, 4] = y_test_pred[:, xc] - y_test_pred[:, l]/2 \n",
    "y_test_pred[:, 5] = y_test_pred[:, yc] - y_test_pred[:, w]/2\n",
    "y_test_pred[:, 6] = y_test_pred[:, xc] + y_test_pred[:, l]/2\n",
    "y_test_pred[:, 7] = y_test_pred[:, yc] + y_test_pred[:, w]/2\n",
    "y_test_pred = y_test_pred[:, 4:]\n",
    "y_test_pred_pd = pd.DataFrame(data=np.c_[y_test_pred, y_test['itemId']], columns=box_test_columns_id)\n",
    "y_test_pred_pd['itemId'] = pd.to_numeric(y_test_pred_pd['itemId'], downcast='integer')\n",
    "data = y_test[box_columns_true + ['itemId']].merge(y_test_pred_pd, on=['itemId'])\n",
    "data[\"iou\"] = data[box_test_columns + box_columns_true].apply(intersection_over_union, axis=1)\n",
    "print(data[\"iou\"].mean())"
   ]
  },
  {
   "cell_type": "code",
   "execution_count": 82,
   "metadata": {},
   "outputs": [
    {
     "name": "stdout",
     "output_type": "stream",
     "text": [
      "{31749, 4038, 32551, 1095, 17191, 8398, 7761, 22483, 29012, 25142, 11258, 13855}\n"
     ]
    }
   ],
   "source": [
    "ids = list(set(data['itemId']))\n",
    "print(set(data[data['iou'] < .2]['itemId']))"
   ]
  },
  {
   "cell_type": "code",
   "execution_count": 90,
   "metadata": {},
   "outputs": [],
   "source": [
    "X_submit_box = te_d[box_columns_all + columns_ratio]\n",
    "y_submit_box = clf.predict(X_submit_box)\n",
    "X_submit_center = te_d[center_columns_all + columns_ratio]\n",
    "y_submit_center = clf_center.predict(X_submit_center)\n",
    "# Xmin, Ymin, Xmax, Ymax\n",
    "y_submit_center = np.c_[y_submit_center, np.zeros(y_submit_center.shape)]\n",
    "y_submit_center[:, 4] = y_submit_center[:, xc] - y_submit_center[:, l]/2 \n",
    "y_submit_center[:, 5] = y_submit_center[:, yc] - y_submit_center[:, w]/2\n",
    "y_submit_center[:, 6] = y_submit_center[:, xc] + y_submit_center[:, l]/2\n",
    "y_submit_center[:, 7] = y_submit_center[:, yc] + y_submit_center[:, w]/2\n",
    "y_submit_center = y_submit_center[:, 4:]\n",
    "\n",
    "y_submit_pd_box = pd.DataFrame(data=np.c_[y_submit_box, te_d['itemId']], columns=box_columns_id)\n",
    "y_submit_pd_box['itemId'] = pd.to_numeric(y_submit_pd_box['itemId'], downcast='integer')\n",
    "y_submit_pd_center = pd.DataFrame(data=np.c_[y_submit_center, te_d['itemId']], columns=box_columns_id)\n",
    "y_submit_pd_center['itemId'] = pd.to_numeric(y_submit_pd_center['itemId'], downcast='integer')"
   ]
  },
  {
   "cell_type": "code",
   "execution_count": 91,
   "metadata": {},
   "outputs": [
    {
     "name": "stdout",
     "output_type": "stream",
     "text": [
      "        Xmin        Ymin        Xmax         Ymax  itemId\n",
      "0  79.905174  842.300529  386.082872  1109.564785    4099\n",
      "1  79.732177  843.882775  382.166302  1109.610940    4099\n",
      "2  80.604491  844.746830  383.652503  1109.999726    4099\n",
      "        Xmin        Ymin        Xmax         Ymax  itemId\n",
      "0  80.424011  843.462482  387.047622  1110.294818    4099\n",
      "1  79.688756  844.498842  383.853074  1109.357176    4099\n",
      "2  80.882680  845.227254  385.721165  1109.492565    4099\n"
     ]
    }
   ],
   "source": [
    "print(y_submit_pd_box[y_submit_pd_box['itemId'] == 4099])\n",
    "print(y_submit_pd_center[y_submit_pd_center['itemId'] == 4099])"
   ]
  },
  {
   "cell_type": "code",
   "execution_count": 95,
   "metadata": {},
   "outputs": [
    {
     "name": "stdout",
     "output_type": "stream",
     "text": [
      "(7230, 5)\n"
     ]
    },
    {
     "data": {
      "text/plain": [
       "0.9535161478033032"
      ]
     },
     "execution_count": 95,
     "metadata": {},
     "output_type": "execute_result"
    }
   ],
   "source": [
    "result = pd.concat([y_submit_pd_box, y_submit_pd_center])\n",
    "print(result.shape)\n",
    "# ids = list(set(y_submit_pd['itemId']))\n",
    "# answers = pd.DataFrame(np.zeros((len(ids), len(box_columns_id)), dtype=int), index=ids, columns=box_columns_id)\n",
    "# for iid in ids:\n",
    "#     weighted_averaging(iid, y_submit_pd, y_submit, answers, columns)\n",
    "answers = result.groupby('itemId').mean().reset_index()\n",
    "answers[['itemId'] + columns].to_csv('submit2504.csv', index=False, header=False)\n",
    "data = answers.merge(pd.read_csv(\"submit-max.csv\"), on=['itemId'])\n",
    "data[\"iou\"] = data[['Xmin','Ymin', 'Xmax', 'Ymax', 'Xmin_true',\\\n",
    "      'Ymin_true', 'Xmax_true','Ymax_true']].apply(intersection_over_union, axis=1)\n",
    "data[\"iou\"].mean()"
   ]
  }
 ],
 "metadata": {
  "kernelspec": {
   "display_name": "Python 3",
   "language": "python",
   "name": "python3"
  },
  "language_info": {
   "codemirror_mode": {
    "name": "ipython",
    "version": 3
   },
   "file_extension": ".py",
   "mimetype": "text/x-python",
   "name": "python",
   "nbconvert_exporter": "python",
   "pygments_lexer": "ipython3",
   "version": "3.6.8"
  }
 },
 "nbformat": 4,
 "nbformat_minor": 2
}
