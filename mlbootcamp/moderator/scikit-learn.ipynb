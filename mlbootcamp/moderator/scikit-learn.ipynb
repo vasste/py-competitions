{
 "cells": [
  {
   "cell_type": "code",
   "execution_count": 3,
   "metadata": {},
   "outputs": [],
   "source": [
    "import numpy as np\n",
    "import pandas as pd\n",
    "from sklearn.preprocessing import MinMaxScaler\n",
    "from sklearn import linear_model\n",
    "from sklearn.isotonic import IsotonicRegression\n",
    "from ideas import intersection_over_union\n",
    "from ideas import bb_intersection_over_union\n",
    "from sklearn.metrics import make_scorer\n",
    "from sklearn.model_selection import GridSearchCV\n",
    "from sklearn.model_selection import train_test_split, StratifiedKFold"
   ]
  },
  {
   "cell_type": "code",
   "execution_count": 128,
   "metadata": {},
   "outputs": [],
   "source": [
    "box_columns = ['Xmin','Ymin','Xmax','Ymax']\n",
    "box_columns_gd = ['Xmin_gd','Ymin_gd','Xmax_gd','Ymax_gd']\n",
    "center_columns = []\n",
    "# ['XcenterDelta', 'YcenterDelta']\n",
    "# 'Xratio', 'Yratio'\n",
    "columns_ratio = ['box_iou', 'iou']\n",
    "box_columns_all = box_columns + box_columns_gd + center_columns\n",
    "box_columns_true = ['Xmin_true','Ymin_true','Xmax_true','Ymax_true']\n",
    "box_columns_id = box_columns + ['itemId']"
   ]
  },
  {
   "cell_type": "code",
   "execution_count": 129,
   "metadata": {},
   "outputs": [],
   "source": [
    "te_d = pd.read_csv('test_data_full.csv')\n",
    "t_d = pd.read_csv('train_data_full.csv')\n",
    "t_a = pd.read_csv('train_answers.csv')\n",
    "t_d_a = t_d.merge(t_a, on=\"itemId\")\n",
    "ids = list(set(te_d['itemId']))\n",
    "scaler = MinMaxScaler()"
   ]
  },
  {
   "cell_type": "code",
   "execution_count": 130,
   "metadata": {},
   "outputs": [],
   "source": [
    "scaler_fit_d = t_d_a[box_columns_all].values\n",
    "scaler_fit_d = np.append(scaler_fit_d, te_d[box_columns_all].values, axis = 0)\n",
    "scaler.fit(scaler_fit_d)\n",
    "t_d_a[box_columns_all] = scaler.transform(t_d_a[box_columns_all])\n",
    "te_d[box_columns_all] = scaler.transform(te_d[box_columns_all])"
   ]
  },
  {
   "cell_type": "code",
   "execution_count": 131,
   "metadata": {},
   "outputs": [],
   "source": [
    "def my_custom_loss_func(y_true, y_pred):\n",
    "    iou = np.zeros(len(y_true))\n",
    "    for i in range(0, len(y_pred)):\n",
    "        iou[i] = bb_intersection_over_union(y_true.iloc[i].values, y_pred[i])                          \n",
    "    return iou.mean()"
   ]
  },
  {
   "cell_type": "code",
   "execution_count": 132,
   "metadata": {},
   "outputs": [],
   "source": [
    "# for uid in uids:\n",
    "X = t_d_a[box_columns_all + columns_ratio]\n",
    "y = t_d_a[box_columns_true]\n",
    "X_train, X_test, y_train, y_test = train_test_split(X, y, test_size=0.3)\n",
    "clf = linear_model.RidgeCV(alphas=(0.1, 1, 10), \n",
    "                           cv=5, scoring=make_scorer(my_custom_loss_func))\n",
    "# clf = linear_model.LassoLarsCV()\n",
    "clf.fit(X_train, y_train)\n",
    "y_test_pred = clf.predict(X_test)"
   ]
  },
  {
   "cell_type": "code",
   "execution_count": 133,
   "metadata": {},
   "outputs": [
    {
     "name": "stdout",
     "output_type": "stream",
     "text": [
      "0.5646539873002193\n"
     ]
    }
   ],
   "source": [
    "iou = np.zeros(len(y_test_pred))\n",
    "for i in range(0, len(y_test_pred)):\n",
    "    iou[i] = bb_intersection_over_union(y_test_pred[i], y_test.iloc[i].values)\n",
    "print(iou.mean())    "
   ]
  },
  {
   "cell_type": "code",
   "execution_count": 84,
   "metadata": {},
   "outputs": [],
   "source": [
    "X_submit = te_d[box_columns_all + columns_ratio]\n",
    "y_submit = clf.predict(X_submit)\n",
    "answers = pd.DataFrame(np.zeros((len(te_d), 5), dtype=int), index=te_d.index, columns=box_columns_id)\n",
    "y = 0\n",
    "for i,r in te_d.iterrows():        \n",
    "    for ci,cv in enumerate(box_columns):\n",
    "        answers.iloc[i][cv] = y_submit[y,ci] \n",
    "    answers.iloc[i]['itemId'] = r['itemId']\n",
    "    y = y + 1"
   ]
  },
  {
   "cell_type": "code",
   "execution_count": 85,
   "metadata": {},
   "outputs": [],
   "source": [
    "answers.groupby(\"itemId\").mean().to_csv('submit2001.csv', header=False)"
   ]
  }
 ],
 "metadata": {
  "kernelspec": {
   "display_name": "Python 3",
   "language": "python",
   "name": "python3"
  },
  "language_info": {
   "codemirror_mode": {
    "name": "ipython",
    "version": 3
   },
   "file_extension": ".py",
   "mimetype": "text/x-python",
   "name": "python",
   "nbconvert_exporter": "python",
   "pygments_lexer": "ipython3",
   "version": "3.6.8"
  }
 },
 "nbformat": 4,
 "nbformat_minor": 2
}
