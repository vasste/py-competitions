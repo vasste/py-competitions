{
 "cells": [
  {
   "cell_type": "code",
   "execution_count": 94,
   "metadata": {},
   "outputs": [],
   "source": [
    "import numpy as np\n",
    "import pandas as pd\n",
    "from sklearn.preprocessing import MinMaxScaler\n",
    "from sklearn import linear_model\n",
    "from ideas import intersection_over_union"
   ]
  },
  {
   "cell_type": "code",
   "execution_count": 36,
   "metadata": {},
   "outputs": [],
   "source": [
    "box_columns = ['Xmin','Ymin','Xmax','Ymax']\n",
    "box_columns_true = ['Xmin_true','Ymin_true','Xmax_true','Ymax_true']\n",
    "box_columns_id = box_columns + ['itemId']"
   ]
  },
  {
   "cell_type": "code",
   "execution_count": 30,
   "metadata": {},
   "outputs": [],
   "source": [
    "te_d = pd.read_csv('test_data.csv')\n",
    "t_d = pd.read_csv('train_data.csv')\n",
    "t_a = pd.read_csv('train_answers.csv')\n",
    "t_s = t_d.merge(t_a, on=\"itemId\")\n",
    "uids = list(set(t_s['userId']))\n",
    "ids = list(set(te_d['itemId']))"
   ]
  },
  {
   "cell_type": "code",
   "execution_count": 56,
   "metadata": {},
   "outputs": [],
   "source": [
    "scaler = MinMaxScaler()\n",
    "regr = linear_model.LinearRegression()"
   ]
  },
  {
   "cell_type": "code",
   "execution_count": 68,
   "metadata": {},
   "outputs": [],
   "source": [
    "answer = pd.DataFrame(np.zeros((len(te_d), 5), dtype=int), index=te_d.index, columns=box_columns_id)"
   ]
  },
  {
   "cell_type": "code",
   "execution_count": 119,
   "metadata": {},
   "outputs": [],
   "source": [
    "answer = pd.DataFrame(np.zeros((len(te_d), 5), dtype=int), index=te_d.index, columns=box_columns_id)\n",
    "# for uid in uids:\n",
    "for uid in uids:\n",
    "    X_train = t_s[t_s['userId'] == uid][box_columns]\n",
    "    y_train = t_s[t_s['userId'] == uid][box_columns_true]\n",
    "    X_test = te_d[te_d['userId'] == uid][box_columns_id]    \n",
    "    if (X_test.shape[0] > 0 and X_train.shape[0] > 0):\n",
    "        scaler.fit(X_train[box_columns])\n",
    "        regr.fit(scaler.transform(X_train), scaler.transform(y_train))\n",
    "        y_pred = scaler.inverse_transform(regr.predict(scaler.transform(X_test[box_columns])))\n",
    "        y = 0\n",
    "        for i,r in X_test.iterrows():        \n",
    "            for ci,cv in enumerate(box_columns):\n",
    "                answer.iloc[i][cv] = y_pred[y,ci] \n",
    "            answer.iloc[i]['itemId'] = r['itemId']\n",
    "            y = y + 1\n",
    "for i,r in te_d.iterrows():            \n",
    "    if answer.iloc[i]['itemId'] == 0:\n",
    "        answer.iloc[i][box_columns_id] = r[box_columns_id]"
   ]
  },
  {
   "cell_type": "code",
   "execution_count": 152,
   "metadata": {},
   "outputs": [
    {
     "name": "stdout",
     "output_type": "stream",
     "text": [
      "              Xmin         Ymin         Xmax         Ymax\n",
      "itemId                                                   \n",
      "18      301.500000   702.500000   638.000000   975.500000\n",
      "19      -69.000000   601.000000   245.000000   832.333333\n",
      "33       39.666667   444.333333   391.333333   697.666667\n",
      "62      155.142857   966.571429   537.428571  1262.428571\n",
      "114      41.333333   760.333333   316.000000   908.333333\n",
      "146      60.750000   604.500000   712.250000  1182.250000\n",
      "156      76.000000   799.000000   453.333333  1180.666667\n",
      "163      74.333333   622.166667   487.000000   939.666667\n",
      "164      84.333333   315.000000   472.666667   679.000000\n",
      "179      50.000000   435.666667   467.333333   699.333333\n",
      "186     112.571429   929.857143   922.142857  1726.000000\n",
      "215     119.000000   602.333333   616.000000   930.333333\n",
      "225      19.375000   757.750000    85.500000   791.500000\n",
      "227     123.200000   753.000000   738.800000  1215.400000\n",
      "247      49.250000   627.500000   142.250000   704.750000\n",
      "275      73.000000   542.714286   512.428571   898.000000\n",
      "311      88.800000   656.500000   469.900000  1000.700000\n",
      "399    -215.500000  1141.833333  6647.500000  6399.666667\n",
      "421     127.333333   877.666667   270.000000  1059.833333\n",
      "432     136.000000   865.666667   213.666667   984.666667\n",
      "442     124.333333   752.333333   251.666667   876.666667\n",
      "459      40.666667   436.666667   518.000000   621.000000\n",
      "492     292.333333  1073.666667   294.000000  1299.333333\n",
      "507     246.111111   374.222222   740.888889   885.333333\n",
      "631     133.333333   631.000000   493.333333   973.000000\n",
      "707     111.000000   716.833333   316.833333   998.500000\n",
      "723      79.428571   352.571429  1002.000000  1079.285714\n",
      "1003     94.714286   600.714286   276.000000   758.714286\n",
      "1065     95.000000   807.200000   429.000000  1129.400000\n",
      "1136    217.714286  1073.142857   838.571429  1530.714286\n",
      "...            ...          ...          ...          ...\n",
      "34122    87.666667   366.000000   493.000000   514.666667\n",
      "34143    58.285714   603.000000   515.857143   964.000000\n",
      "34284   240.777778   958.888889   773.666667  1030.333333\n",
      "34340    84.000000   603.000000   326.666667   903.666667\n",
      "34455     9.000000   296.666667   556.000000   720.333333\n",
      "34465   -39.666667   266.666667   687.333333   684.333333\n",
      "34471   108.000000   742.800000   578.600000  1136.200000\n",
      "34483   105.500000  1202.333333   557.500000  1640.833333\n",
      "34652   219.333333   940.666667   635.333333  1333.666667\n",
      "34655   135.125000  1249.125000   322.375000  1417.750000\n",
      "34796    36.625000   593.000000   109.125000   617.250000\n",
      "34804    56.333333   622.666667   254.666667   770.333333\n",
      "34958    59.000000   151.125000   866.375000   665.125000\n",
      "35020    93.000000   176.333333   471.000000   656.000000\n",
      "35021    27.666667   424.666667   149.000000   498.000000\n",
      "35110    -5.833333   938.333333   636.500000  1579.166667\n",
      "35118   133.666667   751.666667   424.166667   967.833333\n",
      "35128    34.333333   462.666667   109.333333   477.333333\n",
      "35227    68.666667   646.000000   954.000000  1151.333333\n",
      "35307   124.000000   345.000000   576.000000   685.333333\n",
      "35512    45.400000   877.000000   244.200000  1119.200000\n",
      "35514    43.000000   592.571429   264.857143   762.571429\n",
      "35544    99.600000   668.800000   433.400000   925.600000\n",
      "35660   128.125000   593.375000   566.125000   830.000000\n",
      "35682   113.625000  1105.500000   583.625000  1441.500000\n",
      "35685    85.100000   432.200000   549.400000   720.100000\n",
      "35695    81.200000  1085.400000   231.600000  1172.200000\n",
      "35966   157.333333   606.333333   888.000000  1198.000000\n",
      "35973    38.000000   888.333333   165.000000   996.666667\n",
      "35978    55.857143   685.142857   405.285714   802.428571\n",
      "\n",
      "[630 rows x 4 columns]\n"
     ]
    }
   ],
   "source": [
    "a_avg = answer[box_columns].groupby(\"itemId\").mean()\n",
    "print(a_avg)"
   ]
  },
  {
   "cell_type": "code",
   "execution_count": 154,
   "metadata": {},
   "outputs": [],
   "source": [
    "a_avg.astype('int64').to_csv('submit15.csv', header=False)"
   ]
  },
  {
   "cell_type": "code",
   "execution_count": 151,
   "metadata": {},
   "outputs": [
    {
     "name": "stdout",
     "output_type": "stream",
     "text": [
      "(630, 4)\n"
     ]
    }
   ],
   "source": [
    "max_result = pd.read_csv('submit-max.csv')\n",
    "max_result = max_result.set_index('itemId')\n",
    "print(max_result.shape)"
   ]
  },
  {
   "cell_type": "code",
   "execution_count": 153,
   "metadata": {},
   "outputs": [
    {
     "name": "stdout",
     "output_type": "stream",
     "text": [
      "0.31358463036980755\n"
     ]
    }
   ],
   "source": [
    "data = a_avg.merge(max_result, on=['itemId'])\n",
    "data[\"iou\"] = data[['Xmin','Ymin', 'Xmax', 'Ymax', 'Xmin_true',\\\n",
    "      'Ymin_true', 'Xmax_true','Ymax_true']].apply(intersection_over_union, axis=1)\n",
    "print(data[\"iou\"].mean()) "
   ]
  }
 ],
 "metadata": {
  "kernelspec": {
   "display_name": "Python 3",
   "language": "python",
   "name": "python3"
  },
  "language_info": {
   "codemirror_mode": {
    "name": "ipython",
    "version": 3
   },
   "file_extension": ".py",
   "mimetype": "text/x-python",
   "name": "python",
   "nbconvert_exporter": "python",
   "pygments_lexer": "ipython3",
   "version": "3.6.8"
  }
 },
 "nbformat": 4,
 "nbformat_minor": 2
}
