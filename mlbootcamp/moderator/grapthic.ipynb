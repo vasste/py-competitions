{
 "cells": [
  {
   "cell_type": "code",
   "execution_count": 2,
   "metadata": {},
   "outputs": [],
   "source": [
    "import numpy as np\n",
    "import pandas as pd\n",
    "import matplotlib.pyplot as plt\n",
    "from matplotlib.path import Path\n",
    "import matplotlib.patches as patches\n",
    "%matplotlib inline\n",
    "import math"
   ]
  },
  {
   "cell_type": "code",
   "execution_count": 5,
   "metadata": {},
   "outputs": [],
   "source": [
    "t_d = pd.read_csv('train_data_full.csv')\n",
    "t_a = pd.read_csv('train_answers.csv')\n",
    "t_d_a = t_d.merge(t_a, on=['itemId'])"
   ]
  },
  {
   "cell_type": "code",
   "execution_count": 17,
   "metadata": {},
   "outputs": [],
   "source": [
    "t_d_a['XYD'] = np.sqrt(t_d_a['X']*t_d_a['X'] + t_d_a['Y']*t_d_a['Y'])\n",
    "t_d_a['XYD_'] = np.sqrt((t_d['X_gd'] - t_d['X'])*(t_d['X_gd'] - t_d['X']) +\\\n",
    "                        (t_d['Y_gd'] - t_d['Y'])*(t_d['Y_gd'] - t_d['Y']))        "
   ]
  },
  {
   "cell_type": "code",
   "execution_count": 7,
   "metadata": {},
   "outputs": [
    {
     "data": {
      "image/png": "[encoded data removed]",
      "text/plain": [
       "<Figure size 432x288 with 1 Axes>"
      ]
     },
     "metadata": {
      "needs_background": "light"
     },
     "output_type": "display_data"
    }
   ],
   "source": [
    "num_bins = 50\n",
    "fig, ax = plt.subplots()\n",
    "n, bins, patches = ax.hist(t_d_a['P'], num_bins, density=1)\n",
    "fig.tight_layout()\n",
    "plt.show()"
   ]
  }
 ],
 "metadata": {
  "kernelspec": {
   "display_name": "Python 3",
   "language": "python",
   "name": "python3"
  },
  "language_info": {
   "codemirror_mode": {
    "name": "ipython",
    "version": 3
   },
   "file_extension": ".py",
   "mimetype": "text/x-python",
   "name": "python",
   "nbconvert_exporter": "python",
   "pygments_lexer": "ipython3",
   "version": "3.6.8"
  }
 },
 "nbformat": 4,
 "nbformat_minor": 2
}
