{
 "cells": [
  {
   "cell_type": "code",
   "execution_count": 2,
   "metadata": {},
   "outputs": [],
   "source": [
    "import numpy as np\n",
    "import pandas as pd\n",
    "from ideas import intersection_over_union\n",
    "from ideas import areas\n",
    "box_columns = ['Xmin','Ymin','Xmax','Ymax']"
   ]
  },
  {
   "cell_type": "code",
   "execution_count": 3,
   "metadata": {},
   "outputs": [],
   "source": [
    "t_d = pd.read_csv('train_data.csv')\n",
    "t_d['pxs'] = (t_d['Xmax'] - t_d['Xmin'])*(t_d['Ymax'] - t_d['Ymin'])\n",
    "pxs = t_d.groupby(\"itemId\")['pxs'].mean()\n",
    "t_d = t_d.merge(pxs, on=[\"itemId\"])\n",
    "t_d['pxs_ratio'] = t_d['pxs_x'] / t_d['pxs_y']\n",
    "train_answers = pd.read_csv('train_answers.csv')\n",
    "ids = list(set(t_d['itemId']))\n",
    "users_rating = pd.read_csv(\"users_rating.csv\")\n",
    "users_rating = users_rating.set_index('userId')"
   ]
  },
  {
   "cell_type": "code",
   "execution_count": 6,
   "metadata": {},
   "outputs": [],
   "source": [
    "t_d = pd.read_csv('train_data.csv')\n",
    "t_a = pd.read_csv('train_answers.csv')\n",
    "t_w_a = t_d.merge(t_a, on=[\"itemId\"])\n",
    "t_w_a['XminDifPer'] = (t_w_a['Xmin'] - t_w_a['Xmin_true'])/(t_w_a['Xmax_true'] - t_w_a['Xmin_true'])\n",
    "t_w_a['XmaxDifPer'] = (t_w_a['Xmax'] - t_w_a['Xmax_true'])/(t_w_a['Xmax_true'] - t_w_a['Xmin_true'])\n",
    "t_w_a['YminDifPer'] = (t_w_a['Ymin'] - t_w_a['Ymin_true'])/(t_w_a['Ymax_true'] - t_w_a['Ymin_true'])\n",
    "t_w_a['YmaxDifPer'] = (t_w_a['Ymax'] - t_w_a['Ymax_true'])/(t_w_a['Ymax_true'] - t_w_a['Ymin_true'])"
   ]
  },
  {
   "cell_type": "code",
   "execution_count": 7,
   "metadata": {},
   "outputs": [],
   "source": [
    "t_w_a.groupby(\"userId\")['XminDifPer', 'XmaxDifPer', 'YminDifPer', 'YmaxDifPer'].mean().to_csv('users_adj.csv', header=True)"
   ]
  },
  {
   "cell_type": "code",
   "execution_count": 8,
   "metadata": {},
   "outputs": [],
   "source": [
    "t_w_a['iou'] = t_w_a[['Xmin','Ymin', 'Xmax', 'Ymax', 'Xmin_true',\\\n",
    "      'Ymin_true', 'Xmax_true','Ymax_true']].apply(intersection_over_union, axis=1)\n",
    "t_w_a.groupby(\"userId\")['iou'].mean().to_csv('users_rating.csv', header=True)"
   ]
  },
  {
   "cell_type": "code",
   "execution_count": null,
   "metadata": {},
   "outputs": [],
   "source": [
    "t_w_a = t_d.merge(max_result, on=[\"itemId\"])"
   ]
  },
  {
   "cell_type": "code",
   "execution_count": 10,
   "metadata": {},
   "outputs": [
    {
     "name": "stdout",
     "output_type": "stream",
     "text": [
      "0.5395903589107386\n"
     ]
    }
   ],
   "source": [
    "users_rating = pd.read_csv(\"users_rating.csv\")\n",
    "users_rating = users_rating.set_index('userId')\n",
    "\n",
    "users_adj = pd.read_csv(\"users_adj.csv\")\n",
    "users_adj = users_adj.set_index('userId')\n",
    "\n",
    "quorum = pd.DataFrame(np.zeros((len(ids), 5), dtype=int), index=ids, columns=box_columns + ['itemId'])\n",
    "for i in ids:    \n",
    "    uids = t_d[t_d['itemId'] == i]['userId']\n",
    "    uid = users_rating.loc[uids].idxmax()['iou']\n",
    "    ti = t_d.loc[t_d['itemId'] == i].loc[t_d['userId'] == uid][box_columns].max()\n",
    "    uajd = users_adj.loc[uid]\n",
    "    l = ti['Xmax'] - ti['Xmin']\n",
    "    w = ti['Ymax'] - ti['Ymin']\n",
    "    for y in box_columns:        \n",
    "        t = l if \"X\" in y else w\n",
    "        c = 1 if \"min\" in y else -1\n",
    "        quorum.loc[i][y] = ti[y] + c * t * uajd[y + 'DifPer']\n",
    "    quorum.loc[i]['itemId'] = i    \n",
    "data = quorum.merge(train_answers, on=['itemId'])\n",
    "data[\"iou\"] = data[['Xmin','Ymin', 'Xmax', 'Ymax', 'Xmin_true',\\\n",
    "      'Ymin_true', 'Xmax_true','Ymax_true']].apply(intersection_over_union, axis=1)\n",
    "print(data[\"iou\"].mean())    "
   ]
  },
  {
   "cell_type": "code",
   "execution_count": null,
   "metadata": {},
   "outputs": [],
   "source": []
  }
 ],
 "metadata": {
  "kernelspec": {
   "display_name": "Python 3",
   "language": "python",
   "name": "python3"
  },
  "language_info": {
   "codemirror_mode": {
    "name": "ipython",
    "version": 3
   },
   "file_extension": ".py",
   "mimetype": "text/x-python",
   "name": "python",
   "nbconvert_exporter": "python",
   "pygments_lexer": "ipython3",
   "version": "3.6.8"
  }
 },
 "nbformat": 4,
 "nbformat_minor": 2
}
