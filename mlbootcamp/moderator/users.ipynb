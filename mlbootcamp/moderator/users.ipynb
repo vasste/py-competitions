{
 "cells": [
  {
   "cell_type": "code",
   "execution_count": 1,
   "metadata": {},
   "outputs": [],
   "source": [
    "import numpy as np\n",
    "import pandas as pd\n",
    "from ideas import intersection_over_union\n",
    "from ideas import areas\n",
    "user_columns = ['iou', 'userId']"
   ]
  },
  {
   "cell_type": "code",
   "execution_count": 6,
   "metadata": {},
   "outputs": [],
   "source": [
    "t_d = pd.read_csv('train_data.csv')\n",
    "t_a = pd.read_csv('train_answers.csv')\n",
    "t_e = pd.read_csv('test_data.csv')\n",
    "t_e_a = pd.read_csv('test_data_fgd.csv')\n",
    "ids = list(set(t_d['userId']).union(set(t_e['userId'])))\n",
    "t_w_a = t_d.merge(t_a, on=[\"itemId\"])\n",
    "t_e_w_a = t_e.merge(t_e_a, on=[\"itemId\"])"
   ]
  },
  {
   "cell_type": "code",
   "execution_count": 8,
   "metadata": {},
   "outputs": [],
   "source": [
    "user_rating = pd.DataFrame(np.zeros((len(ids), 2), dtype=int), \n",
    "                           index=ids, columns=['iou','userId'])\n",
    "t_w_a['iou'] = t_w_a[['Xmin','Ymin', 'Xmax', 'Ymax', 'Xmin_true',\\\n",
    "      'Ymin_true', 'Xmax_true','Ymax_true']].apply(intersection_over_union, axis=1)\n",
    "t_w_a = t_w_a.groupby(\"userId\")[user_columns].mean()\n",
    "\n",
    "t_e_w_a['iou'] = t_e_w_a[['Xmin','Ymin', 'Xmax', 'Ymax', 'Xmin_fgd',\\\n",
    "      'Ymin_fgd', 'Xmax_fgd','Ymax_fgd']].apply(intersection_over_union, axis=1)\n",
    "t_e_w_a = t_e_w_a.groupby(\"userId\")[user_columns].mean()"
   ]
  },
  {
   "cell_type": "code",
   "execution_count": 12,
   "metadata": {},
   "outputs": [],
   "source": [
    "for i in ids:\n",
    "    if i in t_w_a.index:\n",
    "        user_rating.loc[i] = t_w_a.loc[i]\n",
    "    else:\n",
    "        user_rating.loc[i] = t_e_w_a.loc[i]"
   ]
  },
  {
   "cell_type": "code",
   "execution_count": 13,
   "metadata": {},
   "outputs": [],
   "source": [
    "user_rating.to_csv('users_rating.csv', index=False)"
   ]
  }
 ],
 "metadata": {
  "kernelspec": {
   "display_name": "Python 3",
   "language": "python",
   "name": "python3"
  },
  "language_info": {
   "codemirror_mode": {
    "name": "ipython",
    "version": 3
   },
   "file_extension": ".py",
   "mimetype": "text/x-python",
   "name": "python",
   "nbconvert_exporter": "python",
   "pygments_lexer": "ipython3",
   "version": "3.6.8"
  }
 },
 "nbformat": 4,
 "nbformat_minor": 2
}
